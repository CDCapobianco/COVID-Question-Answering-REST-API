{
  "cells": [
    {
      "cell_type": "markdown",
      "source": [
        "# **Environment Setup**"
      ],
      "metadata": {
        "id": "c0yDGuEsQ5L0"
      }
    },
    {
      "cell_type": "code",
      "execution_count": null,
      "metadata": {
        "tags": [],
        "id": "A6Q8FH2EOUbY"
      },
      "outputs": [],
      "source": [
        "!pip uninstall lxml -y"
      ]
    },
    {
      "cell_type": "code",
      "execution_count": null,
      "metadata": {
        "tags": [],
        "id": "OW_I_NqVOUbY"
      },
      "outputs": [],
      "source": [
        "!pip install lxml"
      ]
    },
    {
      "cell_type": "code",
      "execution_count": null,
      "metadata": {
        "id": "XxV7f5T2hw_2",
        "tags": []
      },
      "outputs": [],
      "source": [
        "!pip install farm-haystack --quiet"
      ]
    },
    {
      "cell_type": "code",
      "execution_count": null,
      "metadata": {
        "id": "LEM2Onfl38oq",
        "tags": []
      },
      "outputs": [],
      "source": [
        "!pip install farm-haystack[faiss] --quiet"
      ]
    },
    {
      "cell_type": "code",
      "source": [
        "!pip install transformers\n",
        "!pip install datasets\n",
        "!pip install sentence-transformers"
      ],
      "metadata": {
        "id": "13FR6JEMR4r9"
      },
      "execution_count": null,
      "outputs": []
    },
    {
      "cell_type": "code",
      "execution_count": null,
      "metadata": {
        "id": "ghC5vNeahvcx",
        "tags": []
      },
      "outputs": [],
      "source": [
        "import os\n",
        "from subprocess import Popen, PIPE, STDOUT\n",
        "from haystack.document_stores import ElasticsearchDocumentStore\n",
        "from haystack.nodes.retriever import BM25Retriever,DensePassageRetriever,EmbeddingRetriever\n",
        "from haystack.nodes.reader import FARMReader\n",
        "from haystack.nodes import PreProcessor\n",
        "from haystack.pipelines import Pipeline\n",
        "from haystack.utils import print_answers\n",
        "import json\n",
        "import pandas as pd\n",
        "from datasets import load_dataset,arrow_dataset,ReadInstruction\n",
        "from transformers import AutoTokenizer, AutoModelForQuestionAnswering, pipeline\n",
        "from numpy import random"
      ]
    },
    {
      "cell_type": "markdown",
      "metadata": {
        "id": "uqqjv-XOyzkM",
        "tags": []
      },
      "source": [
        "# **Dataset Import and Processing**"
      ]
    },
    {
      "cell_type": "markdown",
      "metadata": {
        "id": "jvrWP98FBgPH"
      },
      "source": [
        "**Dataset Download**"
      ]
    },
    {
      "cell_type": "code",
      "execution_count": null,
      "metadata": {
        "execution": {
          "iopub.execute_input": "2023-03-14T09:11:39.455557Z",
          "iopub.status.busy": "2023-03-14T09:11:39.454990Z",
          "iopub.status.idle": "2023-03-14T09:11:45.525696Z",
          "shell.execute_reply": "2023-03-14T09:11:45.524863Z",
          "shell.execute_reply.started": "2023-03-14T09:11:39.455557Z"
        },
        "id": "Eci526S4BlEt"
      },
      "outputs": [],
      "source": [
        "!wget https://raw.githubusercontent.com/deepset-ai/COVID-QA/master/data/question-answering/COVID-QA.json"
      ]
    },
    {
      "cell_type": "markdown",
      "metadata": {
        "id": "pFr8TXlcpUv0"
      },
      "source": [
        "**JSON to DataFrame**"
      ]
    },
    {
      "cell_type": "code",
      "execution_count": null,
      "metadata": {
        "id": "M1BVDV9QpW2F",
        "tags": []
      },
      "outputs": [],
      "source": [
        "ds = load_dataset('json',data_files = \"/notebooks/COVID-QA.json\",field=\"data\")"
      ]
    },
    {
      "cell_type": "code",
      "execution_count": null,
      "metadata": {
        "id": "ZIDI3ZVyp8YZ",
        "tags": []
      },
      "outputs": [],
      "source": [
        "ds = ds[\"train\"].train_test_split(test_size=0.25)"
      ]
    },
    {
      "cell_type": "code",
      "execution_count": null,
      "metadata": {
        "id": "myNey6Sr49af",
        "tags": []
      },
      "outputs": [],
      "source": [
        "ds[\"train\"].to_json(\"train.json\",lines=False)"
      ]
    },
    {
      "cell_type": "code",
      "execution_count": null,
      "metadata": {
        "id": "etqbuB-mfDTr",
        "tags": []
      },
      "outputs": [],
      "source": [
        "ds[\"test\"].to_json(\"test.json\",lines=False)"
      ]
    },
    {
      "cell_type": "markdown",
      "metadata": {
        "id": "I7FgbrQSaOiO"
      },
      "source": [
        "**Model Testing**"
      ]
    },
    {
      "cell_type": "code",
      "execution_count": null,
      "metadata": {
        "execution": {
          "iopub.execute_input": "2023-03-14T17:44:10.775551Z",
          "iopub.status.busy": "2023-03-14T17:44:10.774943Z",
          "iopub.status.idle": "2023-03-14T17:44:15.137949Z",
          "shell.execute_reply": "2023-03-14T17:44:15.134990Z",
          "shell.execute_reply.started": "2023-03-14T17:44:10.775530Z"
        },
        "id": "8oY3GdZYZx13",
        "jupyter": {
          "outputs_hidden": true
        },
        "tags": []
      },
      "outputs": [],
      "source": [
        "model_ckpt = \"deepset/minilm-uncased-squad2\"\n",
        "tokenizer = AutoTokenizer.from_pretrained(model_ckpt)\n",
        "model = AutoModelForQuestionAnswering.from_pretrained(model_ckpt)\n",
        "context = ds[\"train\"][\"paragraphs\"][5][0][\"context\"]\n",
        "question = ds[\"train\"][\"paragraphs\"][5][0][\"qas\"][0][\"question\"]"
      ]
    },
    {
      "cell_type": "code",
      "execution_count": null,
      "metadata": {
        "execution": {
          "iopub.execute_input": "2023-03-14T09:22:06.398455Z",
          "iopub.status.busy": "2023-03-14T09:22:06.398260Z",
          "iopub.status.idle": "2023-03-14T09:22:06.789696Z",
          "shell.execute_reply": "2023-03-14T09:22:06.788839Z",
          "shell.execute_reply.started": "2023-03-14T09:22:06.398433Z"
        },
        "id": "zIcA4NT1cZFX"
      },
      "outputs": [],
      "source": [
        "pipe = pipeline(\"question-answering\",model=model,tokenizer=tokenizer)"
      ]
    },
    {
      "cell_type": "code",
      "execution_count": null,
      "metadata": {
        "colab": {
          "base_uri": "https://localhost:8080/"
        },
        "execution": {
          "iopub.execute_input": "2023-03-14T09:22:06.793348Z",
          "iopub.status.busy": "2023-03-14T09:22:06.793161Z",
          "iopub.status.idle": "2023-03-14T09:22:20.066651Z",
          "shell.execute_reply": "2023-03-14T09:22:20.065953Z",
          "shell.execute_reply.started": "2023-03-14T09:22:06.793327Z"
        },
        "id": "zKxCJ7lcf8_Y",
        "outputId": "9197e246-7c1f-40ac-962b-22ee921a499b"
      },
      "outputs": [
        {
          "data": {
            "text/plain": [
              "[{'score': 0.6244222521781921,\n",
              "  'start': 2380,\n",
              "  'end': 2412,\n",
              "  'answer': 'interferon-induced transmembrane'},\n",
              " {'score': 0.5352410674095154,\n",
              "  'start': 6107,\n",
              "  'end': 6147,\n",
              "  'answer': 'bonerestricted IFITM-like (BRIL) protein'},\n",
              " {'score': 0.48188379406929016, 'start': 1654, 'end': 1657, 'answer': 'TM1'}]"
            ]
          },
          "execution_count": 18,
          "metadata": {},
          "output_type": "execute_result"
        }
      ],
      "source": [
        "pipe(question=question,context=context,top_k=3)  #proposed answers"
      ]
    },
    {
      "cell_type": "code",
      "execution_count": null,
      "metadata": {
        "colab": {
          "base_uri": "https://localhost:8080/"
        },
        "execution": {
          "iopub.execute_input": "2023-03-14T09:22:20.069177Z",
          "iopub.status.busy": "2023-03-14T09:22:20.069014Z",
          "iopub.status.idle": "2023-03-14T09:22:20.073408Z",
          "shell.execute_reply": "2023-03-14T09:22:20.072886Z",
          "shell.execute_reply.started": "2023-03-14T09:22:20.069158Z"
        },
        "id": "aEXd4nQOFwGT",
        "outputId": "380fb16e-bcc3-4e44-c48a-8c3b579d247e"
      },
      "outputs": [
        {
          "data": {
            "text/plain": [
              "'What is IFITM?'"
            ]
          },
          "execution_count": 19,
          "metadata": {},
          "output_type": "execute_result"
        }
      ],
      "source": [
        "question"
      ]
    },
    {
      "cell_type": "code",
      "execution_count": null,
      "metadata": {
        "colab": {
          "base_uri": "https://localhost:8080/"
        },
        "execution": {
          "iopub.execute_input": "2023-03-14T09:22:20.076441Z",
          "iopub.status.busy": "2023-03-14T09:22:20.076266Z",
          "iopub.status.idle": "2023-03-14T09:22:20.103535Z",
          "shell.execute_reply": "2023-03-14T09:22:20.102975Z",
          "shell.execute_reply.started": "2023-03-14T09:22:20.076424Z"
        },
        "id": "yhXWLGUEf-3L",
        "outputId": "29f76753-5b4d-4458-ca3a-eabc4198d1d9"
      },
      "outputs": [
        {
          "data": {
            "text/plain": [
              "'interferon-induced transmembrane'"
            ]
          },
          "execution_count": 20,
          "metadata": {},
          "output_type": "execute_result"
        }
      ],
      "source": [
        "ds[\"train\"][\"paragraphs\"][5][0][\"qas\"][0][\"answers\"][0][\"text\"] #ground-truth"
      ]
    },
    {
      "cell_type": "markdown",
      "metadata": {
        "id": "TCzh7ORVhY94"
      },
      "source": [
        "# **Building Question Answer Pipeline with Haystack**"
      ]
    },
    {
      "cell_type": "markdown",
      "metadata": {
        "id": "YXhQIRIei83K"
      },
      "source": [
        "**Instantiate ElasticSearch as Background Process**"
      ]
    },
    {
      "cell_type": "code",
      "execution_count": null,
      "metadata": {
        "execution": {
          "iopub.execute_input": "2023-03-14T09:18:51.287073Z",
          "iopub.status.busy": "2023-03-14T09:18:51.286164Z",
          "iopub.status.idle": "2023-03-14T09:18:59.522203Z",
          "shell.execute_reply": "2023-03-14T09:18:59.521169Z",
          "shell.execute_reply.started": "2023-03-14T09:18:51.287042Z"
        },
        "id": "Qw8ndgwDi_UM"
      },
      "outputs": [],
      "source": [
        "url = \"\"\"https://artifacts.elastic.co/downloads/elasticsearch/\\\n",
        "elasticsearch-7.9.2-linux-x86_64.tar.gz\"\"\"\n",
        "!wget -nc -q {url}\n",
        "!tar -xzf elasticsearch-7.9.2-linux-x86_64.tar.gz"
      ]
    },
    {
      "cell_type": "code",
      "execution_count": null,
      "metadata": {
        "id": "0STNd_ApjLwD",
        "tags": []
      },
      "outputs": [],
      "source": [
        "# Run Elasticsearch as a background process\n",
        "!chown -R daemon:daemon elasticsearch-7.9.2\n",
        "es_server = Popen(args=['elasticsearch-7.9.2/bin/elasticsearch'],\n",
        "                  stdout=PIPE, stderr=STDOUT, preexec_fn=lambda: os.setuid(1))\n",
        "# Wait until Elasticsearch has started\n",
        "!sleep 60"
      ]
    },
    {
      "cell_type": "code",
      "execution_count": null,
      "metadata": {
        "id": "lZ5N42otjNp4",
        "tags": []
      },
      "outputs": [],
      "source": [
        "!curl -X GET \"localhost:9200/?pretty\""
      ]
    },
    {
      "cell_type": "markdown",
      "metadata": {
        "id": "pMl1Rj5jkRDJ"
      },
      "source": [
        "**Loading Documents in ElasticSearch DB**"
      ]
    },
    {
      "cell_type": "code",
      "execution_count": null,
      "metadata": {
        "id": "SHRmwA5CjR2y",
        "tags": []
      },
      "outputs": [],
      "source": [
        "document_store = ElasticsearchDocumentStore(return_embedding=True)"
      ]
    },
    {
      "cell_type": "code",
      "execution_count": null,
      "metadata": {
        "id": "XjKZPFdkFzAv",
        "tags": []
      },
      "outputs": [],
      "source": [
        "document_store.delete_documents()\n",
        "document_store.delete_labels()"
      ]
    },
    {
      "cell_type": "code",
      "execution_count": null,
      "metadata": {
        "id": "T8X_NvBVlDzd",
        "tags": []
      },
      "outputs": [],
      "source": [
        "documents = []\n",
        "for split,_ in ds.items():\n",
        "  for i in range(0,ds[split].num_rows):\n",
        "    document = {\"content\":ds[split][\"paragraphs\"][i][0][\"context\"],\n",
        "                \"meta\": {\"split\":split}}\n",
        "    documents.append(document)"
      ]
    },
    {
      "cell_type": "code",
      "execution_count": null,
      "metadata": {
        "id": "fhIbjaNo_L_E",
        "tags": []
      },
      "outputs": [],
      "source": [
        "preprocessor = PreProcessor(\n",
        "    clean_empty_lines=True,\n",
        "    clean_whitespace=True,\n",
        "    clean_header_footer=False,\n",
        "    split_by=\"word\",\n",
        "    split_length=100,\n",
        "    split_respect_sentence_boundary=True,\n",
        ")\n",
        "documents = preprocessor.process(documents)"
      ]
    },
    {
      "cell_type": "code",
      "execution_count": null,
      "metadata": {
        "id": "_Jk0y-PChChp",
        "tags": []
      },
      "outputs": [],
      "source": [
        "document_store.write_documents(documents,index=\"document\")"
      ]
    },
    {
      "cell_type": "code",
      "execution_count": null,
      "metadata": {
        "colab": {
          "base_uri": "https://localhost:8080/"
        },
        "id": "THzSrzpsi-qf",
        "outputId": "ab1d06d2-0530-4b5f-d6d4-76f0840f1d04",
        "tags": []
      },
      "outputs": [
        {
          "name": "stdout",
          "output_type": "stream",
          "text": [
            "670 documents were loaded\n"
          ]
        }
      ],
      "source": [
        "print(f\"{document_store.get_document_count()} documents were loaded\")"
      ]
    },
    {
      "cell_type": "markdown",
      "metadata": {
        "id": "iw0OsbAfk7q5"
      },
      "source": [
        "**Instantiate and Test Retriever Component**"
      ]
    },
    {
      "cell_type": "code",
      "execution_count": null,
      "metadata": {
        "id": "1NaarHofj2pE",
        "tags": []
      },
      "outputs": [],
      "source": [
        "bm25 = BM25Retriever(document_store = document_store)"
      ]
    },
    {
      "cell_type": "code",
      "execution_count": null,
      "metadata": {
        "id": "pomN4JlNlQSL"
      },
      "outputs": [],
      "source": [
        "retrieved_doc = bm25.retrieve(query = question,top_k=3)"
      ]
    },
    {
      "cell_type": "code",
      "execution_count": null,
      "metadata": {
        "colab": {
          "base_uri": "https://localhost:8080/"
        },
        "id": "inRnGZAhldMq",
        "outputId": "66bf573d-9e26-40d8-b364-604c3402494a"
      },
      "outputs": [
        {
          "name": "stdout",
          "output_type": "stream",
          "text": [
            "Architectural Insight into Inovirus-Associated Vectors (IAVs) and Development of IAV-Based Vaccines Inducing Humoral and Cellular Responses: Implicati\n",
            "The distal end of the virion (right) consists of five copies of each minor coat proteins gp7 and gp9, modeled following the helical parameters of gp8 \n",
            "Schematic representations of antigen display on the surface of Ff inovirus-associated vectors (IAVs). Foreign antigens are shown as red spheres. The d\n"
          ]
        }
      ],
      "source": [
        "for doc in retrieved_doc:\n",
        "  print(doc.content[:150])"
      ]
    },
    {
      "cell_type": "code",
      "execution_count": null,
      "metadata": {
        "colab": {
          "base_uri": "https://localhost:8080/"
        },
        "id": "XHjP5d6mqFQy",
        "outputId": "ae90ea4c-0c4e-49fa-bdeb-30d466ac7616"
      },
      "outputs": [
        {
          "data": {
            "application/vnd.google.colaboratory.intrinsic+json": {
              "type": "string"
            },
            "text/plain": [
              "'Architectural Insight into Inovirus-Associated Vec'"
            ]
          },
          "execution_count": 30,
          "metadata": {},
          "output_type": "execute_result"
        }
      ],
      "source": [
        "context[:50]"
      ]
    },
    {
      "cell_type": "markdown",
      "metadata": {
        "id": "4Qrzsj1Aqnds"
      },
      "source": [
        "**Instantiate and Test Reader Component**"
      ]
    },
    {
      "cell_type": "code",
      "execution_count": null,
      "metadata": {
        "execution": {
          "iopub.execute_input": "2023-03-14T09:25:52.448221Z",
          "iopub.status.busy": "2023-03-14T09:25:52.447408Z",
          "iopub.status.idle": "2023-03-14T09:25:55.398739Z",
          "shell.execute_reply": "2023-03-14T09:25:55.398079Z",
          "shell.execute_reply.started": "2023-03-14T09:25:52.448198Z"
        },
        "id": "9b8zkxPLqUvT"
      },
      "outputs": [],
      "source": [
        "reader = FARMReader(model_name_or_path=model_ckpt,max_seq_len=512,doc_stride=128,max_query_length=200,return_no_answer=True,progress_bar=False)"
      ]
    },
    {
      "cell_type": "code",
      "execution_count": null,
      "metadata": {
        "id": "cK4H99AurBWI",
        "jupyter": {
          "outputs_hidden": true
        },
        "tags": []
      },
      "outputs": [],
      "source": [
        "print(reader.predict_on_texts(question,top_k=1,texts=[context]))"
      ]
    },
    {
      "cell_type": "markdown",
      "metadata": {
        "id": "dE1vpmQ6tDRX"
      },
      "source": [
        "**Instantiate and Test the Pipeline**"
      ]
    },
    {
      "cell_type": "code",
      "execution_count": null,
      "metadata": {
        "id": "6G7BxmzOrQG_"
      },
      "outputs": [],
      "source": [
        "pipe = Pipeline()\n",
        "pipe.add_node(component=bm25,name=\"Retriever\",inputs=[\"Query\"])\n",
        "pipe.add_node(component=reader,name=\"Reader\",inputs=[\"Retriever\"])"
      ]
    },
    {
      "cell_type": "code",
      "execution_count": null,
      "metadata": {
        "id": "o5rKZLq6te1z"
      },
      "outputs": [],
      "source": [
        "preds = pipe.run(query=question,params={\"Retriever\":{\"top_k\":3},\"Reader\":{\"top_k\":5}},debug=True)"
      ]
    },
    {
      "cell_type": "code",
      "execution_count": null,
      "metadata": {
        "colab": {
          "base_uri": "https://localhost:8080/"
        },
        "id": "u_ZvOZXF6VPn",
        "jupyter": {
          "outputs_hidden": true
        },
        "outputId": "24e236d6-eb9c-493f-e499-b55af8f4ddd4",
        "tags": []
      },
      "outputs": [
        {
          "name": "stdout",
          "output_type": "stream",
          "text": [
            "\n",
            "Query: What are inovirus-associated vectors?\n",
            "Answers:\n",
            "[   <Answer {'answer': 'engineered, non-lytic, filamentous bacteriophages', 'type': 'extractive', 'score': 0.8232371807098389, 'context': '\\n\\nAbstract: Inovirus-associated vectors (IAVs) are engineered, non-lytic, filamentous bacteriophages that are assembled primarily from thousands of co', 'offsets_in_document': [{'start': 454, 'end': 503}], 'offsets_in_context': [{'start': 51, 'end': 100}], 'document_ids': ['15e77b2f9ef601536928de6a42d60db2'], 'meta': {'split': 'train', '_split_id': 0}}>,\n",
            "    <Answer {'answer': 'IAVs', 'type': 'extractive', 'score': 0.6021418571472168, 'context': 'ults in the presentation of oligopeptides as fusion proteins on the surface of the virion and are herein termed IAVs for inovirus-associated vectors. ', 'offsets_in_document': [{'start': 564, 'end': 568}], 'offsets_in_context': [{'start': 112, 'end': 116}], 'document_ids': ['7d19633cbf2eed6349a144804452115c'], 'meta': {'split': 'train', '_split_id': 24}}>,\n",
            "    <Answer {'answer': '', 'type': 'extractive', 'score': 0.5481009729168781, 'context': None, 'offsets_in_document': [{'start': 0, 'end': 0}], 'offsets_in_context': [{'start': 0, 'end': 0}], 'document_ids': None, 'meta': {}}>,\n",
            "    <Answer {'answer': 'IAVs', 'type': 'extractive', 'score': 0.4161839783191681, 'context': 'ons of antigen display on the surface of Ff inovirus-associated vectors (IAVs). Foreign antigens are shown as red spheres. The designation on the left', 'offsets_in_document': [{'start': 95, 'end': 99}], 'offsets_in_context': [{'start': 73, 'end': 77}], 'document_ids': ['297b913d1aadab1cefb2f8faaf8b2bf0'], 'meta': {'split': 'train', '_split_id': 34}}>]\n"
          ]
        }
      ],
      "source": [
        "print_answers(\n",
        "    preds,\n",
        "    details=\"all\" ## Choose from `minimum`, `medium`, and `all`\n",
        ")"
      ]
    },
    {
      "cell_type": "markdown",
      "metadata": {
        "id": "SvqCEYLV3-Th"
      },
      "source": [
        "# **Pipeline Evaluation**"
      ]
    },
    {
      "cell_type": "markdown",
      "metadata": {
        "id": "tWoVBbfhCGDA"
      },
      "source": [
        "In this section we want to perform the pipeline evaluation in order to get a rough idea of our system performance and select the best retriever model.\n",
        "In the next sections we will fine-tune the best retriever model and repeat the same process with the reader.\n",
        "We only label test data, because we want an evaluation which is comparable to the one we will do after fine-tuning the model"
      ]
    },
    {
      "cell_type": "markdown",
      "metadata": {
        "id": "CCXy1GhGr0c3"
      },
      "source": [
        "**Utility Functions**"
      ]
    },
    {
      "cell_type": "code",
      "execution_count": null,
      "metadata": {
        "id": "EDlhnrmIr2Ae",
        "tags": []
      },
      "outputs": [],
      "source": [
        "def convert_json_to_squad_format(path):\n",
        "  f = open(path,\"r\")\n",
        "  text = f.readlines()\n",
        "  text[0] = \"\"\"{\"data\": \"\"\" + text[0]\n",
        "  text[0] = text[0] + \"}\" \n",
        "  f = open(path,\"w\")\n",
        "  f.seek(0,0)\n",
        "  f.write(text[0])"
      ]
    },
    {
      "cell_type": "code",
      "execution_count": null,
      "metadata": {
        "id": "gLuMBfeIOUbd"
      },
      "outputs": [],
      "source": [
        "def evaluate_retriever(model,top_ks):\n",
        "    results = []\n",
        "    for k in top_ks:\n",
        "        results.append(model.eval(label_index='eval_labels',doc_index='eval_docs',top_k=k))\n",
        "    for i in range(3):\n",
        "        print(f\"Top_k:{top_ks[i]} Recall:{results[i]['recall']}\")"
      ]
    },
    {
      "cell_type": "markdown",
      "metadata": {
        "id": "hCeCuC5p5X3O"
      },
      "source": [
        "**Adding Evaluation Data to Document Store**"
      ]
    },
    {
      "cell_type": "code",
      "execution_count": null,
      "metadata": {
        "id": "jioiec3Uw6sU",
        "tags": []
      },
      "outputs": [],
      "source": [
        "convert_json_to_squad_format(\"/notebooks/train.json\")"
      ]
    },
    {
      "cell_type": "code",
      "execution_count": null,
      "metadata": {
        "id": "LJxfTfW7t4_g",
        "tags": []
      },
      "outputs": [],
      "source": [
        "convert_json_to_squad_format(\"/notebooks/test.json\")"
      ]
    },
    {
      "cell_type": "code",
      "execution_count": null,
      "metadata": {
        "id": "GZsum0-O4DPI",
        "tags": []
      },
      "outputs": [],
      "source": [
        "document_store.add_eval_data(\n",
        "    filename=\"/notebooks/test.json\",\n",
        "    doc_index = \"eval_docs\",\n",
        "    label_index = \"eval_labels\"\n",
        ")"
      ]
    },
    {
      "cell_type": "code",
      "execution_count": null,
      "metadata": {
        "id": "syRBl0Fr-9Qh",
        "tags": []
      },
      "outputs": [],
      "source": [
        "eval_labels = document_store.get_all_labels_aggregated(index=\"eval_labels\")"
      ]
    },
    {
      "cell_type": "markdown",
      "metadata": {
        "id": "02KDSyJZr2SU"
      },
      "source": [
        "**Evaluate BM25 + minilm-uncased-squad2**"
      ]
    },
    {
      "cell_type": "code",
      "execution_count": null,
      "metadata": {
        "id": "stSCMFo8-sJx"
      },
      "outputs": [],
      "source": [
        "eval_results = pipe.eval(labels=eval_labels,params={\"Retriever\":{\"top_k\":3},\"Reader\":{\"top_k\":1}})"
      ]
    },
    {
      "cell_type": "code",
      "execution_count": null,
      "metadata": {
        "id": "05FNfcx3Im17",
        "jupyter": {
          "outputs_hidden": true
        },
        "tags": []
      },
      "outputs": [],
      "source": [
        "pipe.print_eval_report(eval_results)"
      ]
    },
    {
      "cell_type": "code",
      "execution_count": null,
      "metadata": {
        "colab": {
          "referenced_widgets": [
            "b864ed7e804446daad610f4232a4371e",
            "f73700f52b774748a148e47845f365e4",
            "07b96925efff41fbbf87d7b3456cc877"
          ]
        },
        "id": "qDI6bWqpOUbe",
        "outputId": "7df7b9bd-7b9b-483d-dd62-d56115a9dbe9"
      },
      "outputs": [
        {
          "data": {
            "application/vnd.jupyter.widget-view+json": {
              "model_id": "b864ed7e804446daad610f4232a4371e",
              "version_major": 2,
              "version_minor": 0
            },
            "text/plain": [
              "  0%|          | 0/799 [00:00<?, ?it/s]"
            ]
          },
          "metadata": {},
          "output_type": "display_data"
        },
        {
          "data": {
            "application/vnd.jupyter.widget-view+json": {
              "model_id": "f73700f52b774748a148e47845f365e4",
              "version_major": 2,
              "version_minor": 0
            },
            "text/plain": [
              "  0%|          | 0/799 [00:00<?, ?it/s]"
            ]
          },
          "metadata": {},
          "output_type": "display_data"
        },
        {
          "data": {
            "application/vnd.jupyter.widget-view+json": {
              "model_id": "07b96925efff41fbbf87d7b3456cc877",
              "version_major": 2,
              "version_minor": 0
            },
            "text/plain": [
              "  0%|          | 0/799 [00:00<?, ?it/s]"
            ]
          },
          "metadata": {},
          "output_type": "display_data"
        },
        {
          "name": "stdout",
          "output_type": "stream",
          "text": [
            "Top_k:1 Recall:0.6257822277847309\n",
            "Top_k:5 Recall:0.8335419274092616\n",
            "Top_k:10 Recall:0.8948685857321652\n"
          ]
        }
      ],
      "source": [
        "top_ks = [1,5,10]\n",
        "evaluate_retriever(bm25,top_ks)"
      ]
    },
    {
      "cell_type": "markdown",
      "metadata": {
        "id": "_ZI7WZKSWrBr"
      },
      "source": [
        "We will now try 2 different embedding semantic search approaches (DPR and EmbeddingRetrieval) and fine-tune the best one to see if we can outperform BM25"
      ]
    },
    {
      "cell_type": "markdown",
      "metadata": {
        "id": "fe25Q3iVJvR2"
      },
      "source": [
        "**Evaluate DPR + minilm-uncased-squad2**"
      ]
    },
    {
      "cell_type": "code",
      "execution_count": null,
      "metadata": {
        "id": "wl4ap6TOxDeD",
        "tags": []
      },
      "outputs": [],
      "source": [
        "query_dpr_model = \"facebook/dpr-question_encoder-single-nq-base\"\n",
        "passage_dpr_model = \"facebook/dpr-ctx_encoder-single-nq-base\""
      ]
    },
    {
      "cell_type": "code",
      "execution_count": null,
      "metadata": {
        "id": "aabVJeANKAV-",
        "jupyter": {
          "outputs_hidden": true
        },
        "tags": []
      },
      "outputs": [],
      "source": [
        "dpr = DensePassageRetriever(document_store = document_store,query_embedding_model=query_dpr_model,\n",
        "                                      passage_embedding_model=passage_dpr_model,\n",
        "                                      embed_title=False)"
      ]
    },
    {
      "cell_type": "code",
      "execution_count": null,
      "metadata": {
        "id": "UZc3doAxKkPF"
      },
      "outputs": [],
      "source": [
        "document_store.update_embeddings(retriever=dpr,index=\"eval_docs\")"
      ]
    },
    {
      "cell_type": "code",
      "execution_count": null,
      "metadata": {
        "id": "sdRYIKKhKyqv"
      },
      "outputs": [],
      "source": [
        "pipe = Pipeline()\n",
        "pipe.add_node(component=dpr,name=\"Retriever\",inputs=[\"Query\"])\n",
        "pipe.add_node(component=reader,name=\"Reader\",inputs=[\"Retriever\"])"
      ]
    },
    {
      "cell_type": "code",
      "execution_count": null,
      "metadata": {
        "id": "cTeAREMPMI7K"
      },
      "outputs": [],
      "source": [
        "eval_results = pipe.eval(labels=eval_labels,params={\"Retriever\":{\"top_k\":3},\"Reader\":{\"top_k\":1}})"
      ]
    },
    {
      "cell_type": "code",
      "execution_count": null,
      "metadata": {
        "id": "4eVX1yHLMTE-"
      },
      "outputs": [],
      "source": [
        "pipe.print_eval_report(eval_results)"
      ]
    },
    {
      "cell_type": "code",
      "execution_count": null,
      "metadata": {
        "colab": {
          "referenced_widgets": [
            "97ff6cf6a27c4dadb4db3d68489991d9",
            "ca82c1136de24babacaf20540c3751ca",
            "2748a905703f4bd280e7ac94dbc3e7c9"
          ]
        },
        "id": "4OH6lWkKOUbg",
        "outputId": "3b709fe6-462d-421a-bb61-78cc3a8b23aa"
      },
      "outputs": [
        {
          "data": {
            "application/vnd.jupyter.widget-view+json": {
              "model_id": "97ff6cf6a27c4dadb4db3d68489991d9",
              "version_major": 2,
              "version_minor": 0
            },
            "text/plain": [
              "  0%|          | 0/799 [00:00<?, ?it/s]"
            ]
          },
          "metadata": {},
          "output_type": "display_data"
        },
        {
          "data": {
            "application/vnd.jupyter.widget-view+json": {
              "model_id": "ca82c1136de24babacaf20540c3751ca",
              "version_major": 2,
              "version_minor": 0
            },
            "text/plain": [
              "  0%|          | 0/799 [00:00<?, ?it/s]"
            ]
          },
          "metadata": {},
          "output_type": "display_data"
        },
        {
          "data": {
            "application/vnd.jupyter.widget-view+json": {
              "model_id": "2748a905703f4bd280e7ac94dbc3e7c9",
              "version_major": 2,
              "version_minor": 0
            },
            "text/plain": [
              "  0%|          | 0/799 [00:00<?, ?it/s]"
            ]
          },
          "metadata": {},
          "output_type": "display_data"
        },
        {
          "name": "stdout",
          "output_type": "stream",
          "text": [
            "Top_k:1 Recall:0.19774718397997496\n",
            "Top_k:5 Recall:0.3692115143929912\n",
            "Top_k:10 Recall:0.4755944931163955\n"
          ]
        }
      ],
      "source": [
        "top_ks = [1,5,10]\n",
        "evaluate_retriever(dpr,top_ks)"
      ]
    },
    {
      "cell_type": "markdown",
      "metadata": {
        "id": "6MJvj-97Pbn-"
      },
      "source": [
        "**EmbeddingRetriever + minilm-uncased-squad2**"
      ]
    },
    {
      "cell_type": "code",
      "execution_count": null,
      "metadata": {
        "id": "j887DuShQdpf"
      },
      "outputs": [],
      "source": [
        "embedding_model = \"sentence-transformers/multi-qa-mpnet-base-dot-v1\""
      ]
    },
    {
      "cell_type": "code",
      "execution_count": null,
      "metadata": {
        "id": "u0AZWBemPpZA",
        "tags": []
      },
      "outputs": [],
      "source": [
        "er = EmbeddingRetriever(document_store = document_store,\n",
        "                        embedding_model=embedding_model)"
      ]
    },
    {
      "cell_type": "code",
      "execution_count": null,
      "metadata": {
        "colab": {
          "base_uri": "https://localhost:8080/",
          "height": 81,
          "referenced_widgets": [
            "f379cda6139342e3853d61a0e700e776",
            "cbd2450ed6d04243805403879b3242e5",
            "c7ad8a72589c4ed6b7d930b878f5bf5d",
            "87d6ed5bf3bf48a8ab72e138a1023c1a",
            "760dc6323569465fac3e3eeb338df1df",
            "b05c7147c9a248a0938c855f51525594",
            "2cad3a4e261c470fabce93df2c754c1d",
            "a211d21d0a9846ccb5f9e7d9f62efbc2",
            "31fffd3ef35d41baa294f7272fe1767e",
            "d94d52e913de43b991ba321786b3618c",
            "4ae1fdd4f38e49c89565d0e4fb6e5fcc",
            "c691f37b483c44519017adecc2081e8e",
            "e02e0aee1b984f3dbde6ef290a48afe4",
            "92cf886cbda64a429555a589086b5436",
            "53df583b8e404cf2a325c635e759dcb5",
            "3a14f46a7c9b44aaa08352edca866eb7",
            "d33cf1ecb2d642cc9eafdf8df4853311",
            "254bc0667d934b23af8aa64840e770fe",
            "e0a92efadefd4ac1aa2640ed1588fcc2",
            "c55de0bc5d7646798d9a6e636d8266ea",
            "351921cade7f4ce28e57825bf4dd2083",
            "95d8f962c77842a98aab35ec07562338",
            "b88e0c87a8ac482a9044ea8d055a0ae3",
            "54d0b5f223b543159370892aed96f822"
          ]
        },
        "id": "3GDUCJlZP0cz",
        "outputId": "cc12c7e8-cda9-4c26-8f19-bb8884712ee8",
        "tags": []
      },
      "outputs": [
        {
          "data": {
            "application/vnd.jupyter.widget-view+json": {
              "model_id": "b88e0c87a8ac482a9044ea8d055a0ae3",
              "version_major": 2,
              "version_minor": 0
            },
            "text/plain": [
              "Updating embeddings:   0%|          | 0/66 [00:00<?, ? Docs/s]"
            ]
          },
          "metadata": {},
          "output_type": "display_data"
        },
        {
          "data": {
            "application/vnd.jupyter.widget-view+json": {
              "model_id": "54d0b5f223b543159370892aed96f822",
              "version_major": 2,
              "version_minor": 0
            },
            "text/plain": [
              "Batches:   0%|          | 0/3 [00:00<?, ?it/s]"
            ]
          },
          "metadata": {},
          "output_type": "display_data"
        }
      ],
      "source": [
        "document_store.update_embeddings(er,index='eval_docs')"
      ]
    },
    {
      "cell_type": "code",
      "execution_count": null,
      "metadata": {
        "id": "GUXPZTevP3aU"
      },
      "outputs": [],
      "source": [
        "pipe = Pipeline()\n",
        "pipe.add_node(component=er,name=\"Retriever\",inputs=[\"Query\"])\n",
        "pipe.add_node(component=reader,name=\"Reader\",inputs=[\"Retriever\"])"
      ]
    },
    {
      "cell_type": "code",
      "execution_count": null,
      "metadata": {
        "id": "MfrgtT9jP6-f"
      },
      "outputs": [],
      "source": [
        "eval_results = pipe.eval(labels=eval_labels,params={\"Retriever\":{\"top_k\":3},\"Reader\":{\"top_k\":1}})"
      ]
    },
    {
      "cell_type": "code",
      "execution_count": null,
      "metadata": {
        "id": "4hcEIpwnQnba",
        "jupyter": {
          "outputs_hidden": true
        },
        "tags": []
      },
      "outputs": [],
      "source": [
        "pipe.print_eval_report(eval_results)"
      ]
    },
    {
      "cell_type": "code",
      "execution_count": null,
      "metadata": {
        "jupyter": {
          "outputs_hidden": true
        },
        "tags": [],
        "id": "hWXvtQpVOUbh"
      },
      "outputs": [],
      "source": [
        "top_ks = [1,5,10]\n",
        "evaluate_retriever(er,top_ks)"
      ]
    },
    {
      "cell_type": "markdown",
      "metadata": {
        "id": "2cShpWn0PcUl"
      },
      "source": [
        "# **Retriever Improvement**"
      ]
    },
    {
      "cell_type": "markdown",
      "metadata": {
        "id": "cUvKMWqEx7ZT"
      },
      "source": [
        "**Utility Functions**"
      ]
    },
    {
      "cell_type": "code",
      "execution_count": null,
      "metadata": {
        "id": "xCgayYeiimQ_"
      },
      "outputs": [],
      "source": [
        "def ds_to_er_format(ds):\n",
        "  train_set = []\n",
        "  for item in ds:\n",
        "    for label in [label for label in item[0][\"qas\"] if label['is_impossible']==False]:\n",
        "      train_set.append({'question':label['question'],\n",
        "                        'pos_doc': item[0][\"context\"]})\n",
        "  return train_set"
      ]
    },
    {
      "cell_type": "markdown",
      "metadata": {
        "id": "qEiw_3KDNOzS"
      },
      "source": [
        "**Fine-Tuning EmbeddingRetrieval**"
      ]
    },
    {
      "cell_type": "code",
      "execution_count": null,
      "metadata": {
        "id": "Umuv2sYGpmjo",
        "jupyter": {
          "outputs_hidden": true
        },
        "tags": []
      },
      "outputs": [],
      "source": [
        "er = EmbeddingRetriever(document_store = document_store,\n",
        "                        embedding_model=embedding_model)"
      ]
    },
    {
      "cell_type": "code",
      "execution_count": null,
      "metadata": {
        "id": "4h_GXRfBY7yv",
        "jupyter": {
          "outputs_hidden": true
        },
        "tags": []
      },
      "outputs": [],
      "source": [
        "train_ds = load_dataset(\"json\",data_files= \"/notebooks/train.json\",field=\"data\")"
      ]
    },
    {
      "cell_type": "code",
      "execution_count": null,
      "metadata": {
        "id": "x93SPh2bAWsY"
      },
      "outputs": [],
      "source": [
        "train_ds = train_ds[\"train\"][\"paragraphs\"]"
      ]
    },
    {
      "cell_type": "code",
      "execution_count": null,
      "metadata": {
        "id": "w9ZGIyHTl4uN"
      },
      "outputs": [],
      "source": [
        "train_set = ds_to_er_format(train_ds)"
      ]
    },
    {
      "cell_type": "code",
      "execution_count": null,
      "metadata": {
        "id": "GoFTbGCoyEzj",
        "jupyter": {
          "outputs_hidden": true
        },
        "tags": []
      },
      "outputs": [],
      "source": [
        "er.train(training_data=train_set,learning_rate=3e-05,n_epochs=3)"
      ]
    },
    {
      "cell_type": "code",
      "execution_count": null,
      "metadata": {
        "id": "Pl53FnEW9DM-",
        "jupyter": {
          "outputs_hidden": true
        },
        "tags": []
      },
      "outputs": [],
      "source": [
        "document_store.update_embeddings(er,index='eval_docs')"
      ]
    },
    {
      "cell_type": "code",
      "execution_count": null,
      "metadata": {
        "jupyter": {
          "outputs_hidden": true
        },
        "tags": [],
        "id": "EHcD5SNeOUbj"
      },
      "outputs": [],
      "source": [
        "top_ks = [1,5,10]\n",
        "evaluate_retriever(er,top_ks)"
      ]
    },
    {
      "cell_type": "markdown",
      "metadata": {
        "id": "I5n-I21Xxviw"
      },
      "source": [
        "# **Reader Improvement**"
      ]
    },
    {
      "cell_type": "markdown",
      "metadata": {
        "id": "Wwp_qKDEgfgJ"
      },
      "source": [
        "**minilm-uncased-squad2 Fine-Tuning with 5-Fold Cross-Validation**"
      ]
    },
    {
      "cell_type": "code",
      "execution_count": null,
      "metadata": {
        "id": "fzRPNKZ-OUbj"
      },
      "outputs": [],
      "source": [
        "model_ckpt = \"deepset/minilm-uncased-squad2\""
      ]
    },
    {
      "cell_type": "code",
      "execution_count": null,
      "metadata": {
        "tags": [],
        "id": "kKf5SHsvOUbk"
      },
      "outputs": [],
      "source": [
        "reader = FARMReader(model_name_or_path=model_ckpt,max_seq_len=384,doc_stride=128,max_query_length=200,return_no_answer=True,no_ans_boost=-100,progress_bar=False)"
      ]
    },
    {
      "cell_type": "code",
      "execution_count": null,
      "metadata": {
        "jupyter": {
          "outputs_hidden": true
        },
        "tags": [],
        "id": "ohSAV8vzOUbk"
      },
      "outputs": [],
      "source": [
        "i = 1\n",
        "for k in range(0,100,20):\n",
        "    val_ds = load_dataset('json',data_files = \"xval minilm/COVID-QA.json\", field=\"data\",split=[ReadInstruction(\"train\", from_=k, to=k+20, unit=\"%\")])\n",
        "    train_ds = load_dataset('json',data_files=\"xval minilm/COVID-QA.json\", field=\"data\",split=[(ReadInstruction(\"train\", to=k, unit=\"%\") + ReadInstruction(\"train\", from_=k+20, unit=\"%\"))])\n",
        "    train_ds[0].to_json(\"xval minilm/train\"+str(i)+\".json\",lines=False)\n",
        "    val_ds[0].to_json(\"xval minilm/val\"+str(i)+\".json\",lines=False)\n",
        "    i+=1"
      ]
    },
    {
      "cell_type": "code",
      "execution_count": null,
      "metadata": {
        "id": "GsQCcnibOUbk"
      },
      "outputs": [],
      "source": [
        "for i in range(1,6):\n",
        "    convert_json_to_squad_format(\"/notebooks/xval minilm/train\"+str(i)+\".json\")\n",
        "    convert_json_to_squad_format(\"/notebooks/xval minilm/val\"+str(i)+\".json\")"
      ]
    },
    {
      "cell_type": "code",
      "execution_count": null,
      "metadata": {
        "id": "IVfv0HwBOUbk"
      },
      "outputs": [],
      "source": [
        "for i in range(1,6):\n",
        "    train_f = \"/notebooks/xval minilm/train\"+str(i)+\".json\"\n",
        "    val_f = \"/notebooks/xval minilm/val\"+str(i)+\".json\"\n",
        "    reader.train(\n",
        "        data_dir=\"/notebooks/xval minilm\",\n",
        "        train_filename=train_f,\n",
        "        use_gpu=True,\n",
        "        n_epochs=3,\n",
        "        batch_size=24,\n",
        "        learning_rate=3e-5,\n",
        "        save_dir=\"/notebooks/ft_minilm\",\n",
        "        checkpoint_every = 1,\n",
        "        checkpoint_root_dir = \"/notebooks/ft_minilm/checkpoints\",\n",
        "        use_amp=True,\n",
        "        warmup_proportion = 0.1\n",
        "    )\n",
        "\n",
        "    results = reader.eval_on_file(data_dir=\"/notebooks/xval minilm\", test_filename=val_f)\n",
        "    print(results)\n",
        "    reader = FARMReader(model_name_or_path=model_ckpt,max_seq_len=384,doc_stride=128,max_query_length=200,return_no_answer=True,no_ans_boost=-100,progress_bar=False)"
      ]
    },
    {
      "cell_type": "markdown",
      "metadata": {
        "id": "5rvvXFCrgmfR"
      },
      "source": [
        "**Evaluating BM25 + Fine-Tuned minilm-uncased-squad2**"
      ]
    },
    {
      "cell_type": "code",
      "execution_count": null,
      "metadata": {
        "id": "dk1YQysZga0p"
      },
      "outputs": [],
      "source": [
        "pipe = Pipeline()\n",
        "pipe.add_node(component=bm25,name=\"Retriever\",inputs=[\"Query\"])\n",
        "pipe.add_node(component=reader,name=\"Reader\",inputs=[\"Retriever\"])"
      ]
    },
    {
      "cell_type": "code",
      "execution_count": null,
      "metadata": {
        "id": "_z6-PKRit-Tx"
      },
      "outputs": [],
      "source": [
        "eval_results = pipe.eval(labels=eval_labels,params={\"Retriever\":{\"top_k\":3},\"Reader\":{\"top_k\":1}})"
      ]
    },
    {
      "cell_type": "code",
      "execution_count": null,
      "metadata": {
        "id": "wQf-RokauFX7"
      },
      "outputs": [],
      "source": [
        "pipe.print_eval_report(eval_results)"
      ]
    },
    {
      "cell_type": "markdown",
      "metadata": {
        "tags": [],
        "id": "NjAcGqoRqQeR"
      },
      "source": [
        "# **Generative LFQA**"
      ]
    },
    {
      "cell_type": "markdown",
      "source": [
        "We will now adopt Generative Long-Form Question Answering to compare it to the extractive solution"
      ],
      "metadata": {
        "id": "ptzrWbRvzs7u"
      }
    },
    {
      "cell_type": "markdown",
      "metadata": {
        "id": "Ya4f9MdqqQeS"
      },
      "source": [
        "**Import Dependencies**"
      ]
    },
    {
      "cell_type": "code",
      "execution_count": null,
      "metadata": {
        "tags": [],
        "id": "_us7NDNDqQeS",
        "outputId": "19d24096-9741-4ae5-b0fb-7123b404803e"
      },
      "outputs": [
        {
          "name": "stdout",
          "output_type": "stream",
          "text": [
            "time: 452 µs (started: 2023-03-28 18:20:31 +00:00)\n"
          ]
        }
      ],
      "source": [
        "from haystack.nodes import Seq2SeqGenerator\n",
        "from datasets import load_dataset\n",
        "from haystack.schema import Document"
      ]
    },
    {
      "cell_type": "markdown",
      "metadata": {
        "id": "690jRycPqQeS"
      },
      "source": [
        "**Utility Functions**"
      ]
    },
    {
      "cell_type": "code",
      "execution_count": null,
      "metadata": {
        "id": "GkPz61cGqQeS"
      },
      "outputs": [],
      "source": [
        "def evaluate_generator(generator,ds,n):\n",
        "    for e in ds[:n]:\n",
        "        question = e[0]['qas'][0]['question']\n",
        "        answer = e[0]['qas'][0]['answers'][0]\n",
        "        context = e[0]['context']\n",
        "        doc = Document(content=context)\n",
        "        docs = [doc]\n",
        "        \n",
        "        results = generator.predict(query=question,documents=docs)\n",
        "        print(f\"Question:{question}\\nAnswer:{answer['text']}\\nGenerated Answer:{results['answers'][0].answer}\\n\\n\\n\")\n",
        "        "
      ]
    },
    {
      "cell_type": "code",
      "execution_count": null,
      "metadata": {
        "execution": {
          "iopub.execute_input": "2023-03-16T16:10:30.056416Z",
          "iopub.status.busy": "2023-03-16T16:10:30.055811Z",
          "iopub.status.idle": "2023-03-16T16:10:30.228246Z",
          "shell.execute_reply": "2023-03-16T16:10:30.227785Z",
          "shell.execute_reply.started": "2023-03-16T16:10:30.056398Z"
        },
        "jupyter": {
          "outputs_hidden": true
        },
        "tags": [],
        "id": "mdFeoG39qQeT"
      },
      "outputs": [],
      "source": [
        "test_set = load_dataset(\"json\",data_files=\"/notebooks/test.json\",field=\"data\")\n",
        "test_set = test_set[\"train\"]['paragraphs']"
      ]
    },
    {
      "cell_type": "code",
      "execution_count": null,
      "metadata": {
        "tags": [],
        "id": "09nQQxEMqQeT"
      },
      "outputs": [],
      "source": [
        "generator = Seq2SeqGenerator(model_name_or_path=\"Davidai/lfqa_covid\")"
      ]
    },
    {
      "cell_type": "code",
      "execution_count": null,
      "metadata": {
        "id": "5uMxWqCSqQeT",
        "outputId": "62886814-3583-4284-89a7-9bc213ed8ee8"
      },
      "outputs": [
        {
          "name": "stdout",
          "output_type": "stream",
          "text": [
            "Question:What enzymes have been reported to be linked with severity of infection and various pathological conditions caused by microorganisms?\n",
            "Answer:cysteine proteases\n",
            "Generated Answer:I'm not sure if this is what you're looking for, but there are a few enzymes that have been shown to be associated with increased susceptibility to certain infections. The most well-known of these is the cysteine-protease inhibitor (CPI), which has been used to treat a variety of bacterial infections.\n",
            "\n",
            "\n",
            "\n",
            "Question:What are inovirus-associated vectors?\n",
            "Answer:engineered, non-lytic, filamentous bacteriophages\n",
            "Generated Answer:I'm not sure if this is what you're looking for, but I'll give it a shot. Inovirus-associated vectors (IAVs) are a type of bacteriophage that infects bacteria. There are over 50 different species of filamentous viruses; the majority of them capable of infecting Gram-negative bacteria. They are made up of thousands of copies of the major coat protein gp8 and just five copies of each of the four minor coat proteins gp3, gp6, gp7 and gp9. These coat proteins are assembled at the outer surface of the virion, where the major capsid protein subunits replace the single-stranded DNA binding protein and for more than two decades has been exploited in many applications including antibody or peptide display libraries, drug design and vaccine development against infectious and non-infectious diseases. They have been shown to elicit both a cellular and humoral response against various pathogens through the display of antibody epitopes on their coat\n",
            "\n",
            "\n",
            "\n",
            "Question:What is the distance between the p4.7 and p12.7 genes in the Irish versus Japanese equine coronavirus variants?\n",
            "Answer:544 base pairs\n",
            "Generated Answer:The P4.7 and P12.7 genes are highly conserved and are closely related to ECoVs identified in other countries. In contrast, the non-coding region following the P 4.7 gene had deletions or insertions, suggesting that there is potential for ECoV to be over-diagnosed as a causative agent in complex diseases.\n",
            "\n",
            "\n",
            "\n",
            "Question:What is the mechanism of action for rupintrivir?\n",
            "Answer:prevents cleavage of viral proteins required for replication\n",
            "Generated Answer:The mechanism of action of rupintrivir is not well understood, but it is believed that it inhibits the replication of the virus in the body. This is thought to be due to the fact that the virus is able to evade the immune system's ability to recognize it as a foreign invader.\n",
            "\n",
            "\n",
            "\n",
            "Question:When did the last Director General of the WHO resign?\n",
            "Answer:June 30, 2017\n",
            "Generated Answer:The current Director General of the World Health Organization (WHO) is Dr. Margaret Chan. She has been the head of the organization for the past 10 years. She was appointed in 2006 by the UN Security Council. She is the first woman to be appointed to the position. Her predecessor, Dr. Tedros Adhanom Ghebreyesus, stepped down in 2009. The current Director-General of the WHO is currently Dr. Sanjay Gupta. He is the current Director of the International Agency for Research on Cancer (IARC).\n",
            "\n",
            "\n",
            "\n"
          ]
        }
      ],
      "source": [
        "evaluate_generator(generator,test_set,5)"
      ]
    },
    {
      "cell_type": "markdown",
      "metadata": {
        "id": "HiAu2UswqQeU"
      },
      "source": [
        "# **FAQ QA**"
      ]
    },
    {
      "cell_type": "markdown",
      "source": [
        "Finally we try,as last approach, the FAQ Question Answering, that uses embeddings of the retriever model to return the best answer in the DB."
      ],
      "metadata": {
        "id": "IrFgUAYFz8Wc"
      }
    },
    {
      "cell_type": "markdown",
      "source": [
        "**Import Dependencies**"
      ],
      "metadata": {
        "id": "hifgWkOqs78R"
      }
    },
    {
      "cell_type": "code",
      "execution_count": null,
      "metadata": {
        "id": "pfT8WmH9qQeU"
      },
      "outputs": [],
      "source": [
        "from haystack.pipelines import ExtractiveQAPipeline, GenerativeQAPipeline,FAQPipeline\n",
        "import pandas as pd\n",
        "from haystack.nodes import EmbeddingRetriever"
      ]
    },
    {
      "cell_type": "markdown",
      "source": [
        "We need additional data to build a FAQ pipeline. We will download and process 6 sets of question-answer pairs (no context) of various sizes."
      ],
      "metadata": {
        "id": "U0KhqfmdvXbg"
      }
    },
    {
      "cell_type": "markdown",
      "source": [
        "**Utility Functions**"
      ],
      "metadata": {
        "id": "4bWG23CIvhRF"
      }
    },
    {
      "cell_type": "code",
      "source": [
        "def preprocess_faq_csv(df,q_column,a_column):\n",
        "  df = df[[q_column,a_column]]\n",
        "  df.fillna(value=\"\", inplace=True)\n",
        "  df[q_column] = df[q_column].apply(lambda x: x.strip())\n",
        "  questions = list(df[q_column].values)\n",
        "  df[\"embedding\"] = er.embed_queries(queries=questions).tolist()\n",
        "  df = df.rename(columns={q_column: \"content\"})"
      ],
      "metadata": {
        "id": "PbCbJrsItbu5"
      },
      "execution_count": null,
      "outputs": []
    },
    {
      "cell_type": "code",
      "source": [
        "def load_faq_data(df):\n",
        "  docs_to_index = df.to_dict(orient=\"records\")\n",
        "  document_store.write_documents(docs_to_index,index=\"faq\")"
      ],
      "metadata": {
        "id": "vfYxThaDvqEU"
      },
      "execution_count": null,
      "outputs": []
    },
    {
      "cell_type": "code",
      "source": [
        "ds_list = [\"additional_data/big_faq.csv\",\n",
        "           \"additional_data/community.csv\",\n",
        "           \"additional_data/COVID19_FAQ.csv\",\n",
        "           \"additional_data/multilingual.csv\",\n",
        "           \"additional_data/news.csv\",\n",
        "           \"additional_data/small_faq_covid.csv\"]"
      ],
      "metadata": {
        "id": "E1kNoWxNvkNa"
      },
      "execution_count": null,
      "outputs": []
    },
    {
      "cell_type": "markdown",
      "metadata": {
        "id": "dSaEbQ6PqQeg"
      },
      "source": [
        "**BIG FAQ Loading**"
      ]
    },
    {
      "cell_type": "code",
      "execution_count": null,
      "metadata": {
        "id": "teOa2Vi4qQeg"
      },
      "outputs": [],
      "source": [
        "df = pd.read_csv(ds_list[0])\n",
        "df = df.loc[df[\"language\"] == \"en\"]\n",
        "preprocess_faq_csv(df,\"question\",\"answer\")\n",
        "load_faq_data(df)\n"
      ]
    },
    {
      "cell_type": "markdown",
      "metadata": {
        "id": "d_sDrfH_qQeh"
      },
      "source": [
        "**Community FAQ Loading**"
      ]
    },
    {
      "cell_type": "code",
      "execution_count": null,
      "metadata": {
        "id": "rgrlTjfIqQeh"
      },
      "outputs": [],
      "source": [
        "df = pd.read_csv(ds_list[1])\n",
        "preprocess_faq_csv(df,\"question\",\"answer\")\n",
        "load_faq_data(df)"
      ]
    },
    {
      "cell_type": "markdown",
      "metadata": {
        "id": "2JrGCgfvqQei"
      },
      "source": [
        "**COVID 19 FAQ**"
      ]
    },
    {
      "cell_type": "code",
      "execution_count": null,
      "metadata": {
        "colab": {
          "referenced_widgets": [
            "f943695b50584291950845f0dc922d5a"
          ]
        },
        "id": "ePfXBJoEqQei",
        "outputId": "ed921114-39cd-4558-fdd0-ef5d408d9074"
      },
      "outputs": [
        {
          "data": {
            "application/vnd.jupyter.widget-view+json": {
              "model_id": "f943695b50584291950845f0dc922d5a",
              "version_major": 2,
              "version_minor": 0
            },
            "text/plain": [
              "Batches:   0%|          | 0/3 [00:00<?, ?it/s]"
            ]
          },
          "metadata": {},
          "output_type": "display_data"
        }
      ],
      "source": [
        "df = pd.read_csv(ds_list[2])\n",
        "preprocess_faq_csv(df,\"questions\",\"answers\")\n",
        "load_faq_data(df)"
      ]
    },
    {
      "cell_type": "markdown",
      "metadata": {
        "id": "I0wv6BHeqQej"
      },
      "source": [
        "**Multilingual FAQ**"
      ]
    },
    {
      "cell_type": "code",
      "execution_count": null,
      "metadata": {
        "colab": {
          "referenced_widgets": [
            "45b5f5418ea74c44a1d22e5d5da0bbbc"
          ]
        },
        "id": "YPh5uttkqQej",
        "outputId": "aea63b88-cf9d-4505-8667-159097a65850"
      },
      "outputs": [
        {
          "data": {
            "application/vnd.jupyter.widget-view+json": {
              "model_id": "45b5f5418ea74c44a1d22e5d5da0bbbc",
              "version_major": 2,
              "version_minor": 0
            },
            "text/plain": [
              "Batches:   0%|          | 0/6 [00:00<?, ?it/s]"
            ]
          },
          "metadata": {},
          "output_type": "display_data"
        }
      ],
      "source": [
        "df = pd.read_csv(ds_list[3])\n",
        "df = df.loc[df[\"language\"] == \"english\"]\n",
        "load_faq_data(df)"
      ]
    },
    {
      "cell_type": "markdown",
      "metadata": {
        "id": "BxwA79OXqQek"
      },
      "source": [
        "**News FAQ**"
      ]
    },
    {
      "cell_type": "code",
      "execution_count": null,
      "metadata": {
        "colab": {
          "referenced_widgets": [
            "788eedffcf8c450fb5aff3455039cea7"
          ]
        },
        "id": "1HWB27lyqQel",
        "outputId": "103404d5-9d37-430b-99f6-335aa4b23884"
      },
      "outputs": [
        {
          "data": {
            "application/vnd.jupyter.widget-view+json": {
              "model_id": "788eedffcf8c450fb5aff3455039cea7",
              "version_major": 2,
              "version_minor": 0
            },
            "text/plain": [
              "Batches:   0%|          | 0/16 [00:00<?, ?it/s]"
            ]
          },
          "metadata": {},
          "output_type": "display_data"
        }
      ],
      "source": [
        "df = pd.read_csv(ds_list[4])\n",
        "preprocess_faq_csv(df,\"question\",\"answer\")\n",
        "load_faq_data(df)"
      ]
    },
    {
      "cell_type": "markdown",
      "metadata": {
        "id": "G-eDFe_-qQem"
      },
      "source": [
        "**Small FAQ**"
      ]
    },
    {
      "cell_type": "code",
      "execution_count": null,
      "metadata": {
        "colab": {
          "referenced_widgets": [
            ""
          ]
        },
        "id": "JBKwlcswqQem",
        "outputId": "18b98ed0-b4bb-4cbe-b498-51c08d42849e"
      },
      "outputs": [
        {
          "data": {
            "application/vnd.jupyter.widget-view+json": {
              "model_id": "",
              "version_major": 2,
              "version_minor": 0
            },
            "text/plain": [
              "Batches:   0%|          | 0/7 [00:00<?, ?it/s]"
            ]
          },
          "metadata": {},
          "output_type": "display_data"
        }
      ],
      "source": [
        "df = pd.read_csv(\"additional_data/small_faq_covid.csv\")\n",
        "preprocess_faq_csv(df,\"question\",\"answer\")\n",
        "load_faq_data(df)"
      ]
    },
    {
      "cell_type": "markdown",
      "metadata": {
        "id": "pWGZ6JZzqQeo"
      },
      "source": [
        "**FAQ Pipeline Testing**"
      ]
    },
    {
      "cell_type": "code",
      "source": [
        "er = EmbeddingRetriever(document_store,embedding_model)"
      ],
      "metadata": {
        "id": "ujkY_NijxEPV"
      },
      "execution_count": null,
      "outputs": []
    },
    {
      "cell_type": "code",
      "execution_count": null,
      "metadata": {
        "id": "_MbcnTC2qQeo"
      },
      "outputs": [],
      "source": [
        "faq_pipeline = FAQPipeline(er)"
      ]
    },
    {
      "cell_type": "code",
      "execution_count": null,
      "metadata": {
        "colab": {
          "referenced_widgets": [
            "9f34df2a54d74939b5589aa27cf75227"
          ]
        },
        "id": "ju6et1iRqQeo",
        "outputId": "018be5ee-2c09-405d-e9cd-0af4022e0aea"
      },
      "outputs": [
        {
          "data": {
            "application/vnd.jupyter.widget-view+json": {
              "model_id": "9f34df2a54d74939b5589aa27cf75227",
              "version_major": 2,
              "version_minor": 0
            },
            "text/plain": [
              "Batches:   0%|          | 0/1 [00:00<?, ?it/s]"
            ]
          },
          "metadata": {},
          "output_type": "display_data"
        },
        {
          "name": "stdout",
          "output_type": "stream",
          "text": [
            "There are two different types of tests available: viral tests (diagnostic) and antibody tests.\n",
            "\n",
            "A viral (diagnostic) test tells you if you have a current infection.\n",
            "An antibody test might tell you if you had a past infection. An antibody test might not show if you have a current infection because it can take 1–3 weeks after infection for your body to make antibodies. Having antibodies to the virus that causes COVID-19 might provide protection from getting infected with the virus again. If it does, we do not know how much protection the antibodies might provide or how long this protection might last.\n",
            "\n",
            "For more information about differences between the different types of tests, please visit VDH’s Testing Webpage.\n"
          ]
        }
      ],
      "source": [
        "question = \"What are the tests for COVID?\"\n",
        "answer = faq_pipeline.run(query=question,params={\"Retriever\":{'top_k':1, 'index':'faq'}})\n",
        "print(answer['answers'][0].answer)"
      ]
    }
  ],
  "metadata": {
    "accelerator": "GPU",
    "colab": {
      "provenance": []
    },
    "gpuClass": "standard",
    "kernelspec": {
      "display_name": "Python 3 (ipykernel)",
      "language": "python",
      "name": "python3"
    },
    "language_info": {
      "codemirror_mode": {
        "name": "ipython",
        "version": 3
      },
      "file_extension": ".py",
      "mimetype": "text/x-python",
      "name": "python",
      "nbconvert_exporter": "python",
      "pygments_lexer": "ipython3",
      "version": "3.9.16"
    },
    "widgets": {
      "application/vnd.jupyter.widget-state+json": {
        "254bc0667d934b23af8aa64840e770fe": {
          "model_module": "@jupyter-widgets/controls",
          "model_module_version": "1.5.0",
          "model_name": "DescriptionStyleModel",
          "state": {
            "_model_module": "@jupyter-widgets/controls",
            "_model_module_version": "1.5.0",
            "_model_name": "DescriptionStyleModel",
            "_view_count": null,
            "_view_module": "@jupyter-widgets/base",
            "_view_module_version": "1.2.0",
            "_view_name": "StyleView",
            "description_width": ""
          }
        },
        "2cad3a4e261c470fabce93df2c754c1d": {
          "model_module": "@jupyter-widgets/controls",
          "model_module_version": "1.5.0",
          "model_name": "DescriptionStyleModel",
          "state": {
            "_model_module": "@jupyter-widgets/controls",
            "_model_module_version": "1.5.0",
            "_model_name": "DescriptionStyleModel",
            "_view_count": null,
            "_view_module": "@jupyter-widgets/base",
            "_view_module_version": "1.2.0",
            "_view_name": "StyleView",
            "description_width": ""
          }
        },
        "31fffd3ef35d41baa294f7272fe1767e": {
          "model_module": "@jupyter-widgets/controls",
          "model_module_version": "1.5.0",
          "model_name": "ProgressStyleModel",
          "state": {
            "_model_module": "@jupyter-widgets/controls",
            "_model_module_version": "1.5.0",
            "_model_name": "ProgressStyleModel",
            "_view_count": null,
            "_view_module": "@jupyter-widgets/base",
            "_view_module_version": "1.2.0",
            "_view_name": "StyleView",
            "bar_color": null,
            "description_width": ""
          }
        },
        "351921cade7f4ce28e57825bf4dd2083": {
          "model_module": "@jupyter-widgets/base",
          "model_module_version": "1.2.0",
          "model_name": "LayoutModel",
          "state": {
            "_model_module": "@jupyter-widgets/base",
            "_model_module_version": "1.2.0",
            "_model_name": "LayoutModel",
            "_view_count": null,
            "_view_module": "@jupyter-widgets/base",
            "_view_module_version": "1.2.0",
            "_view_name": "LayoutView",
            "align_content": null,
            "align_items": null,
            "align_self": null,
            "border": null,
            "bottom": null,
            "display": null,
            "flex": null,
            "flex_flow": null,
            "grid_area": null,
            "grid_auto_columns": null,
            "grid_auto_flow": null,
            "grid_auto_rows": null,
            "grid_column": null,
            "grid_gap": null,
            "grid_row": null,
            "grid_template_areas": null,
            "grid_template_columns": null,
            "grid_template_rows": null,
            "height": null,
            "justify_content": null,
            "justify_items": null,
            "left": null,
            "margin": null,
            "max_height": null,
            "max_width": null,
            "min_height": null,
            "min_width": null,
            "object_fit": null,
            "object_position": null,
            "order": null,
            "overflow": null,
            "overflow_x": null,
            "overflow_y": null,
            "padding": null,
            "right": null,
            "top": null,
            "visibility": null,
            "width": null
          }
        },
        "3a14f46a7c9b44aaa08352edca866eb7": {
          "model_module": "@jupyter-widgets/base",
          "model_module_version": "1.2.0",
          "model_name": "LayoutModel",
          "state": {
            "_model_module": "@jupyter-widgets/base",
            "_model_module_version": "1.2.0",
            "_model_name": "LayoutModel",
            "_view_count": null,
            "_view_module": "@jupyter-widgets/base",
            "_view_module_version": "1.2.0",
            "_view_name": "LayoutView",
            "align_content": null,
            "align_items": null,
            "align_self": null,
            "border": null,
            "bottom": null,
            "display": null,
            "flex": null,
            "flex_flow": null,
            "grid_area": null,
            "grid_auto_columns": null,
            "grid_auto_flow": null,
            "grid_auto_rows": null,
            "grid_column": null,
            "grid_gap": null,
            "grid_row": null,
            "grid_template_areas": null,
            "grid_template_columns": null,
            "grid_template_rows": null,
            "height": null,
            "justify_content": null,
            "justify_items": null,
            "left": null,
            "margin": null,
            "max_height": null,
            "max_width": null,
            "min_height": null,
            "min_width": null,
            "object_fit": null,
            "object_position": null,
            "order": null,
            "overflow": null,
            "overflow_x": null,
            "overflow_y": null,
            "padding": null,
            "right": null,
            "top": null,
            "visibility": null,
            "width": null
          }
        },
        "4ae1fdd4f38e49c89565d0e4fb6e5fcc": {
          "model_module": "@jupyter-widgets/controls",
          "model_module_version": "1.5.0",
          "model_name": "DescriptionStyleModel",
          "state": {
            "_model_module": "@jupyter-widgets/controls",
            "_model_module_version": "1.5.0",
            "_model_name": "DescriptionStyleModel",
            "_view_count": null,
            "_view_module": "@jupyter-widgets/base",
            "_view_module_version": "1.2.0",
            "_view_name": "StyleView",
            "description_width": ""
          }
        },
        "53df583b8e404cf2a325c635e759dcb5": {
          "model_module": "@jupyter-widgets/controls",
          "model_module_version": "1.5.0",
          "model_name": "HTMLModel",
          "state": {
            "_dom_classes": [],
            "_model_module": "@jupyter-widgets/controls",
            "_model_module_version": "1.5.0",
            "_model_name": "HTMLModel",
            "_view_count": null,
            "_view_module": "@jupyter-widgets/controls",
            "_view_module_version": "1.5.0",
            "_view_name": "HTMLView",
            "description": "",
            "description_tooltip": null,
            "layout": "IPY_MODEL_351921cade7f4ce28e57825bf4dd2083",
            "placeholder": "​",
            "style": "IPY_MODEL_95d8f962c77842a98aab35ec07562338",
            "value": " 218/218 [01:08&lt;00:00,  5.61it/s]"
          }
        },
        "760dc6323569465fac3e3eeb338df1df": {
          "model_module": "@jupyter-widgets/base",
          "model_module_version": "1.2.0",
          "model_name": "LayoutModel",
          "state": {
            "_model_module": "@jupyter-widgets/base",
            "_model_module_version": "1.2.0",
            "_model_name": "LayoutModel",
            "_view_count": null,
            "_view_module": "@jupyter-widgets/base",
            "_view_module_version": "1.2.0",
            "_view_name": "LayoutView",
            "align_content": null,
            "align_items": null,
            "align_self": null,
            "border": null,
            "bottom": null,
            "display": null,
            "flex": null,
            "flex_flow": null,
            "grid_area": null,
            "grid_auto_columns": null,
            "grid_auto_flow": null,
            "grid_auto_rows": null,
            "grid_column": null,
            "grid_gap": null,
            "grid_row": null,
            "grid_template_areas": null,
            "grid_template_columns": null,
            "grid_template_rows": null,
            "height": null,
            "justify_content": null,
            "justify_items": null,
            "left": null,
            "margin": null,
            "max_height": null,
            "max_width": null,
            "min_height": null,
            "min_width": null,
            "object_fit": null,
            "object_position": null,
            "order": null,
            "overflow": null,
            "overflow_x": null,
            "overflow_y": null,
            "padding": null,
            "right": null,
            "top": null,
            "visibility": null,
            "width": null
          }
        },
        "87d6ed5bf3bf48a8ab72e138a1023c1a": {
          "model_module": "@jupyter-widgets/controls",
          "model_module_version": "1.5.0",
          "model_name": "HTMLModel",
          "state": {
            "_dom_classes": [],
            "_model_module": "@jupyter-widgets/controls",
            "_model_module_version": "1.5.0",
            "_model_name": "HTMLModel",
            "_view_count": null,
            "_view_module": "@jupyter-widgets/controls",
            "_view_module_version": "1.5.0",
            "_view_name": "HTMLView",
            "description": "",
            "description_tooltip": null,
            "layout": "IPY_MODEL_d94d52e913de43b991ba321786b3618c",
            "placeholder": "​",
            "style": "IPY_MODEL_4ae1fdd4f38e49c89565d0e4fb6e5fcc",
            "value": " 10000/? [02:03&lt;00:00, 80.78 Docs/s]"
          }
        },
        "92cf886cbda64a429555a589086b5436": {
          "model_module": "@jupyter-widgets/controls",
          "model_module_version": "1.5.0",
          "model_name": "FloatProgressModel",
          "state": {
            "_dom_classes": [],
            "_model_module": "@jupyter-widgets/controls",
            "_model_module_version": "1.5.0",
            "_model_name": "FloatProgressModel",
            "_view_count": null,
            "_view_module": "@jupyter-widgets/controls",
            "_view_module_version": "1.5.0",
            "_view_name": "ProgressView",
            "bar_style": "success",
            "description": "",
            "description_tooltip": null,
            "layout": "IPY_MODEL_e0a92efadefd4ac1aa2640ed1588fcc2",
            "max": 218,
            "min": 0,
            "orientation": "horizontal",
            "style": "IPY_MODEL_c55de0bc5d7646798d9a6e636d8266ea",
            "value": 218
          }
        },
        "95d8f962c77842a98aab35ec07562338": {
          "model_module": "@jupyter-widgets/controls",
          "model_module_version": "1.5.0",
          "model_name": "DescriptionStyleModel",
          "state": {
            "_model_module": "@jupyter-widgets/controls",
            "_model_module_version": "1.5.0",
            "_model_name": "DescriptionStyleModel",
            "_view_count": null,
            "_view_module": "@jupyter-widgets/base",
            "_view_module_version": "1.2.0",
            "_view_name": "StyleView",
            "description_width": ""
          }
        },
        "a211d21d0a9846ccb5f9e7d9f62efbc2": {
          "model_module": "@jupyter-widgets/base",
          "model_module_version": "1.2.0",
          "model_name": "LayoutModel",
          "state": {
            "_model_module": "@jupyter-widgets/base",
            "_model_module_version": "1.2.0",
            "_model_name": "LayoutModel",
            "_view_count": null,
            "_view_module": "@jupyter-widgets/base",
            "_view_module_version": "1.2.0",
            "_view_name": "LayoutView",
            "align_content": null,
            "align_items": null,
            "align_self": null,
            "border": null,
            "bottom": null,
            "display": null,
            "flex": null,
            "flex_flow": null,
            "grid_area": null,
            "grid_auto_columns": null,
            "grid_auto_flow": null,
            "grid_auto_rows": null,
            "grid_column": null,
            "grid_gap": null,
            "grid_row": null,
            "grid_template_areas": null,
            "grid_template_columns": null,
            "grid_template_rows": null,
            "height": null,
            "justify_content": null,
            "justify_items": null,
            "left": null,
            "margin": null,
            "max_height": null,
            "max_width": null,
            "min_height": null,
            "min_width": null,
            "object_fit": null,
            "object_position": null,
            "order": null,
            "overflow": null,
            "overflow_x": null,
            "overflow_y": null,
            "padding": null,
            "right": null,
            "top": null,
            "visibility": null,
            "width": null
          }
        },
        "b05c7147c9a248a0938c855f51525594": {
          "model_module": "@jupyter-widgets/base",
          "model_module_version": "1.2.0",
          "model_name": "LayoutModel",
          "state": {
            "_model_module": "@jupyter-widgets/base",
            "_model_module_version": "1.2.0",
            "_model_name": "LayoutModel",
            "_view_count": null,
            "_view_module": "@jupyter-widgets/base",
            "_view_module_version": "1.2.0",
            "_view_name": "LayoutView",
            "align_content": null,
            "align_items": null,
            "align_self": null,
            "border": null,
            "bottom": null,
            "display": null,
            "flex": null,
            "flex_flow": null,
            "grid_area": null,
            "grid_auto_columns": null,
            "grid_auto_flow": null,
            "grid_auto_rows": null,
            "grid_column": null,
            "grid_gap": null,
            "grid_row": null,
            "grid_template_areas": null,
            "grid_template_columns": null,
            "grid_template_rows": null,
            "height": null,
            "justify_content": null,
            "justify_items": null,
            "left": null,
            "margin": null,
            "max_height": null,
            "max_width": null,
            "min_height": null,
            "min_width": null,
            "object_fit": null,
            "object_position": null,
            "order": null,
            "overflow": null,
            "overflow_x": null,
            "overflow_y": null,
            "padding": null,
            "right": null,
            "top": null,
            "visibility": null,
            "width": null
          }
        },
        "c55de0bc5d7646798d9a6e636d8266ea": {
          "model_module": "@jupyter-widgets/controls",
          "model_module_version": "1.5.0",
          "model_name": "ProgressStyleModel",
          "state": {
            "_model_module": "@jupyter-widgets/controls",
            "_model_module_version": "1.5.0",
            "_model_name": "ProgressStyleModel",
            "_view_count": null,
            "_view_module": "@jupyter-widgets/base",
            "_view_module_version": "1.2.0",
            "_view_name": "StyleView",
            "bar_color": null,
            "description_width": ""
          }
        },
        "c691f37b483c44519017adecc2081e8e": {
          "model_module": "@jupyter-widgets/controls",
          "model_module_version": "1.5.0",
          "model_name": "HBoxModel",
          "state": {
            "_dom_classes": [],
            "_model_module": "@jupyter-widgets/controls",
            "_model_module_version": "1.5.0",
            "_model_name": "HBoxModel",
            "_view_count": null,
            "_view_module": "@jupyter-widgets/controls",
            "_view_module_version": "1.5.0",
            "_view_name": "HBoxView",
            "box_style": "",
            "children": [
              "IPY_MODEL_e02e0aee1b984f3dbde6ef290a48afe4",
              "IPY_MODEL_92cf886cbda64a429555a589086b5436",
              "IPY_MODEL_53df583b8e404cf2a325c635e759dcb5"
            ],
            "layout": "IPY_MODEL_3a14f46a7c9b44aaa08352edca866eb7"
          }
        },
        "c7ad8a72589c4ed6b7d930b878f5bf5d": {
          "model_module": "@jupyter-widgets/controls",
          "model_module_version": "1.5.0",
          "model_name": "FloatProgressModel",
          "state": {
            "_dom_classes": [],
            "_model_module": "@jupyter-widgets/controls",
            "_model_module_version": "1.5.0",
            "_model_name": "FloatProgressModel",
            "_view_count": null,
            "_view_module": "@jupyter-widgets/controls",
            "_view_module_version": "1.5.0",
            "_view_name": "ProgressView",
            "bar_style": "success",
            "description": "",
            "description_tooltip": null,
            "layout": "IPY_MODEL_a211d21d0a9846ccb5f9e7d9f62efbc2",
            "max": 6948,
            "min": 0,
            "orientation": "horizontal",
            "style": "IPY_MODEL_31fffd3ef35d41baa294f7272fe1767e",
            "value": 6948
          }
        },
        "cbd2450ed6d04243805403879b3242e5": {
          "model_module": "@jupyter-widgets/controls",
          "model_module_version": "1.5.0",
          "model_name": "HTMLModel",
          "state": {
            "_dom_classes": [],
            "_model_module": "@jupyter-widgets/controls",
            "_model_module_version": "1.5.0",
            "_model_name": "HTMLModel",
            "_view_count": null,
            "_view_module": "@jupyter-widgets/controls",
            "_view_module_version": "1.5.0",
            "_view_name": "HTMLView",
            "description": "",
            "description_tooltip": null,
            "layout": "IPY_MODEL_b05c7147c9a248a0938c855f51525594",
            "placeholder": "​",
            "style": "IPY_MODEL_2cad3a4e261c470fabce93df2c754c1d",
            "value": "Updating embeddings: "
          }
        },
        "d33cf1ecb2d642cc9eafdf8df4853311": {
          "model_module": "@jupyter-widgets/base",
          "model_module_version": "1.2.0",
          "model_name": "LayoutModel",
          "state": {
            "_model_module": "@jupyter-widgets/base",
            "_model_module_version": "1.2.0",
            "_model_name": "LayoutModel",
            "_view_count": null,
            "_view_module": "@jupyter-widgets/base",
            "_view_module_version": "1.2.0",
            "_view_name": "LayoutView",
            "align_content": null,
            "align_items": null,
            "align_self": null,
            "border": null,
            "bottom": null,
            "display": null,
            "flex": null,
            "flex_flow": null,
            "grid_area": null,
            "grid_auto_columns": null,
            "grid_auto_flow": null,
            "grid_auto_rows": null,
            "grid_column": null,
            "grid_gap": null,
            "grid_row": null,
            "grid_template_areas": null,
            "grid_template_columns": null,
            "grid_template_rows": null,
            "height": null,
            "justify_content": null,
            "justify_items": null,
            "left": null,
            "margin": null,
            "max_height": null,
            "max_width": null,
            "min_height": null,
            "min_width": null,
            "object_fit": null,
            "object_position": null,
            "order": null,
            "overflow": null,
            "overflow_x": null,
            "overflow_y": null,
            "padding": null,
            "right": null,
            "top": null,
            "visibility": null,
            "width": null
          }
        },
        "d94d52e913de43b991ba321786b3618c": {
          "model_module": "@jupyter-widgets/base",
          "model_module_version": "1.2.0",
          "model_name": "LayoutModel",
          "state": {
            "_model_module": "@jupyter-widgets/base",
            "_model_module_version": "1.2.0",
            "_model_name": "LayoutModel",
            "_view_count": null,
            "_view_module": "@jupyter-widgets/base",
            "_view_module_version": "1.2.0",
            "_view_name": "LayoutView",
            "align_content": null,
            "align_items": null,
            "align_self": null,
            "border": null,
            "bottom": null,
            "display": null,
            "flex": null,
            "flex_flow": null,
            "grid_area": null,
            "grid_auto_columns": null,
            "grid_auto_flow": null,
            "grid_auto_rows": null,
            "grid_column": null,
            "grid_gap": null,
            "grid_row": null,
            "grid_template_areas": null,
            "grid_template_columns": null,
            "grid_template_rows": null,
            "height": null,
            "justify_content": null,
            "justify_items": null,
            "left": null,
            "margin": null,
            "max_height": null,
            "max_width": null,
            "min_height": null,
            "min_width": null,
            "object_fit": null,
            "object_position": null,
            "order": null,
            "overflow": null,
            "overflow_x": null,
            "overflow_y": null,
            "padding": null,
            "right": null,
            "top": null,
            "visibility": null,
            "width": null
          }
        },
        "e02e0aee1b984f3dbde6ef290a48afe4": {
          "model_module": "@jupyter-widgets/controls",
          "model_module_version": "1.5.0",
          "model_name": "HTMLModel",
          "state": {
            "_dom_classes": [],
            "_model_module": "@jupyter-widgets/controls",
            "_model_module_version": "1.5.0",
            "_model_name": "HTMLModel",
            "_view_count": null,
            "_view_module": "@jupyter-widgets/controls",
            "_view_module_version": "1.5.0",
            "_view_name": "HTMLView",
            "description": "",
            "description_tooltip": null,
            "layout": "IPY_MODEL_d33cf1ecb2d642cc9eafdf8df4853311",
            "placeholder": "​",
            "style": "IPY_MODEL_254bc0667d934b23af8aa64840e770fe",
            "value": "Batches: 100%"
          }
        },
        "e0a92efadefd4ac1aa2640ed1588fcc2": {
          "model_module": "@jupyter-widgets/base",
          "model_module_version": "1.2.0",
          "model_name": "LayoutModel",
          "state": {
            "_model_module": "@jupyter-widgets/base",
            "_model_module_version": "1.2.0",
            "_model_name": "LayoutModel",
            "_view_count": null,
            "_view_module": "@jupyter-widgets/base",
            "_view_module_version": "1.2.0",
            "_view_name": "LayoutView",
            "align_content": null,
            "align_items": null,
            "align_self": null,
            "border": null,
            "bottom": null,
            "display": null,
            "flex": null,
            "flex_flow": null,
            "grid_area": null,
            "grid_auto_columns": null,
            "grid_auto_flow": null,
            "grid_auto_rows": null,
            "grid_column": null,
            "grid_gap": null,
            "grid_row": null,
            "grid_template_areas": null,
            "grid_template_columns": null,
            "grid_template_rows": null,
            "height": null,
            "justify_content": null,
            "justify_items": null,
            "left": null,
            "margin": null,
            "max_height": null,
            "max_width": null,
            "min_height": null,
            "min_width": null,
            "object_fit": null,
            "object_position": null,
            "order": null,
            "overflow": null,
            "overflow_x": null,
            "overflow_y": null,
            "padding": null,
            "right": null,
            "top": null,
            "visibility": null,
            "width": null
          }
        },
        "f379cda6139342e3853d61a0e700e776": {
          "model_module": "@jupyter-widgets/controls",
          "model_module_version": "1.5.0",
          "model_name": "HBoxModel",
          "state": {
            "_dom_classes": [],
            "_model_module": "@jupyter-widgets/controls",
            "_model_module_version": "1.5.0",
            "_model_name": "HBoxModel",
            "_view_count": null,
            "_view_module": "@jupyter-widgets/controls",
            "_view_module_version": "1.5.0",
            "_view_name": "HBoxView",
            "box_style": "",
            "children": [
              "IPY_MODEL_cbd2450ed6d04243805403879b3242e5",
              "IPY_MODEL_c7ad8a72589c4ed6b7d930b878f5bf5d",
              "IPY_MODEL_87d6ed5bf3bf48a8ab72e138a1023c1a"
            ],
            "layout": "IPY_MODEL_760dc6323569465fac3e3eeb338df1df"
          }
        }
      }
    }
  },
  "nbformat": 4,
  "nbformat_minor": 0
}