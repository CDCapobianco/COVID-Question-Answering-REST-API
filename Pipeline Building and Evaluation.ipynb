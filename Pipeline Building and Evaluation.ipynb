{
  "cells": [
    {
      "cell_type": "markdown",
      "source": [
        "In this notebook we explore all the possibilities offered by Haystack Framework and Hugging Face Transformers for building and deploying a REST API Question Answering Pipeline"
      ],
      "metadata": {
        "id": "73RVB5-VqmcO"
      }
    },
    {
      "cell_type": "markdown",
      "metadata": {
        "id": "XVcEEJXZyeOP"
      },
      "source": [
        "# **Environment Setup**"
      ]
    },
    {
      "cell_type": "markdown",
      "source": [
        "**Install Global Dependencies**"
      ],
      "metadata": {
        "id": "BXaoMsRJrCjo"
      }
    },
    {
      "cell_type": "code",
      "execution_count": null,
      "metadata": {
        "execution": {
          "iopub.execute_input": "2023-03-24T14:05:07.346903Z",
          "iopub.status.busy": "2023-03-24T14:05:07.345766Z",
          "iopub.status.idle": "2023-03-24T14:05:14.720497Z",
          "shell.execute_reply": "2023-03-24T14:05:14.719456Z",
          "shell.execute_reply.started": "2023-03-24T14:05:07.346791Z"
        },
        "id": "-yHzXKKwx73q"
      },
      "outputs": [],
      "source": [
        "!pip install transformers --quiet"
      ]
    },
    {
      "cell_type": "code",
      "execution_count": null,
      "metadata": {
        "execution": {
          "iopub.execute_input": "2023-03-14T17:39:30.677914Z",
          "iopub.status.busy": "2023-03-14T17:39:30.677340Z",
          "iopub.status.idle": "2023-03-14T17:39:33.389148Z",
          "shell.execute_reply": "2023-03-14T17:39:33.388514Z",
          "shell.execute_reply.started": "2023-03-14T17:39:30.677886Z"
        },
        "id": "LXkJvpSFywRN"
      },
      "outputs": [],
      "source": [
        "!pip install datasets --quiet"
      ]
    },
    {
      "cell_type": "code",
      "execution_count": null,
      "metadata": {
        "execution": {
          "iopub.execute_input": "2023-03-14T17:39:35.077657Z",
          "iopub.status.busy": "2023-03-14T17:39:35.077026Z",
          "iopub.status.idle": "2023-03-14T17:39:37.580293Z",
          "shell.execute_reply": "2023-03-14T17:39:37.579641Z",
          "shell.execute_reply.started": "2023-03-14T17:39:35.077630Z"
        },
        "id": "0Hgtms5aRsSE",
        "jupyter": {
          "outputs_hidden": true
        },
        "tags": []
      },
      "outputs": [],
      "source": [
        "!pip install -U sentence-transformers"
      ]
    },
    {
      "cell_type": "markdown",
      "metadata": {
        "id": "uqqjv-XOyzkM"
      },
      "source": [
        "# **Dataset Import and Processing**"
      ]
    },
    {
      "cell_type": "markdown",
      "metadata": {
        "id": "Sw9V-Ysay650"
      },
      "source": [
        "**Import Dependencies**"
      ]
    },
    {
      "cell_type": "code",
      "execution_count": null,
      "metadata": {
        "id": "_na2ht-NyzDi",
        "tags": [],
        "outputId": "5918dc9e-5e56-45b2-e305-826136c65172"
      },
      "outputs": [
        {
          "name": "stdout",
          "output_type": "stream",
          "text": [
            "time: 736 µs (started: 2023-03-28 13:58:57 +00:00)\n"
          ]
        }
      ],
      "source": [
        "import json\n",
        "import pandas as pd\n",
        "from datasets import load_dataset,arrow_dataset\n",
        "from transformers import AutoTokenizer, AutoModelForQuestionAnswering, pipeline\n",
        "from numpy import random"
      ]
    },
    {
      "cell_type": "markdown",
      "metadata": {
        "id": "jvrWP98FBgPH"
      },
      "source": [
        "**Download**"
      ]
    },
    {
      "cell_type": "code",
      "execution_count": null,
      "metadata": {
        "execution": {
          "iopub.execute_input": "2023-03-14T09:11:39.455557Z",
          "iopub.status.busy": "2023-03-14T09:11:39.454990Z",
          "iopub.status.idle": "2023-03-14T09:11:45.525696Z",
          "shell.execute_reply": "2023-03-14T09:11:45.524863Z",
          "shell.execute_reply.started": "2023-03-14T09:11:39.455557Z"
        },
        "id": "Eci526S4BlEt"
      },
      "outputs": [],
      "source": [
        "!wget https://raw.githubusercontent.com/deepset-ai/COVID-QA/master/data/question-answering/COVID-QA.json"
      ]
    },
    {
      "cell_type": "markdown",
      "metadata": {
        "id": "pFr8TXlcpUv0"
      },
      "source": [
        "**JSON to DataFrame**"
      ]
    },
    {
      "cell_type": "code",
      "execution_count": null,
      "metadata": {
        "id": "M1BVDV9QpW2F",
        "jupyter": {
          "outputs_hidden": true
        },
        "tags": []
      },
      "outputs": [],
      "source": [
        "ds = load_dataset('json',data_files = \"/notebooks/COVID-QA.json\",field=\"data\")"
      ]
    },
    {
      "cell_type": "code",
      "execution_count": null,
      "metadata": {
        "execution": {
          "iopub.execute_input": "2023-03-14T09:21:54.033027Z",
          "iopub.status.busy": "2023-03-14T09:21:54.032172Z",
          "iopub.status.idle": "2023-03-14T09:21:54.045304Z",
          "shell.execute_reply": "2023-03-14T09:21:54.044804Z",
          "shell.execute_reply.started": "2023-03-14T09:21:54.032999Z"
        },
        "id": "ZIDI3ZVyp8YZ"
      },
      "outputs": [],
      "source": [
        "ds = ds[\"train\"].train_test_split(test_size=0.25)"
      ]
    },
    {
      "cell_type": "code",
      "execution_count": null,
      "metadata": {
        "execution": {
          "iopub.execute_input": "2023-03-14T09:21:54.942387Z",
          "iopub.status.busy": "2023-03-14T09:21:54.941529Z",
          "iopub.status.idle": "2023-03-14T09:21:56.105234Z",
          "shell.execute_reply": "2023-03-14T09:21:56.104708Z",
          "shell.execute_reply.started": "2023-03-14T09:21:54.942359Z"
        },
        "id": "myNey6Sr49af"
      },
      "outputs": [],
      "source": [
        "ds[\"train\"].to_json(\"train.json\",lines=False)"
      ]
    },
    {
      "cell_type": "code",
      "execution_count": null,
      "metadata": {
        "execution": {
          "iopub.execute_input": "2023-03-14T09:21:56.108243Z",
          "iopub.status.busy": "2023-03-14T09:21:56.107712Z",
          "iopub.status.idle": "2023-03-14T09:21:56.363601Z",
          "shell.execute_reply": "2023-03-14T09:21:56.363115Z",
          "shell.execute_reply.started": "2023-03-14T09:21:56.108221Z"
        },
        "id": "etqbuB-mfDTr"
      },
      "outputs": [],
      "source": [
        "ds[\"test\"].to_json(\"test.json\",lines=False)"
      ]
    },
    {
      "cell_type": "markdown",
      "metadata": {
        "id": "I7FgbrQSaOiO"
      },
      "source": [
        "**Reader Model Testing**"
      ]
    },
    {
      "cell_type": "code",
      "execution_count": null,
      "metadata": {
        "execution": {
          "iopub.execute_input": "2023-03-14T17:44:10.775551Z",
          "iopub.status.busy": "2023-03-14T17:44:10.774943Z",
          "iopub.status.idle": "2023-03-14T17:44:15.137949Z",
          "shell.execute_reply": "2023-03-14T17:44:15.134990Z",
          "shell.execute_reply.started": "2023-03-14T17:44:10.775530Z"
        },
        "id": "8oY3GdZYZx13",
        "jupyter": {
          "outputs_hidden": true
        },
        "tags": []
      },
      "outputs": [],
      "source": [
        "model_ckpt = \"deepset/minilm-uncased-squad2\"\n",
        "tokenizer = AutoTokenizer.from_pretrained(model_ckpt)\n",
        "model = AutoModelForQuestionAnswering.from_pretrained(model_ckpt)\n",
        "context = ds[\"train\"][\"paragraphs\"][5][0][\"context\"]\n",
        "question = ds[\"train\"][\"paragraphs\"][5][0][\"qas\"][0][\"question\"]"
      ]
    },
    {
      "cell_type": "code",
      "execution_count": null,
      "metadata": {
        "execution": {
          "iopub.execute_input": "2023-03-14T09:22:06.398455Z",
          "iopub.status.busy": "2023-03-14T09:22:06.398260Z",
          "iopub.status.idle": "2023-03-14T09:22:06.789696Z",
          "shell.execute_reply": "2023-03-14T09:22:06.788839Z",
          "shell.execute_reply.started": "2023-03-14T09:22:06.398433Z"
        },
        "id": "zIcA4NT1cZFX"
      },
      "outputs": [],
      "source": [
        "pipe = pipeline(\"question-answering\",model=model,tokenizer=tokenizer)"
      ]
    },
    {
      "cell_type": "code",
      "execution_count": null,
      "metadata": {
        "colab": {
          "base_uri": "https://localhost:8080/"
        },
        "execution": {
          "iopub.execute_input": "2023-03-14T09:22:06.793348Z",
          "iopub.status.busy": "2023-03-14T09:22:06.793161Z",
          "iopub.status.idle": "2023-03-14T09:22:20.066651Z",
          "shell.execute_reply": "2023-03-14T09:22:20.065953Z",
          "shell.execute_reply.started": "2023-03-14T09:22:06.793327Z"
        },
        "id": "zKxCJ7lcf8_Y",
        "outputId": "9197e246-7c1f-40ac-962b-22ee921a499b"
      },
      "outputs": [
        {
          "data": {
            "text/plain": [
              "[{'score': 0.6244222521781921,\n",
              "  'start': 2380,\n",
              "  'end': 2412,\n",
              "  'answer': 'interferon-induced transmembrane'},\n",
              " {'score': 0.5352410674095154,\n",
              "  'start': 6107,\n",
              "  'end': 6147,\n",
              "  'answer': 'bonerestricted IFITM-like (BRIL) protein'},\n",
              " {'score': 0.48188379406929016, 'start': 1654, 'end': 1657, 'answer': 'TM1'}]"
            ]
          },
          "execution_count": 18,
          "metadata": {},
          "output_type": "execute_result"
        }
      ],
      "source": [
        "pipe(question=question,context=context,top_k=3)"
      ]
    },
    {
      "cell_type": "code",
      "execution_count": null,
      "metadata": {
        "colab": {
          "base_uri": "https://localhost:8080/"
        },
        "execution": {
          "iopub.execute_input": "2023-03-14T09:22:20.069177Z",
          "iopub.status.busy": "2023-03-14T09:22:20.069014Z",
          "iopub.status.idle": "2023-03-14T09:22:20.073408Z",
          "shell.execute_reply": "2023-03-14T09:22:20.072886Z",
          "shell.execute_reply.started": "2023-03-14T09:22:20.069158Z"
        },
        "id": "aEXd4nQOFwGT",
        "outputId": "380fb16e-bcc3-4e44-c48a-8c3b579d247e"
      },
      "outputs": [
        {
          "data": {
            "text/plain": [
              "'What is IFITM?'"
            ]
          },
          "execution_count": 19,
          "metadata": {},
          "output_type": "execute_result"
        }
      ],
      "source": [
        "question"
      ]
    },
    {
      "cell_type": "code",
      "execution_count": null,
      "metadata": {
        "colab": {
          "base_uri": "https://localhost:8080/"
        },
        "execution": {
          "iopub.execute_input": "2023-03-14T09:22:20.076441Z",
          "iopub.status.busy": "2023-03-14T09:22:20.076266Z",
          "iopub.status.idle": "2023-03-14T09:22:20.103535Z",
          "shell.execute_reply": "2023-03-14T09:22:20.102975Z",
          "shell.execute_reply.started": "2023-03-14T09:22:20.076424Z"
        },
        "id": "yhXWLGUEf-3L",
        "outputId": "29f76753-5b4d-4458-ca3a-eabc4198d1d9"
      },
      "outputs": [
        {
          "data": {
            "text/plain": [
              "'interferon-induced transmembrane'"
            ]
          },
          "execution_count": 20,
          "metadata": {},
          "output_type": "execute_result"
        }
      ],
      "source": [
        "ds[\"train\"][\"paragraphs\"][5][0][\"qas\"][0][\"answers\"][0][\"text\"] #ground-truth"
      ]
    },
    {
      "cell_type": "markdown",
      "metadata": {
        "id": "TCzh7ORVhY94"
      },
      "source": [
        "# **Building Question Answer Pipeline with Haystack**"
      ]
    },
    {
      "cell_type": "markdown",
      "source": [
        "**Install Dependencies**"
      ],
      "metadata": {
        "id": "K9YZAB2brHEL"
      }
    },
    {
      "cell_type": "code",
      "execution_count": null,
      "metadata": {
        "tags": [],
        "id": "T30p8zlnqQdz"
      },
      "outputs": [],
      "source": [
        "!pip uninstall lxml -y"
      ]
    },
    {
      "cell_type": "code",
      "execution_count": null,
      "metadata": {
        "tags": [],
        "id": "mwa8wg3zqQd0"
      },
      "outputs": [],
      "source": [
        "!pip install lxml"
      ]
    },
    {
      "cell_type": "code",
      "execution_count": null,
      "metadata": {
        "id": "XxV7f5T2hw_2",
        "tags": []
      },
      "outputs": [],
      "source": [
        "!pip install farm-haystack --quiet"
      ]
    },
    {
      "cell_type": "code",
      "execution_count": null,
      "metadata": {
        "id": "LEM2Onfl38oq",
        "tags": []
      },
      "outputs": [],
      "source": [
        "!pip install farm-haystack[faiss] --quiet"
      ]
    },
    {
      "cell_type": "markdown",
      "metadata": {
        "id": "XTK3KOg2hg1l"
      },
      "source": [
        "**Import Dependencies**"
      ]
    },
    {
      "cell_type": "code",
      "execution_count": null,
      "metadata": {
        "id": "ghC5vNeahvcx",
        "tags": []
      },
      "outputs": [],
      "source": [
        "import os\n",
        "from subprocess import Popen, PIPE, STDOUT\n",
        "from haystack.document_stores import ElasticsearchDocumentStore\n",
        "from haystack.nodes.retriever import BM25Retriever,DensePassageRetriever\n",
        "from haystack.nodes.reader import FARMReader\n",
        "from haystack.nodes import PreProcessor\n",
        "from haystack.pipelines import Pipeline\n",
        "from haystack.utils import print_answers"
      ]
    },
    {
      "cell_type": "markdown",
      "metadata": {
        "id": "YXhQIRIei83K"
      },
      "source": [
        "**Instantiate ElasticSearch as Background Process**"
      ]
    },
    {
      "cell_type": "code",
      "execution_count": null,
      "metadata": {
        "execution": {
          "iopub.execute_input": "2023-03-14T09:18:51.287073Z",
          "iopub.status.busy": "2023-03-14T09:18:51.286164Z",
          "iopub.status.idle": "2023-03-14T09:18:59.522203Z",
          "shell.execute_reply": "2023-03-14T09:18:59.521169Z",
          "shell.execute_reply.started": "2023-03-14T09:18:51.287042Z"
        },
        "id": "Qw8ndgwDi_UM"
      },
      "outputs": [],
      "source": [
        "url = \"\"\"https://artifacts.elastic.co/downloads/elasticsearch/\\\n",
        "elasticsearch-7.9.2-linux-x86_64.tar.gz\"\"\"\n",
        "!wget -nc -q {url}\n",
        "!tar -xzf elasticsearch-7.9.2-linux-x86_64.tar.gz"
      ]
    },
    {
      "cell_type": "code",
      "execution_count": null,
      "metadata": {
        "id": "0STNd_ApjLwD",
        "tags": []
      },
      "outputs": [],
      "source": [
        "# Run Elasticsearch as a background process\n",
        "!chown -R daemon:daemon elasticsearch-7.9.2\n",
        "es_server = Popen(args=['elasticsearch-7.9.2/bin/elasticsearch'],\n",
        "                  stdout=PIPE, stderr=STDOUT, preexec_fn=lambda: os.setuid(1))\n",
        "# Wait until Elasticsearch has started\n",
        "!sleep 60"
      ]
    },
    {
      "cell_type": "code",
      "execution_count": null,
      "metadata": {
        "colab": {
          "base_uri": "https://localhost:8080/"
        },
        "id": "lZ5N42otjNp4",
        "outputId": "55766cad-d92b-4587-fae4-6cfbd5b0cdb5",
        "tags": []
      },
      "outputs": [
        {
          "name": "stdout",
          "output_type": "stream",
          "text": [
            "{\n",
            "  \"name\" : \"nbi89opxsn\",\n",
            "  \"cluster_name\" : \"elasticsearch\",\n",
            "  \"cluster_uuid\" : \"8x35wew6RNG-0kH9QRCF9w\",\n",
            "  \"version\" : {\n",
            "    \"number\" : \"7.9.2\",\n",
            "    \"build_flavor\" : \"default\",\n",
            "    \"build_type\" : \"tar\",\n",
            "    \"build_hash\" : \"d34da0ea4a966c4e49417f2da2f244e3e97b4e6e\",\n",
            "    \"build_date\" : \"2020-09-23T00:45:33.626720Z\",\n",
            "    \"build_snapshot\" : false,\n",
            "    \"lucene_version\" : \"8.6.2\",\n",
            "    \"minimum_wire_compatibility_version\" : \"6.8.0\",\n",
            "    \"minimum_index_compatibility_version\" : \"6.0.0-beta1\"\n",
            "  },\n",
            "  \"tagline\" : \"You Know, for Search\"\n",
            "}\n"
          ]
        }
      ],
      "source": [
        "!curl -X GET \"localhost:9200/?pretty\""
      ]
    },
    {
      "cell_type": "markdown",
      "metadata": {
        "id": "pMl1Rj5jkRDJ"
      },
      "source": [
        "**Loading Documents in ElasticSearch DB**"
      ]
    },
    {
      "cell_type": "code",
      "execution_count": null,
      "metadata": {
        "id": "SHRmwA5CjR2y",
        "tags": []
      },
      "outputs": [],
      "source": [
        "document_store = ElasticsearchDocumentStore(return_embedding=True)"
      ]
    },
    {
      "cell_type": "code",
      "execution_count": null,
      "metadata": {
        "id": "XjKZPFdkFzAv",
        "tags": [],
        "outputId": "aefe0194-46d1-40ef-e11f-61d98bed3ad6"
      },
      "outputs": [
        {
          "name": "stdout",
          "output_type": "stream",
          "text": [
            "time: 6.04 s (started: 2023-03-28 13:59:11 +00:00)\n"
          ]
        }
      ],
      "source": [
        "document_store.delete_documents()\n",
        "document_store.delete_labels()"
      ]
    },
    {
      "cell_type": "code",
      "execution_count": null,
      "metadata": {
        "id": "T8X_NvBVlDzd",
        "tags": [],
        "outputId": "01a28d3c-96a8-478e-bdf8-610d90600b7f"
      },
      "outputs": [
        {
          "name": "stdout",
          "output_type": "stream",
          "text": [
            "time: 8.81 s (started: 2023-03-28 13:59:20 +00:00)\n"
          ]
        }
      ],
      "source": [
        "documents = []\n",
        "for split,_ in ds.items():\n",
        "  for i in range(0,ds[split].num_rows):\n",
        "    document = {\"content\":ds[split][\"paragraphs\"][i][0][\"context\"],\n",
        "                \"meta\": {\"split\":split}}\n",
        "    documents.append(document)"
      ]
    },
    {
      "cell_type": "code",
      "execution_count": null,
      "metadata": {
        "id": "fhIbjaNo_L_E",
        "tags": []
      },
      "outputs": [],
      "source": [
        "preprocessor = PreProcessor(\n",
        "    clean_empty_lines=True,\n",
        "    clean_whitespace=True,\n",
        "    clean_header_footer=False,\n",
        "    split_by=\"word\",\n",
        "    split_length=1000,\n",
        "    split_respect_sentence_boundary=True,\n",
        ")\n",
        "documents = preprocessor.process(documents)"
      ]
    },
    {
      "cell_type": "code",
      "execution_count": null,
      "metadata": {
        "id": "_Jk0y-PChChp",
        "tags": []
      },
      "outputs": [],
      "source": [
        "document_store.write_documents(documents,index=\"document\")"
      ]
    },
    {
      "cell_type": "code",
      "execution_count": null,
      "metadata": {
        "id": "THzSrzpsi-qf",
        "tags": []
      },
      "outputs": [],
      "source": [
        "print(f\"{document_store.get_document_count()} documents were loaded\")"
      ]
    },
    {
      "cell_type": "markdown",
      "metadata": {
        "id": "iw0OsbAfk7q5"
      },
      "source": [
        "**Instantiate and Test Retriever Component**"
      ]
    },
    {
      "cell_type": "code",
      "execution_count": null,
      "metadata": {
        "id": "1NaarHofj2pE",
        "tags": []
      },
      "outputs": [],
      "source": [
        "bm25 = BM25Retriever(document_store = document_store)"
      ]
    },
    {
      "cell_type": "code",
      "execution_count": null,
      "metadata": {
        "id": "pomN4JlNlQSL"
      },
      "outputs": [],
      "source": [
        "retrieved_doc = bm25.retrieve(query = question,top_k=3)"
      ]
    },
    {
      "cell_type": "code",
      "execution_count": null,
      "metadata": {
        "colab": {
          "base_uri": "https://localhost:8080/"
        },
        "id": "inRnGZAhldMq",
        "outputId": "66bf573d-9e26-40d8-b364-604c3402494a"
      },
      "outputs": [
        {
          "name": "stdout",
          "output_type": "stream",
          "text": [
            "Architectural Insight into Inovirus-Associated Vectors (IAVs) and Development of IAV-Based Vaccines Inducing Humoral and Cellular Responses: Implicati\n",
            "The distal end of the virion (right) consists of five copies of each minor coat proteins gp7 and gp9, modeled following the helical parameters of gp8 \n",
            "Schematic representations of antigen display on the surface of Ff inovirus-associated vectors (IAVs). Foreign antigens are shown as red spheres. The d\n"
          ]
        }
      ],
      "source": [
        "for doc in retrieved_doc:\n",
        "  print(doc.content[:150])"
      ]
    },
    {
      "cell_type": "code",
      "execution_count": null,
      "metadata": {
        "colab": {
          "base_uri": "https://localhost:8080/"
        },
        "id": "XHjP5d6mqFQy",
        "outputId": "ae90ea4c-0c4e-49fa-bdeb-30d466ac7616"
      },
      "outputs": [
        {
          "data": {
            "application/vnd.google.colaboratory.intrinsic+json": {
              "type": "string"
            },
            "text/plain": [
              "'Architectural Insight into Inovirus-Associated Vec'"
            ]
          },
          "execution_count": 30,
          "metadata": {},
          "output_type": "execute_result"
        }
      ],
      "source": [
        "context[:50]"
      ]
    },
    {
      "cell_type": "markdown",
      "metadata": {
        "id": "4Qrzsj1Aqnds"
      },
      "source": [
        "**Instantiate and Test Reader Component**"
      ]
    },
    {
      "cell_type": "code",
      "execution_count": null,
      "metadata": {
        "execution": {
          "iopub.execute_input": "2023-03-14T09:25:52.448221Z",
          "iopub.status.busy": "2023-03-14T09:25:52.447408Z",
          "iopub.status.idle": "2023-03-14T09:25:55.398739Z",
          "shell.execute_reply": "2023-03-14T09:25:55.398079Z",
          "shell.execute_reply.started": "2023-03-14T09:25:52.448198Z"
        },
        "id": "9b8zkxPLqUvT"
      },
      "outputs": [],
      "source": [
        "reader = FARMReader(model_name_or_path=model_ckpt,max_seq_len=512,doc_stride=128,max_query_length=200,return_no_answer=True,progress_bar=False)"
      ]
    },
    {
      "cell_type": "code",
      "execution_count": null,
      "metadata": {
        "id": "cK4H99AurBWI",
        "jupyter": {
          "outputs_hidden": true
        },
        "tags": []
      },
      "outputs": [],
      "source": [
        "print(reader.predict_on_texts(question,top_k=1,texts=[context]))"
      ]
    },
    {
      "cell_type": "markdown",
      "metadata": {
        "id": "dE1vpmQ6tDRX"
      },
      "source": [
        "**Instantiate and Test the Pipeline**"
      ]
    },
    {
      "cell_type": "code",
      "execution_count": null,
      "metadata": {
        "id": "6G7BxmzOrQG_"
      },
      "outputs": [],
      "source": [
        "pipe = Pipeline()\n",
        "pipe.add_node(component=bm25,name=\"Retriever\",inputs=[\"Query\"])\n",
        "pipe.add_node(component=reader,name=\"Reader\",inputs=[\"Retriever\"])"
      ]
    },
    {
      "cell_type": "code",
      "execution_count": null,
      "metadata": {
        "id": "o5rKZLq6te1z"
      },
      "outputs": [],
      "source": [
        "preds = pipe.run(query=question,params={\"Retriever\":{\"top_k\":3},\"Reader\":{\"top_k\":5}},debug=True)"
      ]
    },
    {
      "cell_type": "code",
      "execution_count": null,
      "metadata": {
        "colab": {
          "base_uri": "https://localhost:8080/"
        },
        "id": "u_ZvOZXF6VPn",
        "jupyter": {
          "outputs_hidden": true
        },
        "outputId": "24e236d6-eb9c-493f-e499-b55af8f4ddd4",
        "tags": []
      },
      "outputs": [
        {
          "name": "stdout",
          "output_type": "stream",
          "text": [
            "\n",
            "Query: What are inovirus-associated vectors?\n",
            "Answers:\n",
            "[   <Answer {'answer': 'engineered, non-lytic, filamentous bacteriophages', 'type': 'extractive', 'score': 0.8232371807098389, 'context': '\\n\\nAbstract: Inovirus-associated vectors (IAVs) are engineered, non-lytic, filamentous bacteriophages that are assembled primarily from thousands of co', 'offsets_in_document': [{'start': 454, 'end': 503}], 'offsets_in_context': [{'start': 51, 'end': 100}], 'document_ids': ['15e77b2f9ef601536928de6a42d60db2'], 'meta': {'split': 'train', '_split_id': 0}}>,\n",
            "    <Answer {'answer': 'IAVs', 'type': 'extractive', 'score': 0.6021418571472168, 'context': 'ults in the presentation of oligopeptides as fusion proteins on the surface of the virion and are herein termed IAVs for inovirus-associated vectors. ', 'offsets_in_document': [{'start': 564, 'end': 568}], 'offsets_in_context': [{'start': 112, 'end': 116}], 'document_ids': ['7d19633cbf2eed6349a144804452115c'], 'meta': {'split': 'train', '_split_id': 24}}>,\n",
            "    <Answer {'answer': '', 'type': 'extractive', 'score': 0.5481009729168781, 'context': None, 'offsets_in_document': [{'start': 0, 'end': 0}], 'offsets_in_context': [{'start': 0, 'end': 0}], 'document_ids': None, 'meta': {}}>,\n",
            "    <Answer {'answer': 'IAVs', 'type': 'extractive', 'score': 0.4161839783191681, 'context': 'ons of antigen display on the surface of Ff inovirus-associated vectors (IAVs). Foreign antigens are shown as red spheres. The designation on the left', 'offsets_in_document': [{'start': 95, 'end': 99}], 'offsets_in_context': [{'start': 73, 'end': 77}], 'document_ids': ['297b913d1aadab1cefb2f8faaf8b2bf0'], 'meta': {'split': 'train', '_split_id': 34}}>]\n"
          ]
        }
      ],
      "source": [
        "print_answers(\n",
        "    preds,\n",
        "    details=\"all\"\n",
        ")"
      ]
    },
    {
      "cell_type": "markdown",
      "metadata": {
        "id": "SvqCEYLV3-Th"
      },
      "source": [
        "# **Pipeline Evaluation**"
      ]
    },
    {
      "cell_type": "markdown",
      "metadata": {
        "id": "tWoVBbfhCGDA"
      },
      "source": [
        "In this section we want to perform the pipeline evaluation in order to get a rough idea of our system performance and select the best retriever model.\n",
        "In the next sections we will fine-tune the best retriever model and repeat the same process with the reader.\n",
        "We only label test data, because we want an evaluation which is comparable to the one we will do after fine-tuning the model\n",
        "\n",
        "**Summary:**\n",
        "\n",
        "\n",
        "\n",
        "1.   Evaluate BM25 + reader model\n",
        "2.   Evaluate DPR + reader model\n",
        "3.   Evaluate ER + reader model\n",
        "4.   Fine-Tune on Test Data the best Dense Model (DPR/ER) and Evaluate it\n",
        "5.   Fine-Tune Reader Model and Evaluate it\n",
        "\n",
        "\n",
        "\n",
        "\n"
      ]
    },
    {
      "cell_type": "markdown",
      "source": [
        "**Import Dependencies**"
      ],
      "metadata": {
        "id": "i1EQ74f3sANA"
      }
    },
    {
      "cell_type": "code",
      "execution_count": null,
      "metadata": {
        "id": "XSEN55zdPhgC"
      },
      "outputs": [],
      "source": [
        "from haystack.nodes import EmbeddingRetriever"
      ]
    },
    {
      "cell_type": "markdown",
      "metadata": {
        "id": "CCXy1GhGr0c3"
      },
      "source": [
        "**Utility Functions**"
      ]
    },
    {
      "cell_type": "code",
      "execution_count": null,
      "metadata": {
        "execution": {
          "iopub.execute_input": "2023-03-14T09:23:10.538502Z",
          "iopub.status.busy": "2023-03-14T09:23:10.538145Z",
          "iopub.status.idle": "2023-03-14T09:23:10.544216Z",
          "shell.execute_reply": "2023-03-14T09:23:10.542900Z",
          "shell.execute_reply.started": "2023-03-14T09:23:10.538438Z"
        },
        "id": "EDlhnrmIr2Ae"
      },
      "outputs": [],
      "source": [
        "def convert_json_to_squad_format(path):\n",
        "  f = open(path,\"r\")\n",
        "  text = f.readlines()\n",
        "  text[0] = \"\"\"{\"data\": \"\"\" + text[0]\n",
        "  text[0] = text[0] + \"}\" \n",
        "  f = open(path,\"w\")\n",
        "  f.seek(0,0)\n",
        "  f.write(text[0])"
      ]
    },
    {
      "cell_type": "markdown",
      "metadata": {
        "id": "hCeCuC5p5X3O"
      },
      "source": [
        "**Adding Evaluation Data to Document Store**"
      ]
    },
    {
      "cell_type": "code",
      "execution_count": null,
      "metadata": {
        "execution": {
          "iopub.execute_input": "2023-03-14T09:23:38.513212Z",
          "iopub.status.busy": "2023-03-14T09:23:38.512625Z",
          "iopub.status.idle": "2023-03-14T09:23:38.526856Z",
          "shell.execute_reply": "2023-03-14T09:23:38.526122Z",
          "shell.execute_reply.started": "2023-03-14T09:23:38.513187Z"
        },
        "id": "jioiec3Uw6sU"
      },
      "outputs": [],
      "source": [
        "convert_json_to_squad_format(\"/notebooks/train.json\")"
      ]
    },
    {
      "cell_type": "code",
      "execution_count": null,
      "metadata": {
        "execution": {
          "iopub.execute_input": "2023-03-14T09:23:39.004637Z",
          "iopub.status.busy": "2023-03-14T09:23:39.004021Z",
          "iopub.status.idle": "2023-03-14T09:23:39.015041Z",
          "shell.execute_reply": "2023-03-14T09:23:39.014333Z",
          "shell.execute_reply.started": "2023-03-14T09:23:39.004611Z"
        },
        "id": "LJxfTfW7t4_g"
      },
      "outputs": [],
      "source": [
        "convert_json_to_squad_format(\"/notebooks/test.json\")"
      ]
    },
    {
      "cell_type": "code",
      "execution_count": null,
      "metadata": {
        "execution": {
          "iopub.execute_input": "2023-03-14T09:23:56.788330Z",
          "iopub.status.busy": "2023-03-14T09:23:56.787674Z",
          "iopub.status.idle": "2023-03-14T09:24:03.202818Z",
          "shell.execute_reply": "2023-03-14T09:24:03.201908Z",
          "shell.execute_reply.started": "2023-03-14T09:23:56.788306Z"
        },
        "id": "GZsum0-O4DPI"
      },
      "outputs": [],
      "source": [
        "document_store.add_eval_data(\n",
        "    filename=\"/notebooks/test.json\",\n",
        "    doc_index = \"eval_docs\",\n",
        "    label_index = \"eval_labels\"\n",
        ")"
      ]
    },
    {
      "cell_type": "code",
      "execution_count": null,
      "metadata": {
        "execution": {
          "iopub.execute_input": "2023-03-14T17:42:49.941401Z",
          "iopub.status.busy": "2023-03-14T17:42:49.941087Z",
          "iopub.status.idle": "2023-03-14T17:42:50.435735Z",
          "shell.execute_reply": "2023-03-14T17:42:50.435163Z",
          "shell.execute_reply.started": "2023-03-14T17:42:49.941382Z"
        },
        "id": "syRBl0Fr-9Qh"
      },
      "outputs": [],
      "source": [
        "eval_labels = document_store.get_all_labels_aggregated(index=\"eval_labels\")"
      ]
    },
    {
      "cell_type": "markdown",
      "metadata": {
        "id": "02KDSyJZr2SU"
      },
      "source": [
        "**Evaluate BM25 + minilm-uncased-squad2**"
      ]
    },
    {
      "cell_type": "code",
      "execution_count": null,
      "metadata": {
        "id": "stSCMFo8-sJx"
      },
      "outputs": [],
      "source": [
        "eval_results = pipe.eval(labels=eval_labels,params={\"Retriever\":{\"top_k\":3},\"Reader\":{\"top_k\":1}})"
      ]
    },
    {
      "cell_type": "code",
      "execution_count": null,
      "metadata": {
        "colab": {
          "base_uri": "https://localhost:8080/"
        },
        "id": "05FNfcx3Im17",
        "jupyter": {
          "outputs_hidden": true
        },
        "outputId": "42672f06-78f5-4281-ffd0-9e79ca3df6c2",
        "tags": []
      },
      "outputs": [
        {
          "name": "stdout",
          "output_type": "stream",
          "text": [
            "================== Evaluation Report ==================\n",
            "=======================================================\n",
            "                   Pipeline Overview\n",
            "=======================================================\n",
            "                      Query\n",
            "                        |\n",
            "                        |\n",
            "                      Retriever\n",
            "                        |\n",
            "                        | map: 0.581\n",
            "                        | mrr: 0.582\n",
            "                        | ndcg: 0.601\n",
            "                        | precision: 0.225\n",
            "                        | recall_multi_hit: 0.657\n",
            "                        | recall_single_hit: 0.657\n",
            "                        |\n",
            "                      Reader\n",
            "                        |\n",
            "                        | exact_match: 0.201\n",
            "                        | exact_match_top_1: 0.201\n",
            "                        | f1: 0.318\n",
            "                        | f1_top_1: 0.318\n",
            "                        | num_examples_for_eval: 5.91e+02\n",
            "                        | num_examples_for_eval_top_1: 5.91e+02\n",
            "                        |\n",
            "                      Output\n",
            "=======================================================\n",
            "\n",
            "                Wrong Retriever Examples\n",
            "=======================================================\n",
            "Query: \n",
            " \tHow does the infected airway cell respond?\n",
            "Gold Document Ids: \n",
            " \tb32659e119337dac1ac561cec757fdbe\n",
            "Metrics: \n",
            " \trecall_multi_hit: 0.0\n",
            " \trecall_single_hit: 0.0\n",
            " \tprecision: 0.0\n",
            " \tmap: 0.0\n",
            " \tmrr: 0.0\n",
            " \tndcg: 0.0\n",
            "Documents: \n",
            " \tcontext: Therefore, their interaction with the exacerbation agents may directly contribute to the subsequent responses in the lower airway, in line with the \"U ...\n",
            " \tdocument_id: f0fff3acc837f3c5da95faaa255f632a \n",
            "\n",
            " \tcontext: Although it is unclear how the naked siRNAs cross the cell membrane, gain access to the cytoplasm, and remain intact to perform their biological actio ...\n",
            " \tdocument_id: f294457aebea521d4382d1db1b077615 \n",
            "\n",
            " \tcontext: First, we reviewed the prevalence of different respiratory viral infections in causing exacerbations in chronic airway inflammatory diseases. Subseque ...\n",
            " \tdocument_id: 54a2c097331e6efcf1e8896d5d2ad287 \n",
            "_______________________________________________________\n",
            "Query: \n",
            " \tHow many COVID-19 cases were confirmed on the Diamond Princess cruise ship?\n",
            "Gold Document Ids: \n",
            " \td44b33e94c69587589527b1220ee7e55\n",
            "Metrics: \n",
            " \trecall_multi_hit: 0.0\n",
            " \trecall_single_hit: 0.0\n",
            " \tprecision: 0.0\n",
            " \tmap: 0.0\n",
            " \tmrr: 0.0\n",
            " \tndcg: 0.0\n",
            "Documents: \n",
            " \tcontext: Backcalculating the Incidence of Infection with COVID-19 on the Diamond Princess\n",
            "\n",
            "https://doi.org/10.3390/jcm9030657\n",
            "\n",
            "SHA: 0938d2fb07611897abf38cea727 ...\n",
            " \tdocument_id: 4be897b149ef5db6c08d8ffc9cba1b63 \n",
            "\n",
            " \tcontext: Based on an analysis of illness onset data on board, the risk of infection among passengers without close contact was considered to be very limited. M ...\n",
            " \tdocument_id: 2ab61b305c6332fccb781c90829de484 \n",
            "\n",
            " \tcontext: These were well realized by the Richards model. Without intervention from 5 February onwards, it was predicted that the cumulative incidence with and  ...\n",
            " \tdocument_id: 81e02955b19e42b48f2559738f7ca30e \n",
            "_______________________________________________________\n",
            "Query: \n",
            " \tWhen was  the first  passenger patient on the Diamond Princess cruise ship diagnosed with COVID-19?\n",
            "Gold Document Ids: \n",
            " \td44b33e94c69587589527b1220ee7e55\n",
            "Metrics: \n",
            " \trecall_multi_hit: 0.0\n",
            " \trecall_single_hit: 0.0\n",
            " \tprecision: 0.0\n",
            " \tmap: 0.0\n",
            " \tmrr: 0.0\n",
            " \tndcg: 0.0\n",
            "Documents: \n",
            " \tcontext: Based on an analysis of illness onset data on board, the risk of infection among passengers without close contact was considered to be very limited. M ...\n",
            " \tdocument_id: 2ab61b305c6332fccb781c90829de484 \n",
            "\n",
            " \tcontext: Backcalculating the Incidence of Infection with COVID-19 on the Diamond Princess\n",
            "\n",
            "https://doi.org/10.3390/jcm9030657\n",
            "\n",
            "SHA: 0938d2fb07611897abf38cea727 ...\n",
            " \tdocument_id: 4be897b149ef5db6c08d8ffc9cba1b63 \n",
            "\n",
            " \tcontext: The first large identifiable superspreading event during the present 2019-nCoV outbreak has apparently taken place on the Diamond Princess cruise line ...\n",
            " \tdocument_id: fb1673ccbe9979440e3bdf95b2c75f71 \n",
            "_______________________________________________________\n",
            "=======================================================\n",
            "\n",
            "                Wrong Reader Examples\n",
            "=======================================================\n",
            "Query: \n",
            " \tCan biomarkers be used to predict outcomes in acute respiratory distress (ARDS) patients?\n",
            "Gold Answers: \n",
            " \tClinical studies have started to correlate specific biomarkers with disease outcomes in ARDS patients\n",
            "Gold Document Ids: \n",
            " \ta33b396de8609903b1a8425bde641314\n",
            "Metrics: \n",
            " \texact_match: 0.0\n",
            " \tf1: 0.0\n",
            "Answers: \n",
            " \tanswer: lacking \n",
            " \tcontext: ventilation (IMV) and/or extracorporeal membrane oxygenation (ECMO) are lacking. METHODS: We conducted a prospective, single-center observational stud \n",
            "_______________________________________________________\n",
            "Query: \n",
            " \tApproximately how many deaths have been averted in Western Europe with current non-pharmaceutical interventions remaining in place until the end of March?\n",
            "Gold Answers: \n",
            " \t59,000 deaths\n",
            "Gold Document Ids: \n",
            " \t3ff5abc702a9266a1cf57bc5108abc96\n",
            "Metrics: \n",
            " \texact_match: 0.0\n",
            " \tf1: 0.0\n",
            "Answers: \n",
            " \tanswer:  \n",
            " \tcontext: None \n",
            "_______________________________________________________\n",
            "Query: \n",
            " \tWhat can cause a slowing growth in daily reported deaths?\n",
            "Gold Answers: \n",
            " \tsignificant impact\n",
            "of interventions implemented several weeks earlier.\n",
            "Gold Document Ids: \n",
            " \t3ff5abc702a9266a1cf57bc5108abc96\n",
            "Metrics: \n",
            " \texact_match: 0.0\n",
            " \tf1: 0.0\n",
            "Answers: \n",
            " \tanswer:  \n",
            " \tcontext: None \n",
            "_______________________________________________________\n",
            "=======================================================\n",
            "\n"
          ]
        }
      ],
      "source": [
        "pipe.print_eval_report(eval_results) "
      ]
    },
    {
      "cell_type": "markdown",
      "metadata": {
        "id": "_ZI7WZKSWrBr"
      },
      "source": [
        "We will now try 2 different embedding semantic search approaches (DPR and EmbeddingRetrieval) and fine-tune the best one to see if we can outperform BM25"
      ]
    },
    {
      "cell_type": "markdown",
      "metadata": {
        "id": "fe25Q3iVJvR2"
      },
      "source": [
        "**Evaluate DPR + minilm-uncased-squad2**"
      ]
    },
    {
      "cell_type": "code",
      "execution_count": null,
      "metadata": {
        "id": "wl4ap6TOxDeD",
        "tags": []
      },
      "outputs": [],
      "source": [
        "query_dpr_model = \"facebook/dpr-question_encoder-single-nq-base\"\n",
        "passage_dpr_model = \"facebook/dpr-ctx_encoder-single-nq-base\""
      ]
    },
    {
      "cell_type": "code",
      "execution_count": null,
      "metadata": {
        "id": "aabVJeANKAV-",
        "jupyter": {
          "outputs_hidden": true
        },
        "tags": []
      },
      "outputs": [],
      "source": [
        "dpr = DensePassageRetriever(document_store = document_store,query_embedding_model=query_dpr_model,\n",
        "                                      passage_embedding_model=passage_dpr_model,\n",
        "                                      embed_title=False)"
      ]
    },
    {
      "cell_type": "code",
      "execution_count": null,
      "metadata": {
        "id": "UZc3doAxKkPF"
      },
      "outputs": [],
      "source": [
        "document_store.update_embeddings(retriever=dpr)"
      ]
    },
    {
      "cell_type": "code",
      "execution_count": null,
      "metadata": {
        "id": "sdRYIKKhKyqv"
      },
      "outputs": [],
      "source": [
        "pipe = Pipeline()\n",
        "pipe.add_node(component=dpr,name=\"Retriever\",inputs=[\"Query\"])\n",
        "pipe.add_node(component=reader,name=\"Reader\",inputs=[\"Retriever\"])"
      ]
    },
    {
      "cell_type": "code",
      "execution_count": null,
      "metadata": {
        "id": "cTeAREMPMI7K"
      },
      "outputs": [],
      "source": [
        "eval_results = pipe.eval(labels=eval_labels,params={\"Retriever\":{\"top_k\":3},\"Reader\":{\"top_k\":1}})"
      ]
    },
    {
      "cell_type": "code",
      "execution_count": null,
      "metadata": {
        "id": "4eVX1yHLMTE-"
      },
      "outputs": [],
      "source": [
        "pipe.print_eval_report(eval_results)"
      ]
    },
    {
      "cell_type": "markdown",
      "metadata": {
        "id": "6MJvj-97Pbn-"
      },
      "source": [
        "**EmbeddingRetriever + minilm-uncased-squad2**"
      ]
    },
    {
      "cell_type": "code",
      "execution_count": null,
      "metadata": {
        "id": "j887DuShQdpf"
      },
      "outputs": [],
      "source": [
        "embedding_model = \"sentence-transformers/multi-qa-mpnet-base-dot-v1\""
      ]
    },
    {
      "cell_type": "code",
      "execution_count": null,
      "metadata": {
        "id": "u0AZWBemPpZA",
        "tags": []
      },
      "outputs": [],
      "source": [
        "er = EmbeddingRetriever(document_store = document_store,\n",
        "                        embedding_model=embedding_model)"
      ]
    },
    {
      "cell_type": "code",
      "execution_count": null,
      "metadata": {
        "id": "3GDUCJlZP0cz",
        "jupyter": {
          "outputs_hidden": true
        },
        "tags": []
      },
      "outputs": [],
      "source": [
        "document_store.update_embeddings(er)"
      ]
    },
    {
      "cell_type": "code",
      "execution_count": null,
      "metadata": {
        "id": "GUXPZTevP3aU"
      },
      "outputs": [],
      "source": [
        "pipe = Pipeline()\n",
        "pipe.add_node(component=er,name=\"Retriever\",inputs=[\"Query\"])\n",
        "pipe.add_node(component=reader,name=\"Reader\",inputs=[\"Retriever\"])"
      ]
    },
    {
      "cell_type": "code",
      "execution_count": null,
      "metadata": {
        "id": "MfrgtT9jP6-f"
      },
      "outputs": [],
      "source": [
        "eval_results = pipe.eval(labels=eval_labels,params={\"Retriever\":{\"top_k\":3},\"Reader\":{\"top_k\":1}})"
      ]
    },
    {
      "cell_type": "code",
      "execution_count": null,
      "metadata": {
        "colab": {
          "base_uri": "https://localhost:8080/"
        },
        "id": "4hcEIpwnQnba",
        "jupyter": {
          "outputs_hidden": true
        },
        "outputId": "a18d6eb1-65bd-49c6-8d5c-dfb669f15a3b",
        "tags": []
      },
      "outputs": [
        {
          "name": "stdout",
          "output_type": "stream",
          "text": [
            "================== Evaluation Report ==================\n",
            "=======================================================\n",
            "                   Pipeline Overview\n",
            "=======================================================\n",
            "                      Query\n",
            "                        |\n",
            "                        |\n",
            "                      Retriever\n",
            "                        |\n",
            "                        | map: 0.436\n",
            "                        | mrr: 0.437\n",
            "                        | ndcg:  0.46\n",
            "                        | precision: 0.187\n",
            "                        | recall_multi_hit: 0.529\n",
            "                        | recall_single_hit:  0.53\n",
            "                        |\n",
            "                      Reader\n",
            "                        |\n",
            "                        | exact_match: 0.162\n",
            "                        | exact_match_top_1: 0.162\n",
            "                        | f1:  0.27\n",
            "                        | f1_top_1:  0.27\n",
            "                        | num_examples_for_eval: 5.91e+02\n",
            "                        | num_examples_for_eval_top_1: 5.91e+02\n",
            "                        |\n",
            "                      Output\n",
            "=======================================================\n",
            "\n",
            "                Wrong Retriever Examples\n",
            "=======================================================\n",
            "Query: \n",
            " \tCan biomarkers be used to predict outcomes in acute respiratory distress (ARDS) patients?\n",
            "Gold Document Ids: \n",
            " \ta33b396de8609903b1a8425bde641314\n",
            "Metrics: \n",
            " \trecall_multi_hit: 0.0\n",
            " \trecall_single_hit: 0.0\n",
            " \tprecision: 0.0\n",
            " \tmap: 0.0\n",
            " \tmrr: 0.0\n",
            " \tndcg: 0.0\n",
            "Documents: \n",
            " \tcontext: Of note, some of these diseases are also associated with increased biomarker values. This raises concerns about previous evaluations of biomarkers in  ...\n",
            " \tdocument_id: 576e40bfb713ad8e85fb917a08dbfe15 \n",
            "\n",
            " \tcontext: Therefore, a better identification of the biomarker signature in condensates of individuals experiencing a viral infection might imply interesting fin ...\n",
            " \tdocument_id: 7813aa39dad46ab356cd03e2e65a4056 \n",
            "\n",
            " \tcontext: Text: Scientific RepoRts | 6:38532 | DOI: 10 .1038/srep38532 pathogenesis of several diseases and has been suggested as a potential biomarker of viral ...\n",
            " \tdocument_id: 2dcb13f72191932e0a759f818823b805 \n",
            "_______________________________________________________\n",
            "Query: \n",
            " \tHow many swabs remained without etiology?\n",
            "Gold Document Ids: \n",
            " \t37bf2568c8bd85898d7a8eeb7f7ce0ac\n",
            "Metrics: \n",
            " \trecall_multi_hit: 0.0\n",
            " \trecall_single_hit: 0.0\n",
            " \tprecision: 0.0\n",
            " \tmap: 0.0\n",
            " \tmrr: 0.0\n",
            " \tndcg: 0.0\n",
            "Documents: \n",
            " \tcontext: Thus they were deleted from the analysis: one is positive for Influenza in singleplex and negative for all tested pathogens in multiplex and one is po ...\n",
            " \tdocument_id: 28a0245fa976948039fb973e5a3597fe \n",
            "\n",
            " \tcontext: On day 5, we were only able to find 4 oral swabs positive (25%). In contrast, we found 6 anal swabs positive (37.5%). When counting all swab positives ...\n",
            " \tdocument_id: e62756602abc2bfd7fa15a2760a0aa3d \n",
            "\n",
            " \tcontext: For the determination of viable counts, aliquots were removed at 0, 4, 6, 8, and 24 h time points after inoculation, serially diluted in sterile phosp ...\n",
            " \tdocument_id: 60765179ae9b72a2fac9e8df81036020 \n",
            "_______________________________________________________\n",
            "Query: \n",
            " \tWhat did the study highlight?\n",
            "Gold Document Ids: \n",
            " \t37bf2568c8bd85898d7a8eeb7f7ce0ac\n",
            "Metrics: \n",
            " \trecall_multi_hit: 0.0\n",
            " \trecall_single_hit: 0.0\n",
            " \tprecision: 0.0\n",
            " \tmap: 0.0\n",
            " \tmrr: 0.0\n",
            " \tndcg: 0.0\n",
            "Documents: \n",
            " \tcontext: Further variables considered in the study were age, gender, self-reported weight and height for BMI calculation (BMI was categorized as < 30 (non-obes ...\n",
            " \tdocument_id: a10916ecf853a3e1bda08fec49788e9c \n",
            "\n",
            " \tcontext: As strengths of our study we count 1) its sample size, allowing for the analysis of effect modification, 2) its prospective design involving 18 months ...\n",
            " \tdocument_id: 859c73dac2b0c8855f0d9e500a757b62 \n",
            "\n",
            " \tcontext: All patients in Riyadh and Al-Qassim regions who had their samples tested at Riyadh regional lab during the study period were considered as suspected  ...\n",
            " \tdocument_id: 8c9ea71417908842225dfe59a1504c11 \n",
            "_______________________________________________________\n",
            "=======================================================\n",
            "\n",
            "                Wrong Reader Examples\n",
            "=======================================================\n",
            "Query: \n",
            " \tCan biomarkers be used to predict outcomes in acute respiratory distress (ARDS) patients?\n",
            "Gold Answers: \n",
            " \tClinical studies have started to correlate specific biomarkers with disease outcomes in ARDS patients\n",
            "Gold Document Ids: \n",
            " \ta33b396de8609903b1a8425bde641314\n",
            "Metrics: \n",
            " \texact_match: 0.0\n",
            " \tf1: 0.0\n",
            "Answers: \n",
            " \tanswer:  \n",
            " \tcontext: None \n",
            "_______________________________________________________\n",
            "Query: \n",
            " \tApproximately how many deaths have been averted in Western Europe with current non-pharmaceutical interventions remaining in place until the end of March?\n",
            "Gold Answers: \n",
            " \t59,000 deaths\n",
            "Gold Document Ids: \n",
            " \t3ff5abc702a9266a1cf57bc5108abc96\n",
            "Metrics: \n",
            " \texact_match: 0.0\n",
            " \tf1: 0.0\n",
            "Answers: \n",
            " \tanswer:  \n",
            " \tcontext: None \n",
            "_______________________________________________________\n",
            "Query: \n",
            " \tWhat  were linked to the exacerbation of the airway inflammation disease?\n",
            "Gold Answers: \n",
            " \tcirculating miRNA changes\n",
            "Gold Document Ids: \n",
            " \tb32659e119337dac1ac561cec757fdbe\n",
            "Metrics: \n",
            " \texact_match: 0.0\n",
            " \tf1: 0.0\n",
            "Answers: \n",
            " \tanswer:  \n",
            " \tcontext: None \n",
            "_______________________________________________________\n",
            "=======================================================\n",
            "\n"
          ]
        }
      ],
      "source": [
        "pipe.print_eval_report(eval_results)"
      ]
    },
    {
      "cell_type": "markdown",
      "metadata": {
        "id": "2cShpWn0PcUl"
      },
      "source": [
        "# **Retriever Improvement**"
      ]
    },
    {
      "cell_type": "markdown",
      "metadata": {
        "id": "cUvKMWqEx7ZT"
      },
      "source": [
        "**Utility Functions**"
      ]
    },
    {
      "cell_type": "code",
      "execution_count": null,
      "metadata": {
        "id": "xCgayYeiimQ_"
      },
      "outputs": [],
      "source": [
        "def ds_to_er_format(ds):\n",
        "  train_set = []\n",
        "  for item in ds:\n",
        "    for label in [label for label in item[0][\"qas\"] if label['is_impossible']==False]:\n",
        "      train_set.append({'question':label['question'],\n",
        "                        'pos_doc': item[0][\"context\"]})\n",
        "  return train_set"
      ]
    },
    {
      "cell_type": "markdown",
      "metadata": {
        "id": "qEiw_3KDNOzS"
      },
      "source": [
        "**Fine-Tuning EmbeddingRetrieval**"
      ]
    },
    {
      "cell_type": "code",
      "execution_count": null,
      "metadata": {
        "id": "Umuv2sYGpmjo",
        "jupyter": {
          "outputs_hidden": true
        },
        "tags": []
      },
      "outputs": [],
      "source": [
        "er = EmbeddingRetriever(document_store = document_store,\n",
        "                        embedding_model=embedding_model)"
      ]
    },
    {
      "cell_type": "code",
      "execution_count": null,
      "metadata": {
        "id": "4h_GXRfBY7yv",
        "jupyter": {
          "outputs_hidden": true
        },
        "tags": []
      },
      "outputs": [],
      "source": [
        "train_ds = load_dataset(\"json\",data_files= \"/content/train.json\",field=\"data\")"
      ]
    },
    {
      "cell_type": "code",
      "execution_count": null,
      "metadata": {
        "id": "x93SPh2bAWsY"
      },
      "outputs": [],
      "source": [
        "train_ds = train_ds[\"train\"][\"paragraphs\"]"
      ]
    },
    {
      "cell_type": "code",
      "execution_count": null,
      "metadata": {
        "id": "w9ZGIyHTl4uN"
      },
      "outputs": [],
      "source": [
        "train_set = ds_to_er_format(train_ds)"
      ]
    },
    {
      "cell_type": "code",
      "execution_count": null,
      "metadata": {
        "id": "GoFTbGCoyEzj"
      },
      "outputs": [],
      "source": [
        "er.train(training_data=train_set,learning_rate=1e-05)"
      ]
    },
    {
      "cell_type": "code",
      "execution_count": null,
      "metadata": {
        "id": "Pl53FnEW9DM-"
      },
      "outputs": [],
      "source": [
        "document_store.update_embeddings(er)"
      ]
    },
    {
      "cell_type": "code",
      "execution_count": null,
      "metadata": {
        "id": "GfPUtMVf8t0B"
      },
      "outputs": [],
      "source": [
        "pipe = Pipeline()\n",
        "pipe.add_node(component=er,name=\"Retriever\",inputs=[\"Query\"])\n",
        "pipe.add_node(component=reader,name=\"Reader\",inputs=[\"Retriever\"])"
      ]
    },
    {
      "cell_type": "code",
      "execution_count": null,
      "metadata": {
        "id": "KweJK12W8_Xb"
      },
      "outputs": [],
      "source": [
        "eval_results = pipe.eval(labels=eval_labels,params={\"Retriever\":{\"top_k\":3},\"Reader\":{\"top_k\":1}})"
      ]
    },
    {
      "cell_type": "code",
      "execution_count": null,
      "metadata": {
        "colab": {
          "base_uri": "https://localhost:8080/"
        },
        "id": "yO7q9Mwv-T5Q",
        "jupyter": {
          "outputs_hidden": true
        },
        "outputId": "06bb12c6-3708-4b18-9ec2-963ae137a0d4",
        "tags": []
      },
      "outputs": [
        {
          "name": "stdout",
          "output_type": "stream",
          "text": [
            "================== Evaluation Report ==================\n",
            "=======================================================\n",
            "                   Pipeline Overview\n",
            "=======================================================\n",
            "                      Query\n",
            "                        |\n",
            "                        |\n",
            "                      Retriever\n",
            "                        |\n",
            "                        | map: 0.604\n",
            "                        | mrr: 0.606\n",
            "                        | ndcg: 0.627\n",
            "                        | precision: 0.238\n",
            "                        | recall_multi_hit: 0.691\n",
            "                        | recall_single_hit: 0.693\n",
            "                        |\n",
            "                      Reader\n",
            "                        |\n",
            "                        | exact_match: 0.184\n",
            "                        | exact_match_top_1: 0.184\n",
            "                        | f1: 0.335\n",
            "                        | f1_top_1: 0.335\n",
            "                        | num_examples_for_eval: 6.58e+02\n",
            "                        | num_examples_for_eval_top_1: 6.58e+02\n",
            "                        |\n",
            "                      Output\n",
            "=======================================================\n",
            "\n",
            "                Wrong Retriever Examples\n",
            "=======================================================\n",
            "Query: \n",
            " \tWhat was the purpose of the research?\n",
            "Gold Document Ids: \n",
            " \t38edff45e2b790704e8f279b39eb543e\n",
            "Metrics: \n",
            " \trecall_multi_hit: 0.0\n",
            " \trecall_single_hit: 0.0\n",
            " \tprecision: 0.0\n",
            " \tmap: 0.0\n",
            " \tmrr: 0.0\n",
            " \tndcg: 0.0\n",
            "Documents: \n",
            " \tcontext: The policies of organisations that fund or conduct animal research include these principles as part of the condition of funding [141] .\n",
            "\n",
            "The shared sy ...\n",
            " \tdocument_id: 53aad338b28a94e9c3222177f094ec0e \n",
            "\n",
            " \tcontext: 2 These numbers are likely underestimates due to the limited information available regarding incubation time, transmissibility, and virus origin. The  ...\n",
            " \tdocument_id: d9b571c69f625db871a03ce3e5d2c19b \n",
            "\n",
            " \tcontext: Trying To Understand What Happened\n",
            "\n",
            "By the early 1990s, 75 years of research had failed to\n",
            "answer a most basic question about the 1918 pandemic:\n",
            "why w ...\n",
            " \tdocument_id: 88dad29f604321723b78dc20a87c1ec5 \n",
            "_______________________________________________________\n",
            "Query: \n",
            " \tWhat is the filamentous phage varion is made of?\n",
            "Gold Document Ids: \n",
            " \t434d65b7574d41bd2d530833d3ab2093\n",
            "Metrics: \n",
            " \trecall_multi_hit: 0.0\n",
            " \trecall_single_hit: 0.0\n",
            " \tprecision: 0.0\n",
            " \tmap: 0.0\n",
            " \tmrr: 0.0\n",
            " \tndcg: 0.0\n",
            "Documents: \n",
            " \tcontext: These tend to fall into four major categories of use: (i) filamentous phage as a vaccine carrier; (ii) engineered filamentous phage as a therapeutic b ...\n",
            " \tdocument_id: cd6cabaa5193335714b9719b175f1d02 \n",
            "\n",
            " \tcontext: (2002) engineered M13 phage to display a ZnS-binding peptide on pIII and showed that, in the presence of ZnS nanoparticles, they selfassemble into hig ...\n",
            " \tdocument_id: d7df887c3b192f89178fa2bcee525460 \n",
            "\n",
            " \tcontext: , 2004; Suttle, 2005) . The few studies attempting to investigate filamentous phage environmental ecology using classical environmental microbiology t ...\n",
            " \tdocument_id: d9609484b0fecea1de9aa1cb79835e4e \n",
            "_______________________________________________________\n",
            "Query: \n",
            " \tWhat was the purpose of this study?\n",
            "Gold Document Ids: \n",
            " \t351f71662f0ea803c59557169ae383c0\n",
            "Metrics: \n",
            " \trecall_multi_hit: 0.0\n",
            " \trecall_single_hit: 0.0\n",
            " \tprecision: 0.0\n",
            " \tmap: 0.0\n",
            " \tmrr: 0.0\n",
            " \tndcg: 0.0\n",
            "Documents: \n",
            " \tcontext: 2 These numbers are likely underestimates due to the limited information available regarding incubation time, transmissibility, and virus origin. The  ...\n",
            " \tdocument_id: d9b571c69f625db871a03ce3e5d2c19b \n",
            "\n",
            " \tcontext: 4 8 The mechanisms by which this particular species elicits these symptoms are not known.\n",
            "\n",
            "The strengths of this study of HCoV in otherwise healthy ad ...\n",
            " \tdocument_id: d5ac043c08523f653f5560cc4bcb8bf5 \n",
            "\n",
            " \tcontext: A commune in Viet Nam is thus the third level administrative subdivision, consisting of villages/hamlets. For the purpose of simplicity we will hencef ...\n",
            " \tdocument_id: 926b9eff6563fdcf705081651885212 \n",
            "_______________________________________________________\n",
            "=======================================================\n",
            "\n",
            "                Wrong Reader Examples\n",
            "=======================================================\n",
            "Query: \n",
            " \tWhat was the purpose of the research?\n",
            "Gold Answers: \n",
            " \tto evaluate the effectiveness of zinc supplementation on diarrhea and average daily weight gain (ADG) in pre-weaned dairy calves\n",
            "Gold Document Ids: \n",
            " \t38edff45e2b790704e8f279b39eb543e\n",
            "Metrics: \n",
            " \texact_match: 0.0\n",
            " \tf1: 0.0\n",
            "Answers: \n",
            " \tanswer:  \n",
            " \tcontext: None \n",
            "_______________________________________________________\n",
            "Query: \n",
            " \tWhat are IFV infection shown to do?\n",
            "Gold Answers: \n",
            " \t increase miR-125a and b, and miR-132 in COPD epithelium which inhibits A20 and MAVS; and p300 and IRF3, respectively, resulting in increased susceptibility to viral infections \n",
            "Gold Document Ids: \n",
            " \tb32659e119337dac1ac561cec757fdbe\n",
            "Metrics: \n",
            " \texact_match: 0.0\n",
            " \tf1: 0.0\n",
            "Answers: \n",
            " \tanswer:  \n",
            " \tcontext: None \n",
            "_______________________________________________________\n",
            "Query: \n",
            " \tWhat  were linked to the exacerbation of the airway inflammation disease?\n",
            "Gold Answers: \n",
            " \tcirculating miRNA changes\n",
            "Gold Document Ids: \n",
            " \tb32659e119337dac1ac561cec757fdbe\n",
            "Metrics: \n",
            " \texact_match: 0.0\n",
            " \tf1: 0.0\n",
            "Answers: \n",
            " \tanswer: viral infection \n",
            " \tcontext: , further causing inflammation and alteration of the lower airway environment, resulting in prolong exacerbation episodes following viral infection.\n",
            "\n",
            " \n",
            "_______________________________________________________\n",
            "=======================================================\n",
            "\n"
          ]
        }
      ],
      "source": [
        "pipe.print_eval_report(eval_results)"
      ]
    },
    {
      "cell_type": "markdown",
      "metadata": {
        "id": "I5n-I21Xxviw"
      },
      "source": [
        "# **Reader Improvement**"
      ]
    },
    {
      "cell_type": "markdown",
      "metadata": {
        "id": "Wwp_qKDEgfgJ"
      },
      "source": [
        "**minilm-uncased-squad2 Fine-Tuning**"
      ]
    },
    {
      "cell_type": "code",
      "execution_count": null,
      "metadata": {
        "execution": {
          "iopub.execute_input": "2023-03-14T18:17:37.973056Z",
          "iopub.status.busy": "2023-03-14T18:17:37.972257Z",
          "iopub.status.idle": "2023-03-14T18:17:38.741982Z",
          "shell.execute_reply": "2023-03-14T18:17:38.741445Z",
          "shell.execute_reply.started": "2023-03-14T18:17:37.973033Z"
        },
        "id": "pY6q23EPqQeN"
      },
      "outputs": [],
      "source": [
        "reader = FARMReader(model_name_or_path=model_ckpt,max_seq_len=384,doc_stride=128,max_query_length=200,return_no_answer=True,no_ans_boost=-100,progress_bar=False)"
      ]
    },
    {
      "cell_type": "code",
      "execution_count": null,
      "metadata": {
        "colab": {
          "base_uri": "https://localhost:8080/",
          "height": 113,
          "referenced_widgets": [
            "ebba4ca178b743f2957c2a29ce16e6e4",
            "2130f2b4f51846f6b6b3a922f91c3660",
            "8db5e1d3fd5a4e0cb8b01c1cd2a7f141",
            "834b34524afa4bcdab207abeab4f50ee",
            "02dadfe9c702479989ce6ba3c568f22c",
            "a35c7423a46e49c398e5078994d117d1",
            "1b926c198d604e57a35e88476922ce96",
            "94bd4f949e524e34b5133b6cffbfd6b9",
            "6d7bfa5929374f1daa994e8ad4354997",
            "6654c3424838448785fce3c202d7ccf3",
            "b5e8e36e61f54abeb73d8cf484bd0365",
            "6454b6add49f485b92f329e68076f213",
            "b19aabf15de441bc8a9bf3547f47d9d6",
            "8d3dceb9248048b6b5eda2d355e1bd99",
            "7d70a7b421264f3dbaa3d9589af262dc",
            "25465288ec544a27916c8e48f69894a4",
            "f4d818fb81e242ffb901eadfd2f7c22d",
            "131d35acbf3243f080a354d73275de1f",
            "603aafd2391548a0bc82b6ba7d89e31b",
            "73ffcaf62aef4f9d84e9024af9a51038",
            "b99c881656fc401fa4949d6ba7536920",
            "08bfdbc3133845e0aeebedf7cf45844b",
            "291ca939b7f34fda9cbe1e3574549210",
            "53bdb588581c47fe9b90fad76f4b5332",
            "1e68c4c112f4414ca9bd3d7f2f05cedc",
            "a0d2825a05794ebc8775a3e2611472f0",
            "854c3bd297b64687bd595d131c5c05a7",
            "d51aca3b330742fe9da5714aedbcd746",
            "fa284c9715894e3d8ed6a81752c171bd",
            "877b0fb672ab45929481902214081b27",
            "be5f85116f0f47ea8802e8f1bf799795",
            "a9cb7e74257f4ac092c173e206df6341",
            "a855bbc34b834675b23740a03730eaec",
            "4af5e5620e174757b2a853fc8e504cd3"
          ]
        },
        "execution": {
          "iopub.execute_input": "2023-03-14T18:17:44.835040Z",
          "iopub.status.busy": "2023-03-14T18:17:44.834381Z",
          "iopub.status.idle": "2023-03-14T18:18:07.793422Z",
          "shell.execute_reply": "2023-03-14T18:18:07.792787Z",
          "shell.execute_reply.started": "2023-03-14T18:17:44.835016Z"
        },
        "id": "nlLfWbN20uRY",
        "outputId": "dd4505cc-91b2-43cb-9052-b2b1317f1819"
      },
      "outputs": [
        {
          "data": {
            "application/vnd.jupyter.widget-view+json": {
              "model_id": "4af5e5620e174757b2a853fc8e504cd3",
              "version_major": 2,
              "version_minor": 0
            },
            "text/plain": [
              "Preprocessing dataset:   0%|          | 0/1 [00:00<?, ? Dicts/s]"
            ]
          },
          "metadata": {},
          "output_type": "display_data"
        }
      ],
      "source": [
        "reader.train(\n",
        "    data_dir=\"/notebooks\",\n",
        "    train_filename=\"/notebooks/train.json\",\n",
        "    use_gpu=True,\n",
        "    n_epochs=3,\n",
        "    batch_size=24,\n",
        "    learning_rate=3e-5,\n",
        "    save_dir=\"/notebooks/ft_minilm\",\n",
        "    checkpoint_every = 1,\n",
        "    checkpoint_root_dir = \"/notebooks/ft_minilm/checkpoints\",\n",
        "    use_amp=True,\n",
        "    warmup_proportion = 0.1\n",
        ")\n",
        "\n"
      ]
    },
    {
      "cell_type": "markdown",
      "metadata": {
        "id": "5rvvXFCrgmfR"
      },
      "source": [
        "**Evaluating BM25 + Fine-Tuned minilm-uncased-squad2**"
      ]
    },
    {
      "cell_type": "code",
      "execution_count": null,
      "metadata": {
        "id": "dk1YQysZga0p"
      },
      "outputs": [],
      "source": [
        "pipe = Pipeline()\n",
        "pipe.add_node(component=bm25,name=\"Retriever\",inputs=[\"Query\"])\n",
        "pipe.add_node(component=reader,name=\"Reader\",inputs=[\"Retriever\"])"
      ]
    },
    {
      "cell_type": "code",
      "execution_count": null,
      "metadata": {
        "id": "_z6-PKRit-Tx"
      },
      "outputs": [],
      "source": [
        "eval_results = pipe.eval(labels=eval_labels,params={\"Retriever\":{\"top_k\":3},\"Reader\":{\"top_k\":1}})"
      ]
    },
    {
      "cell_type": "code",
      "execution_count": null,
      "metadata": {
        "id": "wQf-RokauFX7"
      },
      "outputs": [],
      "source": [
        "pipe.print_eval_report(eval_results)"
      ]
    },
    {
      "cell_type": "code",
      "execution_count": null,
      "metadata": {
        "execution": {
          "iopub.execute_input": "2023-03-14T18:00:03.602101Z",
          "iopub.status.busy": "2023-03-14T18:00:03.601266Z",
          "iopub.status.idle": "2023-03-14T18:02:06.447649Z",
          "shell.execute_reply": "2023-03-14T18:02:06.447017Z",
          "shell.execute_reply.started": "2023-03-14T18:00:03.602079Z"
        },
        "id": "SlLIK_axANh7",
        "jupyter": {
          "outputs_hidden": true
        },
        "tags": []
      },
      "outputs": [],
      "source": [
        "eval_results = reader.eval(document_store=document_store,label_index=\"eval_labels\",doc_index=\"eval_docs\")"
      ]
    },
    {
      "cell_type": "code",
      "execution_count": null,
      "metadata": {
        "colab": {
          "base_uri": "https://localhost:8080/"
        },
        "execution": {
          "iopub.execute_input": "2023-03-14T18:13:54.495219Z",
          "iopub.status.busy": "2023-03-14T18:13:54.495040Z",
          "iopub.status.idle": "2023-03-14T18:13:54.499237Z",
          "shell.execute_reply": "2023-03-14T18:13:54.498666Z",
          "shell.execute_reply.started": "2023-03-14T18:13:54.495202Z"
        },
        "id": "dp4AoLlFTZqc",
        "outputId": "936f91bc-d7c8-4cd3-dc0c-a7070888cd08"
      },
      "outputs": [
        {
          "data": {
            "text/plain": [
              "{'EM': 20.72072072072072,\n",
              " 'f1': 50.32282947786072,\n",
              " 'top_n_accuracy': 82.43243243243244,\n",
              " 'top_n': 4,\n",
              " 'reader_time': 135.27690143883228,\n",
              " 'seconds_per_query': 0.30467770594331595,\n",
              " 'EM_text_answer': 20.72072072072072,\n",
              " 'f1_text_answer': 50.32282947786072,\n",
              " 'top_n_accuracy_text_answer': 82.43243243243244,\n",
              " 'top_n_EM_text_answer': 26.576576576576578,\n",
              " 'top_n_f1_text_answer': 66.15020245147878,\n",
              " 'Total_text_answer': 444,\n",
              " 'EM_no_answer': 0,\n",
              " 'f1_no_answer': nan,\n",
              " 'top_n_accuracy_no_answer': nan,\n",
              " 'Total_no_answer': 0}"
            ]
          },
          "execution_count": 26,
          "metadata": {},
          "output_type": "execute_result"
        }
      ],
      "source": [
        "eval_results"
      ]
    },
    {
      "cell_type": "markdown",
      "metadata": {
        "tags": [],
        "id": "NjAcGqoRqQeR"
      },
      "source": [
        "# **Generative LFQA**"
      ]
    },
    {
      "cell_type": "markdown",
      "source": [
        "We will now adopt Generative Long-Form Question Answering to compare it to the extractive solution"
      ],
      "metadata": {
        "id": "ptzrWbRvzs7u"
      }
    },
    {
      "cell_type": "markdown",
      "metadata": {
        "id": "Ya4f9MdqqQeS"
      },
      "source": [
        "**Import Dependencies**"
      ]
    },
    {
      "cell_type": "code",
      "execution_count": null,
      "metadata": {
        "tags": [],
        "id": "_us7NDNDqQeS",
        "outputId": "19d24096-9741-4ae5-b0fb-7123b404803e"
      },
      "outputs": [
        {
          "name": "stdout",
          "output_type": "stream",
          "text": [
            "time: 452 µs (started: 2023-03-28 18:20:31 +00:00)\n"
          ]
        }
      ],
      "source": [
        "from haystack.nodes import Seq2SeqGenerator\n",
        "from datasets import load_dataset\n",
        "from haystack.schema import Document"
      ]
    },
    {
      "cell_type": "markdown",
      "metadata": {
        "id": "690jRycPqQeS"
      },
      "source": [
        "**Utility Functions**"
      ]
    },
    {
      "cell_type": "code",
      "execution_count": null,
      "metadata": {
        "id": "GkPz61cGqQeS"
      },
      "outputs": [],
      "source": [
        "def evaluate_generator(generator,ds,n):\n",
        "    for e in ds[:n]:\n",
        "        question = e[0]['qas'][0]['question']\n",
        "        answer = e[0]['qas'][0]['answers'][0]\n",
        "        context = e[0]['context']\n",
        "        doc = Document(content=context)\n",
        "        docs = [doc]\n",
        "        \n",
        "        results = generator.predict(query=question,documents=docs)\n",
        "        print(f\"Question:{question}\\nAnswer:{answer['text']}\\nGenerated Answer:{results['answers'][0].answer}\\n\\n\\n\")\n",
        "        "
      ]
    },
    {
      "cell_type": "code",
      "execution_count": null,
      "metadata": {
        "execution": {
          "iopub.execute_input": "2023-03-16T16:10:30.056416Z",
          "iopub.status.busy": "2023-03-16T16:10:30.055811Z",
          "iopub.status.idle": "2023-03-16T16:10:30.228246Z",
          "shell.execute_reply": "2023-03-16T16:10:30.227785Z",
          "shell.execute_reply.started": "2023-03-16T16:10:30.056398Z"
        },
        "jupyter": {
          "outputs_hidden": true
        },
        "tags": [],
        "id": "mdFeoG39qQeT"
      },
      "outputs": [],
      "source": [
        "test_set = load_dataset(\"json\",data_files=\"/notebooks/test.json\",field=\"data\")\n",
        "test_set = test_set[\"train\"]['paragraphs']"
      ]
    },
    {
      "cell_type": "code",
      "execution_count": null,
      "metadata": {
        "tags": [],
        "id": "09nQQxEMqQeT"
      },
      "outputs": [],
      "source": [
        "generator = Seq2SeqGenerator(model_name_or_path=\"Davidai/lfqa_covid\")"
      ]
    },
    {
      "cell_type": "code",
      "execution_count": null,
      "metadata": {
        "id": "5uMxWqCSqQeT",
        "outputId": "62886814-3583-4284-89a7-9bc213ed8ee8"
      },
      "outputs": [
        {
          "name": "stdout",
          "output_type": "stream",
          "text": [
            "Question:What enzymes have been reported to be linked with severity of infection and various pathological conditions caused by microorganisms?\n",
            "Answer:cysteine proteases\n",
            "Generated Answer:I'm not sure if this is what you're looking for, but there are a few enzymes that have been shown to be associated with increased susceptibility to certain infections. The most well-known of these is the cysteine-protease inhibitor (CPI), which has been used to treat a variety of bacterial infections.\n",
            "\n",
            "\n",
            "\n",
            "Question:What are inovirus-associated vectors?\n",
            "Answer:engineered, non-lytic, filamentous bacteriophages\n",
            "Generated Answer:I'm not sure if this is what you're looking for, but I'll give it a shot. Inovirus-associated vectors (IAVs) are a type of bacteriophage that infects bacteria. There are over 50 different species of filamentous viruses; the majority of them capable of infecting Gram-negative bacteria. They are made up of thousands of copies of the major coat protein gp8 and just five copies of each of the four minor coat proteins gp3, gp6, gp7 and gp9. These coat proteins are assembled at the outer surface of the virion, where the major capsid protein subunits replace the single-stranded DNA binding protein and for more than two decades has been exploited in many applications including antibody or peptide display libraries, drug design and vaccine development against infectious and non-infectious diseases. They have been shown to elicit both a cellular and humoral response against various pathogens through the display of antibody epitopes on their coat\n",
            "\n",
            "\n",
            "\n",
            "Question:What is the distance between the p4.7 and p12.7 genes in the Irish versus Japanese equine coronavirus variants?\n",
            "Answer:544 base pairs\n",
            "Generated Answer:The P4.7 and P12.7 genes are highly conserved and are closely related to ECoVs identified in other countries. In contrast, the non-coding region following the P 4.7 gene had deletions or insertions, suggesting that there is potential for ECoV to be over-diagnosed as a causative agent in complex diseases.\n",
            "\n",
            "\n",
            "\n",
            "Question:What is the mechanism of action for rupintrivir?\n",
            "Answer:prevents cleavage of viral proteins required for replication\n",
            "Generated Answer:The mechanism of action of rupintrivir is not well understood, but it is believed that it inhibits the replication of the virus in the body. This is thought to be due to the fact that the virus is able to evade the immune system's ability to recognize it as a foreign invader.\n",
            "\n",
            "\n",
            "\n",
            "Question:When did the last Director General of the WHO resign?\n",
            "Answer:June 30, 2017\n",
            "Generated Answer:The current Director General of the World Health Organization (WHO) is Dr. Margaret Chan. She has been the head of the organization for the past 10 years. She was appointed in 2006 by the UN Security Council. She is the first woman to be appointed to the position. Her predecessor, Dr. Tedros Adhanom Ghebreyesus, stepped down in 2009. The current Director-General of the WHO is currently Dr. Sanjay Gupta. He is the current Director of the International Agency for Research on Cancer (IARC).\n",
            "\n",
            "\n",
            "\n"
          ]
        }
      ],
      "source": [
        "evaluate_generator(generator,test_set,5)"
      ]
    },
    {
      "cell_type": "markdown",
      "metadata": {
        "id": "HiAu2UswqQeU"
      },
      "source": [
        "# **FAQ QA**"
      ]
    },
    {
      "cell_type": "markdown",
      "source": [
        "Finally we try,as last approach, the FAQ Question Answering, that uses embeddings of the retriever model to return the best answer in the DB."
      ],
      "metadata": {
        "id": "IrFgUAYFz8Wc"
      }
    },
    {
      "cell_type": "markdown",
      "source": [
        "**Import Dependencies**"
      ],
      "metadata": {
        "id": "hifgWkOqs78R"
      }
    },
    {
      "cell_type": "code",
      "execution_count": null,
      "metadata": {
        "id": "pfT8WmH9qQeU"
      },
      "outputs": [],
      "source": [
        "from haystack.pipelines import ExtractiveQAPipeline, GenerativeQAPipeline,FAQPipeline\n",
        "import pandas as pd\n",
        "from haystack.nodes import EmbeddingRetriever"
      ]
    },
    {
      "cell_type": "markdown",
      "source": [
        "We need additional data to build a FAQ pipeline. We will download and process 6 sets of question-answer pairs (no context) of various sizes."
      ],
      "metadata": {
        "id": "U0KhqfmdvXbg"
      }
    },
    {
      "cell_type": "markdown",
      "source": [
        "**Utility Functions**"
      ],
      "metadata": {
        "id": "4bWG23CIvhRF"
      }
    },
    {
      "cell_type": "code",
      "source": [
        "def preprocess_faq_csv(df,q_column,a_column):\n",
        "  df = df[[q_column,a_column]]\n",
        "  df.fillna(value=\"\", inplace=True)\n",
        "  df[q_column] = df[q_column].apply(lambda x: x.strip())\n",
        "  questions = list(df[q_column].values)\n",
        "  df[\"embedding\"] = er.embed_queries(queries=questions).tolist()\n",
        "  df = df.rename(columns={q_column: \"content\"})"
      ],
      "metadata": {
        "id": "PbCbJrsItbu5"
      },
      "execution_count": null,
      "outputs": []
    },
    {
      "cell_type": "code",
      "source": [
        "def load_faq_data(df):\n",
        "  docs_to_index = df.to_dict(orient=\"records\")\n",
        "  document_store.write_documents(docs_to_index,index=\"faq\")"
      ],
      "metadata": {
        "id": "vfYxThaDvqEU"
      },
      "execution_count": null,
      "outputs": []
    },
    {
      "cell_type": "code",
      "source": [
        "ds_list = [\"additional_data/big_faq.csv\",\n",
        "           \"additional_data/community.csv\",\n",
        "           \"additional_data/COVID19_FAQ.csv\",\n",
        "           \"additional_data/multilingual.csv\",\n",
        "           \"additional_data/news.csv\",\n",
        "           \"additional_data/small_faq_covid.csv\"]"
      ],
      "metadata": {
        "id": "E1kNoWxNvkNa"
      },
      "execution_count": null,
      "outputs": []
    },
    {
      "cell_type": "markdown",
      "metadata": {
        "id": "dSaEbQ6PqQeg"
      },
      "source": [
        "**BIG FAQ Loading**"
      ]
    },
    {
      "cell_type": "code",
      "execution_count": null,
      "metadata": {
        "id": "teOa2Vi4qQeg"
      },
      "outputs": [],
      "source": [
        "df = pd.read_csv(ds_list[0])\n",
        "df = df.loc[df[\"language\"] == \"en\"]\n",
        "preprocess_faq_csv(df,\"question\",\"answer\")\n",
        "load_faq_data(df)\n"
      ]
    },
    {
      "cell_type": "markdown",
      "metadata": {
        "id": "d_sDrfH_qQeh"
      },
      "source": [
        "**Community FAQ Loading**"
      ]
    },
    {
      "cell_type": "code",
      "execution_count": null,
      "metadata": {
        "id": "rgrlTjfIqQeh"
      },
      "outputs": [],
      "source": [
        "df = pd.read_csv(ds_list[1])\n",
        "preprocess_faq_csv(df,\"question\",\"answer\")\n",
        "load_faq_data(df)"
      ]
    },
    {
      "cell_type": "markdown",
      "metadata": {
        "id": "2JrGCgfvqQei"
      },
      "source": [
        "**COVID 19 FAQ**"
      ]
    },
    {
      "cell_type": "code",
      "execution_count": null,
      "metadata": {
        "colab": {
          "referenced_widgets": [
            "f943695b50584291950845f0dc922d5a"
          ]
        },
        "id": "ePfXBJoEqQei",
        "outputId": "ed921114-39cd-4558-fdd0-ef5d408d9074"
      },
      "outputs": [
        {
          "data": {
            "application/vnd.jupyter.widget-view+json": {
              "model_id": "f943695b50584291950845f0dc922d5a",
              "version_major": 2,
              "version_minor": 0
            },
            "text/plain": [
              "Batches:   0%|          | 0/3 [00:00<?, ?it/s]"
            ]
          },
          "metadata": {},
          "output_type": "display_data"
        }
      ],
      "source": [
        "df = pd.read_csv(ds_list[2])\n",
        "preprocess_faq_csv(df,\"questions\",\"answers\")\n",
        "load_faq_data(df)"
      ]
    },
    {
      "cell_type": "markdown",
      "metadata": {
        "id": "I0wv6BHeqQej"
      },
      "source": [
        "**Multilingual FAQ**"
      ]
    },
    {
      "cell_type": "code",
      "execution_count": null,
      "metadata": {
        "colab": {
          "referenced_widgets": [
            "45b5f5418ea74c44a1d22e5d5da0bbbc"
          ]
        },
        "id": "YPh5uttkqQej",
        "outputId": "aea63b88-cf9d-4505-8667-159097a65850"
      },
      "outputs": [
        {
          "data": {
            "application/vnd.jupyter.widget-view+json": {
              "model_id": "45b5f5418ea74c44a1d22e5d5da0bbbc",
              "version_major": 2,
              "version_minor": 0
            },
            "text/plain": [
              "Batches:   0%|          | 0/6 [00:00<?, ?it/s]"
            ]
          },
          "metadata": {},
          "output_type": "display_data"
        }
      ],
      "source": [
        "df = pd.read_csv(ds_list[3])\n",
        "df = df.loc[df[\"language\"] == \"english\"]\n",
        "load_faq_data(df)"
      ]
    },
    {
      "cell_type": "markdown",
      "metadata": {
        "id": "BxwA79OXqQek"
      },
      "source": [
        "**News FAQ**"
      ]
    },
    {
      "cell_type": "code",
      "execution_count": null,
      "metadata": {
        "colab": {
          "referenced_widgets": [
            "788eedffcf8c450fb5aff3455039cea7"
          ]
        },
        "id": "1HWB27lyqQel",
        "outputId": "103404d5-9d37-430b-99f6-335aa4b23884"
      },
      "outputs": [
        {
          "data": {
            "application/vnd.jupyter.widget-view+json": {
              "model_id": "788eedffcf8c450fb5aff3455039cea7",
              "version_major": 2,
              "version_minor": 0
            },
            "text/plain": [
              "Batches:   0%|          | 0/16 [00:00<?, ?it/s]"
            ]
          },
          "metadata": {},
          "output_type": "display_data"
        }
      ],
      "source": [
        "df = pd.read_csv(ds_list[4])\n",
        "preprocess_faq_csv(df,\"question\",\"answer\")\n",
        "load_faq_data(df)"
      ]
    },
    {
      "cell_type": "markdown",
      "metadata": {
        "id": "G-eDFe_-qQem"
      },
      "source": [
        "**Small FAQ**"
      ]
    },
    {
      "cell_type": "code",
      "execution_count": null,
      "metadata": {
        "colab": {
          "referenced_widgets": [
            ""
          ]
        },
        "id": "JBKwlcswqQem",
        "outputId": "18b98ed0-b4bb-4cbe-b498-51c08d42849e"
      },
      "outputs": [
        {
          "data": {
            "application/vnd.jupyter.widget-view+json": {
              "model_id": "",
              "version_major": 2,
              "version_minor": 0
            },
            "text/plain": [
              "Batches:   0%|          | 0/7 [00:00<?, ?it/s]"
            ]
          },
          "metadata": {},
          "output_type": "display_data"
        }
      ],
      "source": [
        "df = pd.read_csv(\"additional_data/small_faq_covid.csv\")\n",
        "preprocess_faq_csv(df,\"question\",\"answer\")\n",
        "load_faq_data(df)"
      ]
    },
    {
      "cell_type": "markdown",
      "metadata": {
        "id": "pWGZ6JZzqQeo"
      },
      "source": [
        "**FAQ Pipeline Testing**"
      ]
    },
    {
      "cell_type": "code",
      "source": [
        "er = EmbeddingRetriever(document_store,embedding_model)"
      ],
      "metadata": {
        "id": "ujkY_NijxEPV"
      },
      "execution_count": null,
      "outputs": []
    },
    {
      "cell_type": "code",
      "execution_count": null,
      "metadata": {
        "id": "_MbcnTC2qQeo"
      },
      "outputs": [],
      "source": [
        "faq_pipeline = FAQPipeline(er)"
      ]
    },
    {
      "cell_type": "code",
      "execution_count": null,
      "metadata": {
        "colab": {
          "referenced_widgets": [
            "9f34df2a54d74939b5589aa27cf75227"
          ]
        },
        "id": "ju6et1iRqQeo",
        "outputId": "018be5ee-2c09-405d-e9cd-0af4022e0aea"
      },
      "outputs": [
        {
          "data": {
            "application/vnd.jupyter.widget-view+json": {
              "model_id": "9f34df2a54d74939b5589aa27cf75227",
              "version_major": 2,
              "version_minor": 0
            },
            "text/plain": [
              "Batches:   0%|          | 0/1 [00:00<?, ?it/s]"
            ]
          },
          "metadata": {},
          "output_type": "display_data"
        },
        {
          "name": "stdout",
          "output_type": "stream",
          "text": [
            "There are two different types of tests available: viral tests (diagnostic) and antibody tests.\n",
            "\n",
            "A viral (diagnostic) test tells you if you have a current infection.\n",
            "An antibody test might tell you if you had a past infection. An antibody test might not show if you have a current infection because it can take 1–3 weeks after infection for your body to make antibodies. Having antibodies to the virus that causes COVID-19 might provide protection from getting infected with the virus again. If it does, we do not know how much protection the antibodies might provide or how long this protection might last.\n",
            "\n",
            "For more information about differences between the different types of tests, please visit VDH’s Testing Webpage.\n"
          ]
        }
      ],
      "source": [
        "question = \"What are the tests for COVID?\"\n",
        "answer = faq_pipeline.run(query=question,params={\"Retriever\":{'top_k':1, 'index':'faq'}})\n",
        "print(answer['answers'][0].answer)"
      ]
    }
  ],
  "metadata": {
    "accelerator": "GPU",
    "colab": {
      "provenance": []
    },
    "gpuClass": "standard",
    "kernelspec": {
      "display_name": "Python 3 (ipykernel)",
      "language": "python",
      "name": "python3"
    },
    "language_info": {
      "codemirror_mode": {
        "name": "ipython",
        "version": 3
      },
      "file_extension": ".py",
      "mimetype": "text/x-python",
      "name": "python",
      "nbconvert_exporter": "python",
      "pygments_lexer": "ipython3",
      "version": "3.9.16"
    },
    "widgets": {
      "application/vnd.jupyter.widget-state+json": {
        "02dadfe9c702479989ce6ba3c568f22c": {
          "model_module": "@jupyter-widgets/base",
          "model_module_version": "1.2.0",
          "model_name": "LayoutModel",
          "state": {
            "_model_module": "@jupyter-widgets/base",
            "_model_module_version": "1.2.0",
            "_model_name": "LayoutModel",
            "_view_count": null,
            "_view_module": "@jupyter-widgets/base",
            "_view_module_version": "1.2.0",
            "_view_name": "LayoutView",
            "align_content": null,
            "align_items": null,
            "align_self": null,
            "border": null,
            "bottom": null,
            "display": null,
            "flex": null,
            "flex_flow": null,
            "grid_area": null,
            "grid_auto_columns": null,
            "grid_auto_flow": null,
            "grid_auto_rows": null,
            "grid_column": null,
            "grid_gap": null,
            "grid_row": null,
            "grid_template_areas": null,
            "grid_template_columns": null,
            "grid_template_rows": null,
            "height": null,
            "justify_content": null,
            "justify_items": null,
            "left": null,
            "margin": null,
            "max_height": null,
            "max_width": null,
            "min_height": null,
            "min_width": null,
            "object_fit": null,
            "object_position": null,
            "order": null,
            "overflow": null,
            "overflow_x": null,
            "overflow_y": null,
            "padding": null,
            "right": null,
            "top": null,
            "visibility": null,
            "width": null
          }
        },
        "08bfdbc3133845e0aeebedf7cf45844b": {
          "model_module": "@jupyter-widgets/controls",
          "model_module_version": "1.5.0",
          "model_name": "DescriptionStyleModel",
          "state": {
            "_model_module": "@jupyter-widgets/controls",
            "_model_module_version": "1.5.0",
            "_model_name": "DescriptionStyleModel",
            "_view_count": null,
            "_view_module": "@jupyter-widgets/base",
            "_view_module_version": "1.2.0",
            "_view_name": "StyleView",
            "description_width": ""
          }
        },
        "131d35acbf3243f080a354d73275de1f": {
          "model_module": "@jupyter-widgets/controls",
          "model_module_version": "1.5.0",
          "model_name": "DescriptionStyleModel",
          "state": {
            "_model_module": "@jupyter-widgets/controls",
            "_model_module_version": "1.5.0",
            "_model_name": "DescriptionStyleModel",
            "_view_count": null,
            "_view_module": "@jupyter-widgets/base",
            "_view_module_version": "1.2.0",
            "_view_name": "StyleView",
            "description_width": ""
          }
        },
        "1b926c198d604e57a35e88476922ce96": {
          "model_module": "@jupyter-widgets/controls",
          "model_module_version": "1.5.0",
          "model_name": "DescriptionStyleModel",
          "state": {
            "_model_module": "@jupyter-widgets/controls",
            "_model_module_version": "1.5.0",
            "_model_name": "DescriptionStyleModel",
            "_view_count": null,
            "_view_module": "@jupyter-widgets/base",
            "_view_module_version": "1.2.0",
            "_view_name": "StyleView",
            "description_width": ""
          }
        },
        "1e68c4c112f4414ca9bd3d7f2f05cedc": {
          "model_module": "@jupyter-widgets/controls",
          "model_module_version": "1.5.0",
          "model_name": "FloatProgressModel",
          "state": {
            "_dom_classes": [],
            "_model_module": "@jupyter-widgets/controls",
            "_model_module_version": "1.5.0",
            "_model_name": "FloatProgressModel",
            "_view_count": null,
            "_view_module": "@jupyter-widgets/controls",
            "_view_module_version": "1.5.0",
            "_view_name": "ProgressView",
            "bar_style": "success",
            "description": "",
            "description_tooltip": null,
            "layout": "IPY_MODEL_877b0fb672ab45929481902214081b27",
            "max": 1493,
            "min": 0,
            "orientation": "horizontal",
            "style": "IPY_MODEL_be5f85116f0f47ea8802e8f1bf799795",
            "value": 1493
          }
        },
        "2130f2b4f51846f6b6b3a922f91c3660": {
          "model_module": "@jupyter-widgets/controls",
          "model_module_version": "1.5.0",
          "model_name": "HTMLModel",
          "state": {
            "_dom_classes": [],
            "_model_module": "@jupyter-widgets/controls",
            "_model_module_version": "1.5.0",
            "_model_name": "HTMLModel",
            "_view_count": null,
            "_view_module": "@jupyter-widgets/controls",
            "_view_module_version": "1.5.0",
            "_view_name": "HTMLView",
            "description": "",
            "description_tooltip": null,
            "layout": "IPY_MODEL_a35c7423a46e49c398e5078994d117d1",
            "placeholder": "​",
            "style": "IPY_MODEL_1b926c198d604e57a35e88476922ce96",
            "value": "Preprocessing dataset: 100%"
          }
        },
        "25465288ec544a27916c8e48f69894a4": {
          "model_module": "@jupyter-widgets/base",
          "model_module_version": "1.2.0",
          "model_name": "LayoutModel",
          "state": {
            "_model_module": "@jupyter-widgets/base",
            "_model_module_version": "1.2.0",
            "_model_name": "LayoutModel",
            "_view_count": null,
            "_view_module": "@jupyter-widgets/base",
            "_view_module_version": "1.2.0",
            "_view_name": "LayoutView",
            "align_content": null,
            "align_items": null,
            "align_self": null,
            "border": null,
            "bottom": null,
            "display": null,
            "flex": null,
            "flex_flow": null,
            "grid_area": null,
            "grid_auto_columns": null,
            "grid_auto_flow": null,
            "grid_auto_rows": null,
            "grid_column": null,
            "grid_gap": null,
            "grid_row": null,
            "grid_template_areas": null,
            "grid_template_columns": null,
            "grid_template_rows": null,
            "height": null,
            "justify_content": null,
            "justify_items": null,
            "left": null,
            "margin": null,
            "max_height": null,
            "max_width": null,
            "min_height": null,
            "min_width": null,
            "object_fit": null,
            "object_position": null,
            "order": null,
            "overflow": null,
            "overflow_x": null,
            "overflow_y": null,
            "padding": null,
            "right": null,
            "top": null,
            "visibility": null,
            "width": null
          }
        },
        "291ca939b7f34fda9cbe1e3574549210": {
          "model_module": "@jupyter-widgets/controls",
          "model_module_version": "1.5.0",
          "model_name": "HBoxModel",
          "state": {
            "_dom_classes": [],
            "_model_module": "@jupyter-widgets/controls",
            "_model_module_version": "1.5.0",
            "_model_name": "HBoxModel",
            "_view_count": null,
            "_view_module": "@jupyter-widgets/controls",
            "_view_module_version": "1.5.0",
            "_view_name": "HBoxView",
            "box_style": "",
            "children": [
              "IPY_MODEL_53bdb588581c47fe9b90fad76f4b5332",
              "IPY_MODEL_1e68c4c112f4414ca9bd3d7f2f05cedc",
              "IPY_MODEL_a0d2825a05794ebc8775a3e2611472f0"
            ],
            "layout": "IPY_MODEL_854c3bd297b64687bd595d131c5c05a7"
          }
        },
        "53bdb588581c47fe9b90fad76f4b5332": {
          "model_module": "@jupyter-widgets/controls",
          "model_module_version": "1.5.0",
          "model_name": "HTMLModel",
          "state": {
            "_dom_classes": [],
            "_model_module": "@jupyter-widgets/controls",
            "_model_module_version": "1.5.0",
            "_model_name": "HTMLModel",
            "_view_count": null,
            "_view_module": "@jupyter-widgets/controls",
            "_view_module_version": "1.5.0",
            "_view_name": "HTMLView",
            "description": "",
            "description_tooltip": null,
            "layout": "IPY_MODEL_d51aca3b330742fe9da5714aedbcd746",
            "placeholder": "​",
            "style": "IPY_MODEL_fa284c9715894e3d8ed6a81752c171bd",
            "value": "Evaluating: 100%"
          }
        },
        "603aafd2391548a0bc82b6ba7d89e31b": {
          "model_module": "@jupyter-widgets/base",
          "model_module_version": "1.2.0",
          "model_name": "LayoutModel",
          "state": {
            "_model_module": "@jupyter-widgets/base",
            "_model_module_version": "1.2.0",
            "_model_name": "LayoutModel",
            "_view_count": null,
            "_view_module": "@jupyter-widgets/base",
            "_view_module_version": "1.2.0",
            "_view_name": "LayoutView",
            "align_content": null,
            "align_items": null,
            "align_self": null,
            "border": null,
            "bottom": null,
            "display": null,
            "flex": null,
            "flex_flow": null,
            "grid_area": null,
            "grid_auto_columns": null,
            "grid_auto_flow": null,
            "grid_auto_rows": null,
            "grid_column": null,
            "grid_gap": null,
            "grid_row": null,
            "grid_template_areas": null,
            "grid_template_columns": null,
            "grid_template_rows": null,
            "height": null,
            "justify_content": null,
            "justify_items": null,
            "left": null,
            "margin": null,
            "max_height": null,
            "max_width": null,
            "min_height": null,
            "min_width": null,
            "object_fit": null,
            "object_position": null,
            "order": null,
            "overflow": null,
            "overflow_x": null,
            "overflow_y": null,
            "padding": null,
            "right": null,
            "top": null,
            "visibility": null,
            "width": null
          }
        },
        "6454b6add49f485b92f329e68076f213": {
          "model_module": "@jupyter-widgets/controls",
          "model_module_version": "1.5.0",
          "model_name": "HBoxModel",
          "state": {
            "_dom_classes": [],
            "_model_module": "@jupyter-widgets/controls",
            "_model_module_version": "1.5.0",
            "_model_name": "HBoxModel",
            "_view_count": null,
            "_view_module": "@jupyter-widgets/controls",
            "_view_module_version": "1.5.0",
            "_view_name": "HBoxView",
            "box_style": "",
            "children": [
              "IPY_MODEL_b19aabf15de441bc8a9bf3547f47d9d6",
              "IPY_MODEL_8d3dceb9248048b6b5eda2d355e1bd99",
              "IPY_MODEL_7d70a7b421264f3dbaa3d9589af262dc"
            ],
            "layout": "IPY_MODEL_25465288ec544a27916c8e48f69894a4"
          }
        },
        "6654c3424838448785fce3c202d7ccf3": {
          "model_module": "@jupyter-widgets/base",
          "model_module_version": "1.2.0",
          "model_name": "LayoutModel",
          "state": {
            "_model_module": "@jupyter-widgets/base",
            "_model_module_version": "1.2.0",
            "_model_name": "LayoutModel",
            "_view_count": null,
            "_view_module": "@jupyter-widgets/base",
            "_view_module_version": "1.2.0",
            "_view_name": "LayoutView",
            "align_content": null,
            "align_items": null,
            "align_self": null,
            "border": null,
            "bottom": null,
            "display": null,
            "flex": null,
            "flex_flow": null,
            "grid_area": null,
            "grid_auto_columns": null,
            "grid_auto_flow": null,
            "grid_auto_rows": null,
            "grid_column": null,
            "grid_gap": null,
            "grid_row": null,
            "grid_template_areas": null,
            "grid_template_columns": null,
            "grid_template_rows": null,
            "height": null,
            "justify_content": null,
            "justify_items": null,
            "left": null,
            "margin": null,
            "max_height": null,
            "max_width": null,
            "min_height": null,
            "min_width": null,
            "object_fit": null,
            "object_position": null,
            "order": null,
            "overflow": null,
            "overflow_x": null,
            "overflow_y": null,
            "padding": null,
            "right": null,
            "top": null,
            "visibility": null,
            "width": null
          }
        },
        "6d7bfa5929374f1daa994e8ad4354997": {
          "model_module": "@jupyter-widgets/controls",
          "model_module_version": "1.5.0",
          "model_name": "ProgressStyleModel",
          "state": {
            "_model_module": "@jupyter-widgets/controls",
            "_model_module_version": "1.5.0",
            "_model_name": "ProgressStyleModel",
            "_view_count": null,
            "_view_module": "@jupyter-widgets/base",
            "_view_module_version": "1.2.0",
            "_view_name": "StyleView",
            "bar_color": null,
            "description_width": ""
          }
        },
        "73ffcaf62aef4f9d84e9024af9a51038": {
          "model_module": "@jupyter-widgets/controls",
          "model_module_version": "1.5.0",
          "model_name": "ProgressStyleModel",
          "state": {
            "_model_module": "@jupyter-widgets/controls",
            "_model_module_version": "1.5.0",
            "_model_name": "ProgressStyleModel",
            "_view_count": null,
            "_view_module": "@jupyter-widgets/base",
            "_view_module_version": "1.2.0",
            "_view_name": "StyleView",
            "bar_color": null,
            "description_width": ""
          }
        },
        "7d70a7b421264f3dbaa3d9589af262dc": {
          "model_module": "@jupyter-widgets/controls",
          "model_module_version": "1.5.0",
          "model_name": "HTMLModel",
          "state": {
            "_dom_classes": [],
            "_model_module": "@jupyter-widgets/controls",
            "_model_module_version": "1.5.0",
            "_model_name": "HTMLModel",
            "_view_count": null,
            "_view_module": "@jupyter-widgets/controls",
            "_view_module_version": "1.5.0",
            "_view_name": "HTMLView",
            "description": "",
            "description_tooltip": null,
            "layout": "IPY_MODEL_b99c881656fc401fa4949d6ba7536920",
            "placeholder": "​",
            "style": "IPY_MODEL_08bfdbc3133845e0aeebedf7cf45844b",
            "value": " 1/1 [00:11&lt;00:00, 11.58s/ Dicts]"
          }
        },
        "834b34524afa4bcdab207abeab4f50ee": {
          "model_module": "@jupyter-widgets/controls",
          "model_module_version": "1.5.0",
          "model_name": "HTMLModel",
          "state": {
            "_dom_classes": [],
            "_model_module": "@jupyter-widgets/controls",
            "_model_module_version": "1.5.0",
            "_model_name": "HTMLModel",
            "_view_count": null,
            "_view_module": "@jupyter-widgets/controls",
            "_view_module_version": "1.5.0",
            "_view_name": "HTMLView",
            "description": "",
            "description_tooltip": null,
            "layout": "IPY_MODEL_6654c3424838448785fce3c202d7ccf3",
            "placeholder": "​",
            "style": "IPY_MODEL_b5e8e36e61f54abeb73d8cf484bd0365",
            "value": " 1/1 [00:40&lt;00:00, 40.27s/ Dicts]"
          }
        },
        "854c3bd297b64687bd595d131c5c05a7": {
          "model_module": "@jupyter-widgets/base",
          "model_module_version": "1.2.0",
          "model_name": "LayoutModel",
          "state": {
            "_model_module": "@jupyter-widgets/base",
            "_model_module_version": "1.2.0",
            "_model_name": "LayoutModel",
            "_view_count": null,
            "_view_module": "@jupyter-widgets/base",
            "_view_module_version": "1.2.0",
            "_view_name": "LayoutView",
            "align_content": null,
            "align_items": null,
            "align_self": null,
            "border": null,
            "bottom": null,
            "display": null,
            "flex": null,
            "flex_flow": null,
            "grid_area": null,
            "grid_auto_columns": null,
            "grid_auto_flow": null,
            "grid_auto_rows": null,
            "grid_column": null,
            "grid_gap": null,
            "grid_row": null,
            "grid_template_areas": null,
            "grid_template_columns": null,
            "grid_template_rows": null,
            "height": null,
            "justify_content": null,
            "justify_items": null,
            "left": null,
            "margin": null,
            "max_height": null,
            "max_width": null,
            "min_height": null,
            "min_width": null,
            "object_fit": null,
            "object_position": null,
            "order": null,
            "overflow": null,
            "overflow_x": null,
            "overflow_y": null,
            "padding": null,
            "right": null,
            "top": null,
            "visibility": null,
            "width": null
          }
        },
        "877b0fb672ab45929481902214081b27": {
          "model_module": "@jupyter-widgets/base",
          "model_module_version": "1.2.0",
          "model_name": "LayoutModel",
          "state": {
            "_model_module": "@jupyter-widgets/base",
            "_model_module_version": "1.2.0",
            "_model_name": "LayoutModel",
            "_view_count": null,
            "_view_module": "@jupyter-widgets/base",
            "_view_module_version": "1.2.0",
            "_view_name": "LayoutView",
            "align_content": null,
            "align_items": null,
            "align_self": null,
            "border": null,
            "bottom": null,
            "display": null,
            "flex": null,
            "flex_flow": null,
            "grid_area": null,
            "grid_auto_columns": null,
            "grid_auto_flow": null,
            "grid_auto_rows": null,
            "grid_column": null,
            "grid_gap": null,
            "grid_row": null,
            "grid_template_areas": null,
            "grid_template_columns": null,
            "grid_template_rows": null,
            "height": null,
            "justify_content": null,
            "justify_items": null,
            "left": null,
            "margin": null,
            "max_height": null,
            "max_width": null,
            "min_height": null,
            "min_width": null,
            "object_fit": null,
            "object_position": null,
            "order": null,
            "overflow": null,
            "overflow_x": null,
            "overflow_y": null,
            "padding": null,
            "right": null,
            "top": null,
            "visibility": null,
            "width": null
          }
        },
        "8d3dceb9248048b6b5eda2d355e1bd99": {
          "model_module": "@jupyter-widgets/controls",
          "model_module_version": "1.5.0",
          "model_name": "FloatProgressModel",
          "state": {
            "_dom_classes": [],
            "_model_module": "@jupyter-widgets/controls",
            "_model_module_version": "1.5.0",
            "_model_name": "FloatProgressModel",
            "_view_count": null,
            "_view_module": "@jupyter-widgets/controls",
            "_view_module_version": "1.5.0",
            "_view_name": "ProgressView",
            "bar_style": "success",
            "description": "",
            "description_tooltip": null,
            "layout": "IPY_MODEL_603aafd2391548a0bc82b6ba7d89e31b",
            "max": 1,
            "min": 0,
            "orientation": "horizontal",
            "style": "IPY_MODEL_73ffcaf62aef4f9d84e9024af9a51038",
            "value": 1
          }
        },
        "8db5e1d3fd5a4e0cb8b01c1cd2a7f141": {
          "model_module": "@jupyter-widgets/controls",
          "model_module_version": "1.5.0",
          "model_name": "FloatProgressModel",
          "state": {
            "_dom_classes": [],
            "_model_module": "@jupyter-widgets/controls",
            "_model_module_version": "1.5.0",
            "_model_name": "FloatProgressModel",
            "_view_count": null,
            "_view_module": "@jupyter-widgets/controls",
            "_view_module_version": "1.5.0",
            "_view_name": "ProgressView",
            "bar_style": "success",
            "description": "",
            "description_tooltip": null,
            "layout": "IPY_MODEL_94bd4f949e524e34b5133b6cffbfd6b9",
            "max": 1,
            "min": 0,
            "orientation": "horizontal",
            "style": "IPY_MODEL_6d7bfa5929374f1daa994e8ad4354997",
            "value": 1
          }
        },
        "94bd4f949e524e34b5133b6cffbfd6b9": {
          "model_module": "@jupyter-widgets/base",
          "model_module_version": "1.2.0",
          "model_name": "LayoutModel",
          "state": {
            "_model_module": "@jupyter-widgets/base",
            "_model_module_version": "1.2.0",
            "_model_name": "LayoutModel",
            "_view_count": null,
            "_view_module": "@jupyter-widgets/base",
            "_view_module_version": "1.2.0",
            "_view_name": "LayoutView",
            "align_content": null,
            "align_items": null,
            "align_self": null,
            "border": null,
            "bottom": null,
            "display": null,
            "flex": null,
            "flex_flow": null,
            "grid_area": null,
            "grid_auto_columns": null,
            "grid_auto_flow": null,
            "grid_auto_rows": null,
            "grid_column": null,
            "grid_gap": null,
            "grid_row": null,
            "grid_template_areas": null,
            "grid_template_columns": null,
            "grid_template_rows": null,
            "height": null,
            "justify_content": null,
            "justify_items": null,
            "left": null,
            "margin": null,
            "max_height": null,
            "max_width": null,
            "min_height": null,
            "min_width": null,
            "object_fit": null,
            "object_position": null,
            "order": null,
            "overflow": null,
            "overflow_x": null,
            "overflow_y": null,
            "padding": null,
            "right": null,
            "top": null,
            "visibility": null,
            "width": null
          }
        },
        "a0d2825a05794ebc8775a3e2611472f0": {
          "model_module": "@jupyter-widgets/controls",
          "model_module_version": "1.5.0",
          "model_name": "HTMLModel",
          "state": {
            "_dom_classes": [],
            "_model_module": "@jupyter-widgets/controls",
            "_model_module_version": "1.5.0",
            "_model_name": "HTMLModel",
            "_view_count": null,
            "_view_module": "@jupyter-widgets/controls",
            "_view_module_version": "1.5.0",
            "_view_name": "HTMLView",
            "description": "",
            "description_tooltip": null,
            "layout": "IPY_MODEL_a9cb7e74257f4ac092c173e206df6341",
            "placeholder": "​",
            "style": "IPY_MODEL_a855bbc34b834675b23740a03730eaec",
            "value": " 1493/1493 [06:04&lt;00:00,  4.09it/s]"
          }
        },
        "a35c7423a46e49c398e5078994d117d1": {
          "model_module": "@jupyter-widgets/base",
          "model_module_version": "1.2.0",
          "model_name": "LayoutModel",
          "state": {
            "_model_module": "@jupyter-widgets/base",
            "_model_module_version": "1.2.0",
            "_model_name": "LayoutModel",
            "_view_count": null,
            "_view_module": "@jupyter-widgets/base",
            "_view_module_version": "1.2.0",
            "_view_name": "LayoutView",
            "align_content": null,
            "align_items": null,
            "align_self": null,
            "border": null,
            "bottom": null,
            "display": null,
            "flex": null,
            "flex_flow": null,
            "grid_area": null,
            "grid_auto_columns": null,
            "grid_auto_flow": null,
            "grid_auto_rows": null,
            "grid_column": null,
            "grid_gap": null,
            "grid_row": null,
            "grid_template_areas": null,
            "grid_template_columns": null,
            "grid_template_rows": null,
            "height": null,
            "justify_content": null,
            "justify_items": null,
            "left": null,
            "margin": null,
            "max_height": null,
            "max_width": null,
            "min_height": null,
            "min_width": null,
            "object_fit": null,
            "object_position": null,
            "order": null,
            "overflow": null,
            "overflow_x": null,
            "overflow_y": null,
            "padding": null,
            "right": null,
            "top": null,
            "visibility": null,
            "width": null
          }
        },
        "a855bbc34b834675b23740a03730eaec": {
          "model_module": "@jupyter-widgets/controls",
          "model_module_version": "1.5.0",
          "model_name": "DescriptionStyleModel",
          "state": {
            "_model_module": "@jupyter-widgets/controls",
            "_model_module_version": "1.5.0",
            "_model_name": "DescriptionStyleModel",
            "_view_count": null,
            "_view_module": "@jupyter-widgets/base",
            "_view_module_version": "1.2.0",
            "_view_name": "StyleView",
            "description_width": ""
          }
        },
        "a9cb7e74257f4ac092c173e206df6341": {
          "model_module": "@jupyter-widgets/base",
          "model_module_version": "1.2.0",
          "model_name": "LayoutModel",
          "state": {
            "_model_module": "@jupyter-widgets/base",
            "_model_module_version": "1.2.0",
            "_model_name": "LayoutModel",
            "_view_count": null,
            "_view_module": "@jupyter-widgets/base",
            "_view_module_version": "1.2.0",
            "_view_name": "LayoutView",
            "align_content": null,
            "align_items": null,
            "align_self": null,
            "border": null,
            "bottom": null,
            "display": null,
            "flex": null,
            "flex_flow": null,
            "grid_area": null,
            "grid_auto_columns": null,
            "grid_auto_flow": null,
            "grid_auto_rows": null,
            "grid_column": null,
            "grid_gap": null,
            "grid_row": null,
            "grid_template_areas": null,
            "grid_template_columns": null,
            "grid_template_rows": null,
            "height": null,
            "justify_content": null,
            "justify_items": null,
            "left": null,
            "margin": null,
            "max_height": null,
            "max_width": null,
            "min_height": null,
            "min_width": null,
            "object_fit": null,
            "object_position": null,
            "order": null,
            "overflow": null,
            "overflow_x": null,
            "overflow_y": null,
            "padding": null,
            "right": null,
            "top": null,
            "visibility": null,
            "width": null
          }
        },
        "b19aabf15de441bc8a9bf3547f47d9d6": {
          "model_module": "@jupyter-widgets/controls",
          "model_module_version": "1.5.0",
          "model_name": "HTMLModel",
          "state": {
            "_dom_classes": [],
            "_model_module": "@jupyter-widgets/controls",
            "_model_module_version": "1.5.0",
            "_model_name": "HTMLModel",
            "_view_count": null,
            "_view_module": "@jupyter-widgets/controls",
            "_view_module_version": "1.5.0",
            "_view_name": "HTMLView",
            "description": "",
            "description_tooltip": null,
            "layout": "IPY_MODEL_f4d818fb81e242ffb901eadfd2f7c22d",
            "placeholder": "​",
            "style": "IPY_MODEL_131d35acbf3243f080a354d73275de1f",
            "value": "Preprocessing dataset: 100%"
          }
        },
        "b5e8e36e61f54abeb73d8cf484bd0365": {
          "model_module": "@jupyter-widgets/controls",
          "model_module_version": "1.5.0",
          "model_name": "DescriptionStyleModel",
          "state": {
            "_model_module": "@jupyter-widgets/controls",
            "_model_module_version": "1.5.0",
            "_model_name": "DescriptionStyleModel",
            "_view_count": null,
            "_view_module": "@jupyter-widgets/base",
            "_view_module_version": "1.2.0",
            "_view_name": "StyleView",
            "description_width": ""
          }
        },
        "b99c881656fc401fa4949d6ba7536920": {
          "model_module": "@jupyter-widgets/base",
          "model_module_version": "1.2.0",
          "model_name": "LayoutModel",
          "state": {
            "_model_module": "@jupyter-widgets/base",
            "_model_module_version": "1.2.0",
            "_model_name": "LayoutModel",
            "_view_count": null,
            "_view_module": "@jupyter-widgets/base",
            "_view_module_version": "1.2.0",
            "_view_name": "LayoutView",
            "align_content": null,
            "align_items": null,
            "align_self": null,
            "border": null,
            "bottom": null,
            "display": null,
            "flex": null,
            "flex_flow": null,
            "grid_area": null,
            "grid_auto_columns": null,
            "grid_auto_flow": null,
            "grid_auto_rows": null,
            "grid_column": null,
            "grid_gap": null,
            "grid_row": null,
            "grid_template_areas": null,
            "grid_template_columns": null,
            "grid_template_rows": null,
            "height": null,
            "justify_content": null,
            "justify_items": null,
            "left": null,
            "margin": null,
            "max_height": null,
            "max_width": null,
            "min_height": null,
            "min_width": null,
            "object_fit": null,
            "object_position": null,
            "order": null,
            "overflow": null,
            "overflow_x": null,
            "overflow_y": null,
            "padding": null,
            "right": null,
            "top": null,
            "visibility": null,
            "width": null
          }
        },
        "be5f85116f0f47ea8802e8f1bf799795": {
          "model_module": "@jupyter-widgets/controls",
          "model_module_version": "1.5.0",
          "model_name": "ProgressStyleModel",
          "state": {
            "_model_module": "@jupyter-widgets/controls",
            "_model_module_version": "1.5.0",
            "_model_name": "ProgressStyleModel",
            "_view_count": null,
            "_view_module": "@jupyter-widgets/base",
            "_view_module_version": "1.2.0",
            "_view_name": "StyleView",
            "bar_color": null,
            "description_width": ""
          }
        },
        "d51aca3b330742fe9da5714aedbcd746": {
          "model_module": "@jupyter-widgets/base",
          "model_module_version": "1.2.0",
          "model_name": "LayoutModel",
          "state": {
            "_model_module": "@jupyter-widgets/base",
            "_model_module_version": "1.2.0",
            "_model_name": "LayoutModel",
            "_view_count": null,
            "_view_module": "@jupyter-widgets/base",
            "_view_module_version": "1.2.0",
            "_view_name": "LayoutView",
            "align_content": null,
            "align_items": null,
            "align_self": null,
            "border": null,
            "bottom": null,
            "display": null,
            "flex": null,
            "flex_flow": null,
            "grid_area": null,
            "grid_auto_columns": null,
            "grid_auto_flow": null,
            "grid_auto_rows": null,
            "grid_column": null,
            "grid_gap": null,
            "grid_row": null,
            "grid_template_areas": null,
            "grid_template_columns": null,
            "grid_template_rows": null,
            "height": null,
            "justify_content": null,
            "justify_items": null,
            "left": null,
            "margin": null,
            "max_height": null,
            "max_width": null,
            "min_height": null,
            "min_width": null,
            "object_fit": null,
            "object_position": null,
            "order": null,
            "overflow": null,
            "overflow_x": null,
            "overflow_y": null,
            "padding": null,
            "right": null,
            "top": null,
            "visibility": null,
            "width": null
          }
        },
        "ebba4ca178b743f2957c2a29ce16e6e4": {
          "model_module": "@jupyter-widgets/controls",
          "model_module_version": "1.5.0",
          "model_name": "HBoxModel",
          "state": {
            "_dom_classes": [],
            "_model_module": "@jupyter-widgets/controls",
            "_model_module_version": "1.5.0",
            "_model_name": "HBoxModel",
            "_view_count": null,
            "_view_module": "@jupyter-widgets/controls",
            "_view_module_version": "1.5.0",
            "_view_name": "HBoxView",
            "box_style": "",
            "children": [
              "IPY_MODEL_2130f2b4f51846f6b6b3a922f91c3660",
              "IPY_MODEL_8db5e1d3fd5a4e0cb8b01c1cd2a7f141",
              "IPY_MODEL_834b34524afa4bcdab207abeab4f50ee"
            ],
            "layout": "IPY_MODEL_02dadfe9c702479989ce6ba3c568f22c"
          }
        },
        "f4d818fb81e242ffb901eadfd2f7c22d": {
          "model_module": "@jupyter-widgets/base",
          "model_module_version": "1.2.0",
          "model_name": "LayoutModel",
          "state": {
            "_model_module": "@jupyter-widgets/base",
            "_model_module_version": "1.2.0",
            "_model_name": "LayoutModel",
            "_view_count": null,
            "_view_module": "@jupyter-widgets/base",
            "_view_module_version": "1.2.0",
            "_view_name": "LayoutView",
            "align_content": null,
            "align_items": null,
            "align_self": null,
            "border": null,
            "bottom": null,
            "display": null,
            "flex": null,
            "flex_flow": null,
            "grid_area": null,
            "grid_auto_columns": null,
            "grid_auto_flow": null,
            "grid_auto_rows": null,
            "grid_column": null,
            "grid_gap": null,
            "grid_row": null,
            "grid_template_areas": null,
            "grid_template_columns": null,
            "grid_template_rows": null,
            "height": null,
            "justify_content": null,
            "justify_items": null,
            "left": null,
            "margin": null,
            "max_height": null,
            "max_width": null,
            "min_height": null,
            "min_width": null,
            "object_fit": null,
            "object_position": null,
            "order": null,
            "overflow": null,
            "overflow_x": null,
            "overflow_y": null,
            "padding": null,
            "right": null,
            "top": null,
            "visibility": null,
            "width": null
          }
        },
        "fa284c9715894e3d8ed6a81752c171bd": {
          "model_module": "@jupyter-widgets/controls",
          "model_module_version": "1.5.0",
          "model_name": "DescriptionStyleModel",
          "state": {
            "_model_module": "@jupyter-widgets/controls",
            "_model_module_version": "1.5.0",
            "_model_name": "DescriptionStyleModel",
            "_view_count": null,
            "_view_module": "@jupyter-widgets/base",
            "_view_module_version": "1.2.0",
            "_view_name": "StyleView",
            "description_width": ""
          }
        }
      }
    }
  },
  "nbformat": 4,
  "nbformat_minor": 0
}